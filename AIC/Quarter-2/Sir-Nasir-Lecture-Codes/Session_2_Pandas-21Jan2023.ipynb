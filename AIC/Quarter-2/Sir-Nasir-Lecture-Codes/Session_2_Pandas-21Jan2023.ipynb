{
 "cells": [
  {
   "cell_type": "markdown",
   "id": "8ae22a84",
   "metadata": {},
   "source": [
    "# Pandas \n",
    "     - Data analysis library \n",
    "     - Series   Single Dimension\n",
    "     - Dataframe  Multidimensional"
   ]
  },
  {
   "cell_type": "code",
   "execution_count": 5,
   "id": "ba1757fe",
   "metadata": {},
   "outputs": [],
   "source": [
    "import pandas as pd"
   ]
  },
  {
   "cell_type": "markdown",
   "id": "e0889723",
   "metadata": {},
   "source": [
    "# Series"
   ]
  },
  {
   "cell_type": "code",
   "execution_count": 7,
   "id": "f2603173",
   "metadata": {},
   "outputs": [],
   "source": [
    "s1 = pd.Series([1,2,3,4])"
   ]
  },
  {
   "cell_type": "code",
   "execution_count": 8,
   "id": "86fe1d91",
   "metadata": {},
   "outputs": [
    {
     "data": {
      "text/plain": [
       "pandas.core.series.Series"
      ]
     },
     "execution_count": 8,
     "metadata": {},
     "output_type": "execute_result"
    }
   ],
   "source": [
    "type(s1)"
   ]
  },
  {
   "cell_type": "code",
   "execution_count": 9,
   "id": "5787734b",
   "metadata": {},
   "outputs": [
    {
     "name": "stdout",
     "output_type": "stream",
     "text": [
      "0    1\n",
      "1    2\n",
      "2    3\n",
      "3    4\n",
      "dtype: int64\n"
     ]
    }
   ],
   "source": [
    "print(s1)"
   ]
  },
  {
   "cell_type": "code",
   "execution_count": 10,
   "id": "00c99eaa",
   "metadata": {},
   "outputs": [
    {
     "data": {
      "text/plain": [
       "RangeIndex(start=0, stop=4, step=1)"
      ]
     },
     "execution_count": 10,
     "metadata": {},
     "output_type": "execute_result"
    }
   ],
   "source": [
    "s1.index"
   ]
  },
  {
   "cell_type": "code",
   "execution_count": 11,
   "id": "09c0c42f",
   "metadata": {},
   "outputs": [
    {
     "data": {
      "text/plain": [
       "array([1, 2, 3, 4], dtype=int64)"
      ]
     },
     "execution_count": 11,
     "metadata": {},
     "output_type": "execute_result"
    }
   ],
   "source": [
    "s1.values"
   ]
  },
  {
   "cell_type": "code",
   "execution_count": 12,
   "id": "9ecaac8f",
   "metadata": {},
   "outputs": [],
   "source": [
    "s1.index = [\"one\", 'two','three','four']"
   ]
  },
  {
   "cell_type": "code",
   "execution_count": 13,
   "id": "4f464d29",
   "metadata": {},
   "outputs": [
    {
     "data": {
      "text/plain": [
       "one      1\n",
       "two      2\n",
       "three    3\n",
       "four     4\n",
       "dtype: int64"
      ]
     },
     "execution_count": 13,
     "metadata": {},
     "output_type": "execute_result"
    }
   ],
   "source": [
    "s1"
   ]
  },
  {
   "cell_type": "code",
   "execution_count": 14,
   "id": "c90a2ee3",
   "metadata": {},
   "outputs": [
    {
     "data": {
      "text/plain": [
       "1"
      ]
     },
     "execution_count": 14,
     "metadata": {},
     "output_type": "execute_result"
    }
   ],
   "source": [
    "s1['one']"
   ]
  },
  {
   "cell_type": "code",
   "execution_count": 15,
   "id": "a4e5cb9a",
   "metadata": {},
   "outputs": [
    {
     "data": {
      "text/plain": [
       "Index(['one', 'two', 'three', 'four'], dtype='object')"
      ]
     },
     "execution_count": 15,
     "metadata": {},
     "output_type": "execute_result"
    }
   ],
   "source": [
    "s1.index"
   ]
  },
  {
   "cell_type": "code",
   "execution_count": 16,
   "id": "6aa8a400",
   "metadata": {},
   "outputs": [
    {
     "data": {
      "text/plain": [
       "1"
      ]
     },
     "execution_count": 16,
     "metadata": {},
     "output_type": "execute_result"
    }
   ],
   "source": [
    "s1[0]"
   ]
  },
  {
   "cell_type": "code",
   "execution_count": 27,
   "id": "b37b07e2",
   "metadata": {},
   "outputs": [
    {
     "data": {
      "text/plain": [
       "apples      22\n",
       "oranges     33\n",
       "bananas     44\n",
       "gauvas      55\n",
       "two        100\n",
       "dtype: int64"
      ]
     },
     "execution_count": 27,
     "metadata": {},
     "output_type": "execute_result"
    }
   ],
   "source": [
    "s2= pd.Series([22,33,44,55,100], index=['apples', 'oranges','bananas','gauvas', 'two'])\n",
    "s2"
   ]
  },
  {
   "cell_type": "code",
   "execution_count": 28,
   "id": "4461a92e",
   "metadata": {},
   "outputs": [],
   "source": [
    "s1  = s1*10"
   ]
  },
  {
   "cell_type": "code",
   "execution_count": 29,
   "id": "ae202575",
   "metadata": {},
   "outputs": [
    {
     "data": {
      "text/plain": [
       "one      100\n",
       "two      200\n",
       "three    300\n",
       "four     400\n",
       "dtype: int64"
      ]
     },
     "execution_count": 29,
     "metadata": {},
     "output_type": "execute_result"
    }
   ],
   "source": [
    "s1"
   ]
  },
  {
   "cell_type": "code",
   "execution_count": 30,
   "id": "b59991f9",
   "metadata": {},
   "outputs": [
    {
     "data": {
      "text/plain": [
       "apples      22\n",
       "oranges     33\n",
       "bananas     44\n",
       "gauvas      55\n",
       "two        100\n",
       "dtype: int64"
      ]
     },
     "execution_count": 30,
     "metadata": {},
     "output_type": "execute_result"
    }
   ],
   "source": [
    "s2"
   ]
  },
  {
   "cell_type": "code",
   "execution_count": 31,
   "id": "276af5d2",
   "metadata": {},
   "outputs": [
    {
     "data": {
      "text/plain": [
       "apples       NaN\n",
       "bananas      NaN\n",
       "four         NaN\n",
       "gauvas       NaN\n",
       "one          NaN\n",
       "oranges      NaN\n",
       "three        NaN\n",
       "two        300.0\n",
       "dtype: float64"
      ]
     },
     "execution_count": 31,
     "metadata": {},
     "output_type": "execute_result"
    }
   ],
   "source": [
    "s1  + s2 "
   ]
  },
  {
   "cell_type": "code",
   "execution_count": 32,
   "id": "928c9d07",
   "metadata": {},
   "outputs": [
    {
     "data": {
      "text/plain": [
       "0    0\n",
       "1    1\n",
       "2    2\n",
       "3    3\n",
       "4    4\n",
       "5    5\n",
       "6    6\n",
       "7    7\n",
       "8    8\n",
       "9    9\n",
       "dtype: int64"
      ]
     },
     "execution_count": 32,
     "metadata": {},
     "output_type": "execute_result"
    }
   ],
   "source": [
    "s3 = pd.Series(range(10))\n",
    "s3"
   ]
  },
  {
   "cell_type": "code",
   "execution_count": 35,
   "id": "99fc26b1",
   "metadata": {},
   "outputs": [
    {
     "data": {
      "text/plain": [
       "0     10\n",
       "1     11\n",
       "2     12\n",
       "3     13\n",
       "4     14\n",
       "5     15\n",
       "6     16\n",
       "7     17\n",
       "8     18\n",
       "9     19\n",
       "10    20\n",
       "dtype: int64"
      ]
     },
     "execution_count": 35,
     "metadata": {},
     "output_type": "execute_result"
    }
   ],
   "source": [
    "s4 = pd.Series(range(10,21))\n",
    "s4"
   ]
  },
  {
   "cell_type": "code",
   "execution_count": 36,
   "id": "98185426",
   "metadata": {},
   "outputs": [
    {
     "data": {
      "text/plain": [
       "0     10.0\n",
       "1     12.0\n",
       "2     14.0\n",
       "3     16.0\n",
       "4     18.0\n",
       "5     20.0\n",
       "6     22.0\n",
       "7     24.0\n",
       "8     26.0\n",
       "9     28.0\n",
       "10     NaN\n",
       "dtype: float64"
      ]
     },
     "execution_count": 36,
     "metadata": {},
     "output_type": "execute_result"
    }
   ],
   "source": [
    "s3+ s4"
   ]
  },
  {
   "cell_type": "code",
   "execution_count": 38,
   "id": "131cad8d",
   "metadata": {},
   "outputs": [
    {
     "data": {
      "text/plain": [
       "array([0, 1, 2, 3, 4])"
      ]
     },
     "execution_count": 38,
     "metadata": {},
     "output_type": "execute_result"
    }
   ],
   "source": [
    "import numpy as np\n",
    "arr1 = np.arange(5)\n",
    "arr1"
   ]
  },
  {
   "cell_type": "code",
   "execution_count": 39,
   "id": "4702f118",
   "metadata": {},
   "outputs": [],
   "source": [
    "arr2 = np.arange(6)"
   ]
  },
  {
   "cell_type": "code",
   "execution_count": 40,
   "id": "3acd540b",
   "metadata": {},
   "outputs": [
    {
     "ename": "ValueError",
     "evalue": "operands could not be broadcast together with shapes (5,) (6,) ",
     "output_type": "error",
     "traceback": [
      "\u001b[1;31m---------------------------------------------------------------------------\u001b[0m",
      "\u001b[1;31mValueError\u001b[0m                                Traceback (most recent call last)",
      "\u001b[1;32m<ipython-input-40-e489ba1ad4d1>\u001b[0m in \u001b[0;36m<module>\u001b[1;34m\u001b[0m\n\u001b[1;32m----> 1\u001b[1;33m \u001b[0marr1\u001b[0m\u001b[1;33m+\u001b[0m\u001b[0marr2\u001b[0m\u001b[1;33m\u001b[0m\u001b[1;33m\u001b[0m\u001b[0m\n\u001b[0m",
      "\u001b[1;31mValueError\u001b[0m: operands could not be broadcast together with shapes (5,) (6,) "
     ]
    }
   ],
   "source": [
    "arr1+arr2"
   ]
  },
  {
   "cell_type": "code",
   "execution_count": 44,
   "id": "84dde518",
   "metadata": {},
   "outputs": [
    {
     "data": {
      "text/plain": [
       "apples      22\n",
       "oranges     33\n",
       "bananas     44\n",
       "gauvas      55\n",
       "two        100\n",
       "dtype: int64"
      ]
     },
     "execution_count": 44,
     "metadata": {},
     "output_type": "execute_result"
    }
   ],
   "source": [
    "s2"
   ]
  },
  {
   "cell_type": "code",
   "execution_count": 45,
   "id": "02d91982",
   "metadata": {},
   "outputs": [
    {
     "data": {
      "text/plain": [
       "bananas    44\n",
       "gauvas     55\n",
       "dtype: int64"
      ]
     },
     "execution_count": 45,
     "metadata": {},
     "output_type": "execute_result"
    }
   ],
   "source": [
    "s2[2:4]"
   ]
  },
  {
   "cell_type": "code",
   "execution_count": 46,
   "id": "e32825ce",
   "metadata": {},
   "outputs": [
    {
     "data": {
      "text/plain": [
       "oranges    33\n",
       "bananas    44\n",
       "gauvas     55\n",
       "dtype: int64"
      ]
     },
     "execution_count": 46,
     "metadata": {},
     "output_type": "execute_result"
    }
   ],
   "source": [
    "s2['oranges':'gauvas']"
   ]
  },
  {
   "cell_type": "code",
   "execution_count": 47,
   "id": "9c576695",
   "metadata": {},
   "outputs": [],
   "source": [
    "s2[2:4] = 23"
   ]
  },
  {
   "cell_type": "code",
   "execution_count": 48,
   "id": "a7ef8936",
   "metadata": {},
   "outputs": [
    {
     "data": {
      "text/plain": [
       "apples      22\n",
       "oranges     33\n",
       "bananas     23\n",
       "gauvas      23\n",
       "two        100\n",
       "dtype: int64"
      ]
     },
     "execution_count": 48,
     "metadata": {},
     "output_type": "execute_result"
    }
   ],
   "source": [
    "s2"
   ]
  },
  {
   "cell_type": "markdown",
   "id": "69301644",
   "metadata": {},
   "source": [
    "# Lambda Functions : Anonymous Functions (IIF)"
   ]
  },
  {
   "cell_type": "code",
   "execution_count": 75,
   "id": "13152cbe",
   "metadata": {},
   "outputs": [],
   "source": [
    "new = pd.Series([99, 100, 89, 50 ,45,30], index=['Ahmed', 'Ali', 'Faisal', 'Hassan', 'Aqsa', 'Waji'])"
   ]
  },
  {
   "cell_type": "code",
   "execution_count": 76,
   "id": "70bff3a9",
   "metadata": {},
   "outputs": [
    {
     "data": {
      "text/plain": [
       "Ahmed      99\n",
       "Ali       100\n",
       "Faisal     89\n",
       "Hassan     50\n",
       "Aqsa       45\n",
       "Waji       30\n",
       "dtype: int64"
      ]
     },
     "execution_count": 76,
     "metadata": {},
     "output_type": "execute_result"
    }
   ],
   "source": [
    "new"
   ]
  },
  {
   "cell_type": "code",
   "execution_count": 53,
   "id": "b66941a1",
   "metadata": {},
   "outputs": [],
   "source": [
    "def myfunc(marks):\n",
    "    return marks/100"
   ]
  },
  {
   "cell_type": "code",
   "execution_count": 72,
   "id": "0716e161",
   "metadata": {},
   "outputs": [],
   "source": [
    "new = new.apply(myfunc)"
   ]
  },
  {
   "cell_type": "code",
   "execution_count": 81,
   "id": "e703508b",
   "metadata": {},
   "outputs": [],
   "source": [
    "new = new.apply(lambda x: np.where(x>40, \"Pass\", \"Fail\"))"
   ]
  },
  {
   "cell_type": "code",
   "execution_count": 58,
   "id": "be570ea6",
   "metadata": {},
   "outputs": [
    {
     "data": {
      "text/plain": [
       "one      100\n",
       "two      200\n",
       "three    300\n",
       "four     400\n",
       "dtype: int64"
      ]
     },
     "execution_count": 58,
     "metadata": {},
     "output_type": "execute_result"
    }
   ],
   "source": [
    "s1"
   ]
  },
  {
   "cell_type": "code",
   "execution_count": 59,
   "id": "3f16bd72",
   "metadata": {},
   "outputs": [
    {
     "data": {
      "text/plain": [
       "apples      22\n",
       "oranges     33\n",
       "bananas     23\n",
       "gauvas      23\n",
       "two        100\n",
       "dtype: int64"
      ]
     },
     "execution_count": 59,
     "metadata": {},
     "output_type": "execute_result"
    }
   ],
   "source": [
    "s2"
   ]
  },
  {
   "cell_type": "code",
   "execution_count": 60,
   "id": "c24c96d2",
   "metadata": {},
   "outputs": [
    {
     "data": {
      "text/plain": [
       "apples       NaN\n",
       "bananas      NaN\n",
       "four         NaN\n",
       "gauvas       NaN\n",
       "one          NaN\n",
       "oranges      NaN\n",
       "three        NaN\n",
       "two        300.0\n",
       "dtype: float64"
      ]
     },
     "execution_count": 60,
     "metadata": {},
     "output_type": "execute_result"
    }
   ],
   "source": [
    "s1 + s2"
   ]
  },
  {
   "cell_type": "code",
   "execution_count": 61,
   "id": "70e8a87b",
   "metadata": {},
   "outputs": [
    {
     "data": {
      "text/plain": [
       "Index(['apples', 'oranges', 'bananas', 'gauvas', 'two'], dtype='object')"
      ]
     },
     "execution_count": 61,
     "metadata": {},
     "output_type": "execute_result"
    }
   ],
   "source": [
    "s2.index"
   ]
  },
  {
   "cell_type": "code",
   "execution_count": 64,
   "id": "d6487e67",
   "metadata": {},
   "outputs": [
    {
     "data": {
      "text/plain": [
       "apples     1\n",
       "oranges    2\n",
       "bananas    3\n",
       "gauvas     4\n",
       "two        5\n",
       "dtype: int64"
      ]
     },
     "execution_count": 64,
     "metadata": {},
     "output_type": "execute_result"
    }
   ],
   "source": [
    "s5 = pd.Series([1,2,3,4,5],index=s2.index)\n",
    "s5"
   ]
  },
  {
   "cell_type": "code",
   "execution_count": 67,
   "id": "66f39700",
   "metadata": {},
   "outputs": [
    {
     "data": {
      "text/plain": [
       "apples     100\n",
       "oranges    100\n",
       "bananas    100\n",
       "gauvas     100\n",
       "two        100\n",
       "dtype: int64"
      ]
     },
     "execution_count": 67,
     "metadata": {},
     "output_type": "execute_result"
    }
   ],
   "source": [
    "s6 = pd.Series(100,index=s2.index)\n",
    "s6"
   ]
  },
  {
   "cell_type": "code",
   "execution_count": 70,
   "id": "95a874ec",
   "metadata": {},
   "outputs": [
    {
     "data": {
      "text/plain": [
       "array([ 0.        ,  1.11111111,  2.22222222,  3.33333333,  4.44444444,\n",
       "        5.55555556,  6.66666667,  7.77777778,  8.88888889, 10.        ])"
      ]
     },
     "execution_count": 70,
     "metadata": {},
     "output_type": "execute_result"
    }
   ],
   "source": [
    "np.linspace(0,10,10)"
   ]
  },
  {
   "cell_type": "code",
   "execution_count": 78,
   "id": "2c37b7c5",
   "metadata": {},
   "outputs": [
    {
     "data": {
      "text/plain": [
       "6"
      ]
     },
     "execution_count": 78,
     "metadata": {},
     "output_type": "execute_result"
    }
   ],
   "source": [
    "new.count()"
   ]
  },
  {
   "cell_type": "code",
   "execution_count": 82,
   "id": "df76e7f2",
   "metadata": {},
   "outputs": [
    {
     "data": {
      "text/plain": [
       "Pass    5\n",
       "Fail    1\n",
       "dtype: int64"
      ]
     },
     "execution_count": 82,
     "metadata": {},
     "output_type": "execute_result"
    }
   ],
   "source": [
    "new.value_counts()"
   ]
  },
  {
   "cell_type": "code",
   "execution_count": 85,
   "id": "8914da0f",
   "metadata": {},
   "outputs": [
    {
     "data": {
      "text/plain": [
       "Ahmed    Pass\n",
       "Ali      Pass\n",
       "dtype: object"
      ]
     },
     "execution_count": 85,
     "metadata": {},
     "output_type": "execute_result"
    }
   ],
   "source": [
    "new[['Ahmed','Ali' ]]"
   ]
  },
  {
   "cell_type": "code",
   "execution_count": 88,
   "id": "0edbece3",
   "metadata": {},
   "outputs": [
    {
     "data": {
      "text/plain": [
       "0    1.0\n",
       "1    2.0\n",
       "2    3.0\n",
       "3    NaN\n",
       "4    NaN\n",
       "dtype: float64"
      ]
     },
     "execution_count": 88,
     "metadata": {},
     "output_type": "execute_result"
    }
   ],
   "source": [
    "s7 = pd.Series([1,2,3,np.nan, np.nan])\n",
    "s7"
   ]
  },
  {
   "cell_type": "code",
   "execution_count": 107,
   "id": "b367ff00",
   "metadata": {},
   "outputs": [],
   "source": [
    "np.random.seed(1)\n",
    "s1 = pd.Series(np.random.randn(3))\n",
    "s2 = pd.Series(np.random.randn(3))"
   ]
  },
  {
   "cell_type": "code",
   "execution_count": 108,
   "id": "c87b800e",
   "metadata": {},
   "outputs": [
    {
     "data": {
      "text/plain": [
       "0    1.624345\n",
       "1   -0.611756\n",
       "2   -0.528172\n",
       "dtype: float64"
      ]
     },
     "execution_count": 108,
     "metadata": {},
     "output_type": "execute_result"
    }
   ],
   "source": [
    "s1"
   ]
  },
  {
   "cell_type": "code",
   "execution_count": 91,
   "id": "4231c857",
   "metadata": {},
   "outputs": [
    {
     "data": {
      "text/plain": [
       "0   -1.135632\n",
       "1    1.212112\n",
       "2   -0.173215\n",
       "dtype: float64"
      ]
     },
     "execution_count": 91,
     "metadata": {},
     "output_type": "execute_result"
    }
   ],
   "source": [
    "s2"
   ]
  },
  {
   "cell_type": "code",
   "execution_count": 109,
   "id": "2d22e3bf",
   "metadata": {
    "scrolled": true
   },
   "outputs": [
    {
     "data": {
      "text/plain": [
       "0    1.624345\n",
       "1   -0.611756\n",
       "2   -0.528172\n",
       "0   -1.072969\n",
       "1    0.865408\n",
       "2   -2.301539\n",
       "dtype: float64"
      ]
     },
     "execution_count": 109,
     "metadata": {},
     "output_type": "execute_result"
    }
   ],
   "source": [
    "combined = pd.concat([s1, s2])\n",
    "combined"
   ]
  },
  {
   "cell_type": "code",
   "execution_count": 115,
   "id": "64d70a6a",
   "metadata": {},
   "outputs": [],
   "source": [
    "combined.reset_index(drop=True,inplace=True)"
   ]
  },
  {
   "cell_type": "code",
   "execution_count": 116,
   "id": "b56dfae7",
   "metadata": {},
   "outputs": [
    {
     "data": {
      "text/plain": [
       "0    1.624345\n",
       "1   -0.611756\n",
       "2   -0.528172\n",
       "3   -1.072969\n",
       "4    0.865408\n",
       "5   -2.301539\n",
       "dtype: float64"
      ]
     },
     "execution_count": 116,
     "metadata": {},
     "output_type": "execute_result"
    }
   ],
   "source": [
    "combined"
   ]
  },
  {
   "cell_type": "code",
   "execution_count": 117,
   "id": "ee1de276",
   "metadata": {},
   "outputs": [
    {
     "data": {
      "text/plain": [
       "0       1.624345\n",
       "1      -0.611756\n",
       "2      -0.528172\n",
       "3      -1.072969\n",
       "4    2345.000000\n",
       "5      -2.301539\n",
       "dtype: float64"
      ]
     },
     "execution_count": 117,
     "metadata": {},
     "output_type": "execute_result"
    }
   ],
   "source": [
    "combined[4] = 2345\n",
    "combined"
   ]
  },
  {
   "cell_type": "code",
   "execution_count": 118,
   "id": "0d6e2e03",
   "metadata": {},
   "outputs": [],
   "source": [
    "del combined[4]"
   ]
  },
  {
   "cell_type": "code",
   "execution_count": 119,
   "id": "eeaa7e26",
   "metadata": {},
   "outputs": [
    {
     "data": {
      "text/plain": [
       "0    1.624345\n",
       "1   -0.611756\n",
       "2   -0.528172\n",
       "3   -1.072969\n",
       "5   -2.301539\n",
       "dtype: float64"
      ]
     },
     "execution_count": 119,
     "metadata": {},
     "output_type": "execute_result"
    }
   ],
   "source": [
    "combined"
   ]
  },
  {
   "cell_type": "code",
   "execution_count": 125,
   "id": "3e424d81",
   "metadata": {},
   "outputs": [],
   "source": [
    "del combined[3]"
   ]
  },
  {
   "cell_type": "code",
   "execution_count": 128,
   "id": "442737f4",
   "metadata": {},
   "outputs": [
    {
     "data": {
      "text/plain": [
       "0      1.624345\n",
       "1    100.000000\n",
       "2    100.000000\n",
       "5    100.000000\n",
       "dtype: float64"
      ]
     },
     "execution_count": 128,
     "metadata": {},
     "output_type": "execute_result"
    }
   ],
   "source": [
    "combined[1:5] =100\n",
    "combined"
   ]
  },
  {
   "cell_type": "code",
   "execution_count": 130,
   "id": "b52fa45d",
   "metadata": {},
   "outputs": [],
   "source": [
    "newCom = combined.copy()   # copy by value\n",
    "newCom = combined[:,:]"
   ]
  },
  {
   "cell_type": "code",
   "execution_count": 132,
   "id": "a7c2dbe3",
   "metadata": {},
   "outputs": [],
   "source": [
    "oldCom  = newCom   # copy by refernce "
   ]
  },
  {
   "cell_type": "code",
   "execution_count": 134,
   "id": "7c64a92c",
   "metadata": {},
   "outputs": [
    {
     "data": {
      "text/plain": [
       "0      1.624345\n",
       "1    100.000000\n",
       "2    100.000000\n",
       "5    100.000000\n",
       "dtype: float64"
      ]
     },
     "execution_count": 134,
     "metadata": {},
     "output_type": "execute_result"
    }
   ],
   "source": [
    "oldCom"
   ]
  },
  {
   "cell_type": "markdown",
   "id": "55adf099",
   "metadata": {},
   "source": [
    "# Pandas Data Frame"
   ]
  },
  {
   "cell_type": "code",
   "execution_count": 140,
   "id": "546f6987",
   "metadata": {},
   "outputs": [],
   "source": [
    "students = {'rolls':[1,2,3,4,5,6],\n",
    "            'names':['Ali','Amjad', 'Saima', 'Qaiser','Hamid','Nasir'], \n",
    "            'courses':['Python', 'Pandas', 'Numpy','Pandas', 'Numpy', \"Python\"], \n",
    "            'mode':['Online', 'Onsite','Online', 'Onsite','Online', 'Onsite']}\n"
   ]
  },
  {
   "cell_type": "code",
   "execution_count": 145,
   "id": "7d494e4c",
   "metadata": {},
   "outputs": [
    {
     "data": {
      "text/html": [
       "<div>\n",
       "<style scoped>\n",
       "    .dataframe tbody tr th:only-of-type {\n",
       "        vertical-align: middle;\n",
       "    }\n",
       "\n",
       "    .dataframe tbody tr th {\n",
       "        vertical-align: top;\n",
       "    }\n",
       "\n",
       "    .dataframe thead th {\n",
       "        text-align: right;\n",
       "    }\n",
       "</style>\n",
       "<table border=\"1\" class=\"dataframe\">\n",
       "  <thead>\n",
       "    <tr style=\"text-align: right;\">\n",
       "      <th></th>\n",
       "      <th>rolls</th>\n",
       "      <th>names</th>\n",
       "      <th>courses</th>\n",
       "      <th>mode</th>\n",
       "    </tr>\n",
       "  </thead>\n",
       "  <tbody>\n",
       "    <tr>\n",
       "      <td>0</td>\n",
       "      <td>1</td>\n",
       "      <td>Ali</td>\n",
       "      <td>Python</td>\n",
       "      <td>Online</td>\n",
       "    </tr>\n",
       "    <tr>\n",
       "      <td>1</td>\n",
       "      <td>2</td>\n",
       "      <td>Amjad</td>\n",
       "      <td>Pandas</td>\n",
       "      <td>Onsite</td>\n",
       "    </tr>\n",
       "    <tr>\n",
       "      <td>2</td>\n",
       "      <td>3</td>\n",
       "      <td>Saima</td>\n",
       "      <td>Numpy</td>\n",
       "      <td>Online</td>\n",
       "    </tr>\n",
       "    <tr>\n",
       "      <td>3</td>\n",
       "      <td>4</td>\n",
       "      <td>Qaiser</td>\n",
       "      <td>Pandas</td>\n",
       "      <td>Onsite</td>\n",
       "    </tr>\n",
       "    <tr>\n",
       "      <td>4</td>\n",
       "      <td>5</td>\n",
       "      <td>Hamid</td>\n",
       "      <td>Numpy</td>\n",
       "      <td>Online</td>\n",
       "    </tr>\n",
       "    <tr>\n",
       "      <td>5</td>\n",
       "      <td>6</td>\n",
       "      <td>Nasir</td>\n",
       "      <td>Python</td>\n",
       "      <td>Onsite</td>\n",
       "    </tr>\n",
       "  </tbody>\n",
       "</table>\n",
       "</div>"
      ],
      "text/plain": [
       "   rolls   names courses    mode\n",
       "0      1     Ali  Python  Online\n",
       "1      2   Amjad  Pandas  Onsite\n",
       "2      3   Saima   Numpy  Online\n",
       "3      4  Qaiser  Pandas  Onsite\n",
       "4      5   Hamid   Numpy  Online\n",
       "5      6   Nasir  Python  Onsite"
      ]
     },
     "execution_count": 145,
     "metadata": {},
     "output_type": "execute_result"
    }
   ],
   "source": [
    "# Creating a data frame\n",
    "df  = pd.DataFrame(students)\n",
    "df"
   ]
  },
  {
   "cell_type": "code",
   "execution_count": 148,
   "id": "739bf59e",
   "metadata": {},
   "outputs": [
    {
     "data": {
      "text/plain": [
       "pandas.core.frame.DataFrame"
      ]
     },
     "execution_count": 148,
     "metadata": {},
     "output_type": "execute_result"
    }
   ],
   "source": [
    "type(df[['rolls', 'names']])"
   ]
  },
  {
   "cell_type": "code",
   "execution_count": 150,
   "id": "c4bab486",
   "metadata": {},
   "outputs": [
    {
     "data": {
      "text/plain": [
       "pandas.core.series.Series"
      ]
     },
     "execution_count": 150,
     "metadata": {},
     "output_type": "execute_result"
    }
   ],
   "source": [
    "type(df['rolls'])"
   ]
  },
  {
   "cell_type": "code",
   "execution_count": 151,
   "id": "718f9de5",
   "metadata": {},
   "outputs": [
    {
     "data": {
      "text/plain": [
       "pandas.core.frame.DataFrame"
      ]
     },
     "execution_count": 151,
     "metadata": {},
     "output_type": "execute_result"
    }
   ],
   "source": [
    "type(df[['rolls']])"
   ]
  },
  {
   "cell_type": "code",
   "execution_count": 155,
   "id": "43c56ea2",
   "metadata": {},
   "outputs": [
    {
     "data": {
      "text/plain": [
       "2"
      ]
     },
     "execution_count": 155,
     "metadata": {},
     "output_type": "execute_result"
    }
   ],
   "source": [
    "np.array([[9]]).ndim"
   ]
  },
  {
   "cell_type": "code",
   "execution_count": 166,
   "id": "f5edd661",
   "metadata": {},
   "outputs": [],
   "source": [
    "lst=[[55,66,77],[2,4,5],[4,5,6]]"
   ]
  },
  {
   "cell_type": "code",
   "execution_count": 167,
   "id": "40c04501",
   "metadata": {},
   "outputs": [
    {
     "data": {
      "text/plain": [
       "[[55, 66, 77], [2, 4, 5], [4, 5, 6]]"
      ]
     },
     "execution_count": 167,
     "metadata": {},
     "output_type": "execute_result"
    }
   ],
   "source": [
    "lst"
   ]
  },
  {
   "cell_type": "code",
   "execution_count": 168,
   "id": "bc7f8fe6",
   "metadata": {},
   "outputs": [
    {
     "data": {
      "text/html": [
       "<div>\n",
       "<style scoped>\n",
       "    .dataframe tbody tr th:only-of-type {\n",
       "        vertical-align: middle;\n",
       "    }\n",
       "\n",
       "    .dataframe tbody tr th {\n",
       "        vertical-align: top;\n",
       "    }\n",
       "\n",
       "    .dataframe thead th {\n",
       "        text-align: right;\n",
       "    }\n",
       "</style>\n",
       "<table border=\"1\" class=\"dataframe\">\n",
       "  <thead>\n",
       "    <tr style=\"text-align: right;\">\n",
       "      <th></th>\n",
       "      <th>a</th>\n",
       "      <th>b</th>\n",
       "      <th>c</th>\n",
       "    </tr>\n",
       "  </thead>\n",
       "  <tbody>\n",
       "    <tr>\n",
       "      <td>1</td>\n",
       "      <td>55</td>\n",
       "      <td>66</td>\n",
       "      <td>77</td>\n",
       "    </tr>\n",
       "    <tr>\n",
       "      <td>2</td>\n",
       "      <td>2</td>\n",
       "      <td>4</td>\n",
       "      <td>5</td>\n",
       "    </tr>\n",
       "    <tr>\n",
       "      <td>3</td>\n",
       "      <td>4</td>\n",
       "      <td>5</td>\n",
       "      <td>6</td>\n",
       "    </tr>\n",
       "  </tbody>\n",
       "</table>\n",
       "</div>"
      ],
      "text/plain": [
       "    a   b   c\n",
       "1  55  66  77\n",
       "2   2   4   5\n",
       "3   4   5   6"
      ]
     },
     "execution_count": 168,
     "metadata": {},
     "output_type": "execute_result"
    }
   ],
   "source": [
    "pd.DataFrame(lst,index=[1,2,3],columns=[\"a\",\"b\",\"c\"] )"
   ]
  },
  {
   "cell_type": "code",
   "execution_count": 169,
   "id": "f8f2bdb6",
   "metadata": {},
   "outputs": [],
   "source": [
    "#Accessing data\n",
    "# Columns"
   ]
  },
  {
   "cell_type": "code",
   "execution_count": 171,
   "id": "87902e26",
   "metadata": {},
   "outputs": [
    {
     "data": {
      "text/plain": [
       "0    Python\n",
       "1    Pandas\n",
       "2     Numpy\n",
       "3    Pandas\n",
       "4     Numpy\n",
       "5    Python\n",
       "Name: courses, dtype: object"
      ]
     },
     "execution_count": 171,
     "metadata": {},
     "output_type": "execute_result"
    }
   ],
   "source": [
    "df['courses']"
   ]
  },
  {
   "cell_type": "code",
   "execution_count": 173,
   "id": "55b06b04",
   "metadata": {},
   "outputs": [
    {
     "data": {
      "text/html": [
       "<div>\n",
       "<style scoped>\n",
       "    .dataframe tbody tr th:only-of-type {\n",
       "        vertical-align: middle;\n",
       "    }\n",
       "\n",
       "    .dataframe tbody tr th {\n",
       "        vertical-align: top;\n",
       "    }\n",
       "\n",
       "    .dataframe thead th {\n",
       "        text-align: right;\n",
       "    }\n",
       "</style>\n",
       "<table border=\"1\" class=\"dataframe\">\n",
       "  <thead>\n",
       "    <tr style=\"text-align: right;\">\n",
       "      <th></th>\n",
       "      <th>courses</th>\n",
       "      <th>names</th>\n",
       "    </tr>\n",
       "  </thead>\n",
       "  <tbody>\n",
       "    <tr>\n",
       "      <td>0</td>\n",
       "      <td>Python</td>\n",
       "      <td>Ali</td>\n",
       "    </tr>\n",
       "    <tr>\n",
       "      <td>1</td>\n",
       "      <td>Pandas</td>\n",
       "      <td>Amjad</td>\n",
       "    </tr>\n",
       "    <tr>\n",
       "      <td>2</td>\n",
       "      <td>Numpy</td>\n",
       "      <td>Saima</td>\n",
       "    </tr>\n",
       "    <tr>\n",
       "      <td>3</td>\n",
       "      <td>Pandas</td>\n",
       "      <td>Qaiser</td>\n",
       "    </tr>\n",
       "    <tr>\n",
       "      <td>4</td>\n",
       "      <td>Numpy</td>\n",
       "      <td>Hamid</td>\n",
       "    </tr>\n",
       "    <tr>\n",
       "      <td>5</td>\n",
       "      <td>Python</td>\n",
       "      <td>Nasir</td>\n",
       "    </tr>\n",
       "  </tbody>\n",
       "</table>\n",
       "</div>"
      ],
      "text/plain": [
       "  courses   names\n",
       "0  Python     Ali\n",
       "1  Pandas   Amjad\n",
       "2   Numpy   Saima\n",
       "3  Pandas  Qaiser\n",
       "4   Numpy   Hamid\n",
       "5  Python   Nasir"
      ]
     },
     "execution_count": 173,
     "metadata": {},
     "output_type": "execute_result"
    }
   ],
   "source": [
    "df[['courses', 'names']]"
   ]
  },
  {
   "cell_type": "code",
   "execution_count": 174,
   "id": "c6c0ad9e",
   "metadata": {},
   "outputs": [
    {
     "data": {
      "text/html": [
       "<div>\n",
       "<style scoped>\n",
       "    .dataframe tbody tr th:only-of-type {\n",
       "        vertical-align: middle;\n",
       "    }\n",
       "\n",
       "    .dataframe tbody tr th {\n",
       "        vertical-align: top;\n",
       "    }\n",
       "\n",
       "    .dataframe thead th {\n",
       "        text-align: right;\n",
       "    }\n",
       "</style>\n",
       "<table border=\"1\" class=\"dataframe\">\n",
       "  <thead>\n",
       "    <tr style=\"text-align: right;\">\n",
       "      <th></th>\n",
       "      <th>rolls</th>\n",
       "      <th>names</th>\n",
       "      <th>courses</th>\n",
       "      <th>mode</th>\n",
       "      <th>Country</th>\n",
       "    </tr>\n",
       "  </thead>\n",
       "  <tbody>\n",
       "    <tr>\n",
       "      <td>0</td>\n",
       "      <td>1</td>\n",
       "      <td>Ali</td>\n",
       "      <td>Python</td>\n",
       "      <td>Online</td>\n",
       "      <td>Pakistan</td>\n",
       "    </tr>\n",
       "    <tr>\n",
       "      <td>1</td>\n",
       "      <td>2</td>\n",
       "      <td>Amjad</td>\n",
       "      <td>Pandas</td>\n",
       "      <td>Onsite</td>\n",
       "      <td>Pakistan</td>\n",
       "    </tr>\n",
       "    <tr>\n",
       "      <td>2</td>\n",
       "      <td>3</td>\n",
       "      <td>Saima</td>\n",
       "      <td>Numpy</td>\n",
       "      <td>Online</td>\n",
       "      <td>Pakistan</td>\n",
       "    </tr>\n",
       "    <tr>\n",
       "      <td>3</td>\n",
       "      <td>4</td>\n",
       "      <td>Qaiser</td>\n",
       "      <td>Pandas</td>\n",
       "      <td>Onsite</td>\n",
       "      <td>Pakistan</td>\n",
       "    </tr>\n",
       "    <tr>\n",
       "      <td>4</td>\n",
       "      <td>5</td>\n",
       "      <td>Hamid</td>\n",
       "      <td>Numpy</td>\n",
       "      <td>Online</td>\n",
       "      <td>Pakistan</td>\n",
       "    </tr>\n",
       "    <tr>\n",
       "      <td>5</td>\n",
       "      <td>6</td>\n",
       "      <td>Nasir</td>\n",
       "      <td>Python</td>\n",
       "      <td>Onsite</td>\n",
       "      <td>Pakistan</td>\n",
       "    </tr>\n",
       "  </tbody>\n",
       "</table>\n",
       "</div>"
      ],
      "text/plain": [
       "   rolls   names courses    mode   Country\n",
       "0      1     Ali  Python  Online  Pakistan\n",
       "1      2   Amjad  Pandas  Onsite  Pakistan\n",
       "2      3   Saima   Numpy  Online  Pakistan\n",
       "3      4  Qaiser  Pandas  Onsite  Pakistan\n",
       "4      5   Hamid   Numpy  Online  Pakistan\n",
       "5      6   Nasir  Python  Onsite  Pakistan"
      ]
     },
     "execution_count": 174,
     "metadata": {},
     "output_type": "execute_result"
    }
   ],
   "source": [
    "df['Country'] = \"Pakistan\"\n",
    "df"
   ]
  },
  {
   "cell_type": "code",
   "execution_count": 175,
   "id": "9b704278",
   "metadata": {},
   "outputs": [
    {
     "data": {
      "text/html": [
       "<div>\n",
       "<style scoped>\n",
       "    .dataframe tbody tr th:only-of-type {\n",
       "        vertical-align: middle;\n",
       "    }\n",
       "\n",
       "    .dataframe tbody tr th {\n",
       "        vertical-align: top;\n",
       "    }\n",
       "\n",
       "    .dataframe thead th {\n",
       "        text-align: right;\n",
       "    }\n",
       "</style>\n",
       "<table border=\"1\" class=\"dataframe\">\n",
       "  <thead>\n",
       "    <tr style=\"text-align: right;\">\n",
       "      <th></th>\n",
       "      <th>rolls</th>\n",
       "      <th>names</th>\n",
       "      <th>courses</th>\n",
       "      <th>mode</th>\n",
       "      <th>Country</th>\n",
       "      <th>Ages</th>\n",
       "    </tr>\n",
       "  </thead>\n",
       "  <tbody>\n",
       "    <tr>\n",
       "      <td>0</td>\n",
       "      <td>1</td>\n",
       "      <td>Ali</td>\n",
       "      <td>Python</td>\n",
       "      <td>Online</td>\n",
       "      <td>Pakistan</td>\n",
       "      <td>23</td>\n",
       "    </tr>\n",
       "    <tr>\n",
       "      <td>1</td>\n",
       "      <td>2</td>\n",
       "      <td>Amjad</td>\n",
       "      <td>Pandas</td>\n",
       "      <td>Onsite</td>\n",
       "      <td>Pakistan</td>\n",
       "      <td>34</td>\n",
       "    </tr>\n",
       "    <tr>\n",
       "      <td>2</td>\n",
       "      <td>3</td>\n",
       "      <td>Saima</td>\n",
       "      <td>Numpy</td>\n",
       "      <td>Online</td>\n",
       "      <td>Pakistan</td>\n",
       "      <td>23</td>\n",
       "    </tr>\n",
       "    <tr>\n",
       "      <td>3</td>\n",
       "      <td>4</td>\n",
       "      <td>Qaiser</td>\n",
       "      <td>Pandas</td>\n",
       "      <td>Onsite</td>\n",
       "      <td>Pakistan</td>\n",
       "      <td>21</td>\n",
       "    </tr>\n",
       "    <tr>\n",
       "      <td>4</td>\n",
       "      <td>5</td>\n",
       "      <td>Hamid</td>\n",
       "      <td>Numpy</td>\n",
       "      <td>Online</td>\n",
       "      <td>Pakistan</td>\n",
       "      <td>20</td>\n",
       "    </tr>\n",
       "    <tr>\n",
       "      <td>5</td>\n",
       "      <td>6</td>\n",
       "      <td>Nasir</td>\n",
       "      <td>Python</td>\n",
       "      <td>Onsite</td>\n",
       "      <td>Pakistan</td>\n",
       "      <td>19</td>\n",
       "    </tr>\n",
       "  </tbody>\n",
       "</table>\n",
       "</div>"
      ],
      "text/plain": [
       "   rolls   names courses    mode   Country  Ages\n",
       "0      1     Ali  Python  Online  Pakistan    23\n",
       "1      2   Amjad  Pandas  Onsite  Pakistan    34\n",
       "2      3   Saima   Numpy  Online  Pakistan    23\n",
       "3      4  Qaiser  Pandas  Onsite  Pakistan    21\n",
       "4      5   Hamid   Numpy  Online  Pakistan    20\n",
       "5      6   Nasir  Python  Onsite  Pakistan    19"
      ]
     },
     "execution_count": 175,
     "metadata": {},
     "output_type": "execute_result"
    }
   ],
   "source": [
    "df['Ages'] = [23,34,23,21,20,19]\n",
    "df"
   ]
  },
  {
   "cell_type": "code",
   "execution_count": 177,
   "id": "83dc2ff6",
   "metadata": {},
   "outputs": [],
   "source": [
    "dic = {'Ali':34, 'Amjad':45, \"Saima\":23, \"Hamid\":34, \"Nasir\":20,'Qaiser':45}"
   ]
  },
  {
   "cell_type": "code",
   "execution_count": 208,
   "id": "f3a2278e",
   "metadata": {},
   "outputs": [],
   "source": [
    "df['newAges'] = df.names.map(dic)"
   ]
  },
  {
   "cell_type": "code",
   "execution_count": 183,
   "id": "ba39cf5b",
   "metadata": {},
   "outputs": [],
   "source": [
    "df['Status'] = [\"Pass\" if age>25 else \"Fails\" for age in df['Ages']]"
   ]
  },
  {
   "cell_type": "code",
   "execution_count": 209,
   "id": "c9ac9938",
   "metadata": {},
   "outputs": [
    {
     "data": {
      "text/html": [
       "<div>\n",
       "<style scoped>\n",
       "    .dataframe tbody tr th:only-of-type {\n",
       "        vertical-align: middle;\n",
       "    }\n",
       "\n",
       "    .dataframe tbody tr th {\n",
       "        vertical-align: top;\n",
       "    }\n",
       "\n",
       "    .dataframe thead th {\n",
       "        text-align: right;\n",
       "    }\n",
       "</style>\n",
       "<table border=\"1\" class=\"dataframe\">\n",
       "  <thead>\n",
       "    <tr style=\"text-align: right;\">\n",
       "      <th></th>\n",
       "      <th>rolls</th>\n",
       "      <th>names</th>\n",
       "      <th>courses</th>\n",
       "      <th>mode</th>\n",
       "      <th>Country</th>\n",
       "      <th>Ages</th>\n",
       "      <th>Status</th>\n",
       "      <th>City</th>\n",
       "      <th>Generation</th>\n",
       "      <th>Generation Next</th>\n",
       "      <th>newAges</th>\n",
       "    </tr>\n",
       "  </thead>\n",
       "  <tbody>\n",
       "    <tr>\n",
       "      <td>0</td>\n",
       "      <td>1</td>\n",
       "      <td>Ali</td>\n",
       "      <td>Python</td>\n",
       "      <td>Online</td>\n",
       "      <td>Pakistan</td>\n",
       "      <td>23</td>\n",
       "      <td>Fails</td>\n",
       "      <td>Outside Khi</td>\n",
       "      <td>Young</td>\n",
       "      <td>Young</td>\n",
       "      <td>34</td>\n",
       "    </tr>\n",
       "    <tr>\n",
       "      <td>1</td>\n",
       "      <td>2</td>\n",
       "      <td>Amjad</td>\n",
       "      <td>Pandas</td>\n",
       "      <td>Onsite</td>\n",
       "      <td>Pakistan</td>\n",
       "      <td>34</td>\n",
       "      <td>Pass</td>\n",
       "      <td>Karachi</td>\n",
       "      <td>Young</td>\n",
       "      <td>Young</td>\n",
       "      <td>45</td>\n",
       "    </tr>\n",
       "    <tr>\n",
       "      <td>2</td>\n",
       "      <td>3</td>\n",
       "      <td>Saima</td>\n",
       "      <td>Numpy</td>\n",
       "      <td>Online</td>\n",
       "      <td>Pakistan</td>\n",
       "      <td>23</td>\n",
       "      <td>Fails</td>\n",
       "      <td>Outside Khi</td>\n",
       "      <td>Young</td>\n",
       "      <td>Young</td>\n",
       "      <td>23</td>\n",
       "    </tr>\n",
       "    <tr>\n",
       "      <td>3</td>\n",
       "      <td>4</td>\n",
       "      <td>Qaiser</td>\n",
       "      <td>Pandas</td>\n",
       "      <td>Onsite</td>\n",
       "      <td>Pakistan</td>\n",
       "      <td>21</td>\n",
       "      <td>Fails</td>\n",
       "      <td>Karachi</td>\n",
       "      <td>Young</td>\n",
       "      <td>Young</td>\n",
       "      <td>45</td>\n",
       "    </tr>\n",
       "    <tr>\n",
       "      <td>4</td>\n",
       "      <td>5</td>\n",
       "      <td>Hamid</td>\n",
       "      <td>Numpy</td>\n",
       "      <td>Online</td>\n",
       "      <td>Pakistan</td>\n",
       "      <td>20</td>\n",
       "      <td>Fails</td>\n",
       "      <td>Outside Khi</td>\n",
       "      <td>Young</td>\n",
       "      <td>Young</td>\n",
       "      <td>34</td>\n",
       "    </tr>\n",
       "    <tr>\n",
       "      <td>5</td>\n",
       "      <td>6</td>\n",
       "      <td>Nasir</td>\n",
       "      <td>Python</td>\n",
       "      <td>Onsite</td>\n",
       "      <td>Pakistan</td>\n",
       "      <td>19</td>\n",
       "      <td>Fails</td>\n",
       "      <td>Karachi</td>\n",
       "      <td>Teen Ager</td>\n",
       "      <td>Teen Ager</td>\n",
       "      <td>20</td>\n",
       "    </tr>\n",
       "  </tbody>\n",
       "</table>\n",
       "</div>"
      ],
      "text/plain": [
       "   rolls   names courses    mode   Country  Ages Status         City  \\\n",
       "0      1     Ali  Python  Online  Pakistan    23  Fails  Outside Khi   \n",
       "1      2   Amjad  Pandas  Onsite  Pakistan    34   Pass      Karachi   \n",
       "2      3   Saima   Numpy  Online  Pakistan    23  Fails  Outside Khi   \n",
       "3      4  Qaiser  Pandas  Onsite  Pakistan    21  Fails      Karachi   \n",
       "4      5   Hamid   Numpy  Online  Pakistan    20  Fails  Outside Khi   \n",
       "5      6   Nasir  Python  Onsite  Pakistan    19  Fails      Karachi   \n",
       "\n",
       "  Generation Generation Next  newAges  \n",
       "0      Young           Young       34  \n",
       "1      Young           Young       45  \n",
       "2      Young           Young       23  \n",
       "3      Young           Young       45  \n",
       "4      Young           Young       34  \n",
       "5  Teen Ager       Teen Ager       20  "
      ]
     },
     "execution_count": 209,
     "metadata": {},
     "output_type": "execute_result"
    }
   ],
   "source": [
    "df"
   ]
  },
  {
   "cell_type": "code",
   "execution_count": 190,
   "id": "be19d2d9",
   "metadata": {},
   "outputs": [],
   "source": [
    "df['City'] = df['mode'].apply(lambda x: 'Karachi' if x==\"Onsite\" else \"Outside Khi\")"
   ]
  },
  {
   "cell_type": "code",
   "execution_count": 191,
   "id": "250db88f",
   "metadata": {},
   "outputs": [
    {
     "data": {
      "text/html": [
       "<div>\n",
       "<style scoped>\n",
       "    .dataframe tbody tr th:only-of-type {\n",
       "        vertical-align: middle;\n",
       "    }\n",
       "\n",
       "    .dataframe tbody tr th {\n",
       "        vertical-align: top;\n",
       "    }\n",
       "\n",
       "    .dataframe thead th {\n",
       "        text-align: right;\n",
       "    }\n",
       "</style>\n",
       "<table border=\"1\" class=\"dataframe\">\n",
       "  <thead>\n",
       "    <tr style=\"text-align: right;\">\n",
       "      <th></th>\n",
       "      <th>rolls</th>\n",
       "      <th>names</th>\n",
       "      <th>courses</th>\n",
       "      <th>mode</th>\n",
       "      <th>Country</th>\n",
       "      <th>Ages</th>\n",
       "      <th>Status</th>\n",
       "      <th>City</th>\n",
       "    </tr>\n",
       "  </thead>\n",
       "  <tbody>\n",
       "    <tr>\n",
       "      <td>0</td>\n",
       "      <td>1</td>\n",
       "      <td>Ali</td>\n",
       "      <td>Python</td>\n",
       "      <td>Online</td>\n",
       "      <td>Pakistan</td>\n",
       "      <td>23</td>\n",
       "      <td>Fails</td>\n",
       "      <td>Outside Khi</td>\n",
       "    </tr>\n",
       "    <tr>\n",
       "      <td>1</td>\n",
       "      <td>2</td>\n",
       "      <td>Amjad</td>\n",
       "      <td>Pandas</td>\n",
       "      <td>Onsite</td>\n",
       "      <td>Pakistan</td>\n",
       "      <td>34</td>\n",
       "      <td>Pass</td>\n",
       "      <td>Karachi</td>\n",
       "    </tr>\n",
       "    <tr>\n",
       "      <td>2</td>\n",
       "      <td>3</td>\n",
       "      <td>Saima</td>\n",
       "      <td>Numpy</td>\n",
       "      <td>Online</td>\n",
       "      <td>Pakistan</td>\n",
       "      <td>23</td>\n",
       "      <td>Fails</td>\n",
       "      <td>Outside Khi</td>\n",
       "    </tr>\n",
       "    <tr>\n",
       "      <td>3</td>\n",
       "      <td>4</td>\n",
       "      <td>Qaiser</td>\n",
       "      <td>Pandas</td>\n",
       "      <td>Onsite</td>\n",
       "      <td>Pakistan</td>\n",
       "      <td>21</td>\n",
       "      <td>Fails</td>\n",
       "      <td>Karachi</td>\n",
       "    </tr>\n",
       "    <tr>\n",
       "      <td>4</td>\n",
       "      <td>5</td>\n",
       "      <td>Hamid</td>\n",
       "      <td>Numpy</td>\n",
       "      <td>Online</td>\n",
       "      <td>Pakistan</td>\n",
       "      <td>20</td>\n",
       "      <td>Fails</td>\n",
       "      <td>Outside Khi</td>\n",
       "    </tr>\n",
       "    <tr>\n",
       "      <td>5</td>\n",
       "      <td>6</td>\n",
       "      <td>Nasir</td>\n",
       "      <td>Python</td>\n",
       "      <td>Onsite</td>\n",
       "      <td>Pakistan</td>\n",
       "      <td>19</td>\n",
       "      <td>Fails</td>\n",
       "      <td>Karachi</td>\n",
       "    </tr>\n",
       "  </tbody>\n",
       "</table>\n",
       "</div>"
      ],
      "text/plain": [
       "   rolls   names courses    mode   Country  Ages Status         City\n",
       "0      1     Ali  Python  Online  Pakistan    23  Fails  Outside Khi\n",
       "1      2   Amjad  Pandas  Onsite  Pakistan    34   Pass      Karachi\n",
       "2      3   Saima   Numpy  Online  Pakistan    23  Fails  Outside Khi\n",
       "3      4  Qaiser  Pandas  Onsite  Pakistan    21  Fails      Karachi\n",
       "4      5   Hamid   Numpy  Online  Pakistan    20  Fails  Outside Khi\n",
       "5      6   Nasir  Python  Onsite  Pakistan    19  Fails      Karachi"
      ]
     },
     "execution_count": 191,
     "metadata": {},
     "output_type": "execute_result"
    }
   ],
   "source": [
    "df"
   ]
  },
  {
   "cell_type": "code",
   "execution_count": 193,
   "id": "fa272c13",
   "metadata": {},
   "outputs": [],
   "source": [
    "def generationAssign(age):\n",
    "    if age <20:\n",
    "        return \"Teen Ager\"\n",
    "    elif age<40:\n",
    "        return \"Young\"\n",
    "    elif age <60:\n",
    "        return \"Matured\"\n",
    "    else:\n",
    "        return 'Senior'"
   ]
  },
  {
   "cell_type": "code",
   "execution_count": 201,
   "id": "48a32061",
   "metadata": {},
   "outputs": [],
   "source": [
    "df['Generation Next'] = df.Ages.apply(generationAssign)"
   ]
  },
  {
   "cell_type": "code",
   "execution_count": 202,
   "id": "55d1e25f",
   "metadata": {},
   "outputs": [
    {
     "data": {
      "text/html": [
       "<div>\n",
       "<style scoped>\n",
       "    .dataframe tbody tr th:only-of-type {\n",
       "        vertical-align: middle;\n",
       "    }\n",
       "\n",
       "    .dataframe tbody tr th {\n",
       "        vertical-align: top;\n",
       "    }\n",
       "\n",
       "    .dataframe thead th {\n",
       "        text-align: right;\n",
       "    }\n",
       "</style>\n",
       "<table border=\"1\" class=\"dataframe\">\n",
       "  <thead>\n",
       "    <tr style=\"text-align: right;\">\n",
       "      <th></th>\n",
       "      <th>rolls</th>\n",
       "      <th>names</th>\n",
       "      <th>courses</th>\n",
       "      <th>mode</th>\n",
       "      <th>Country</th>\n",
       "      <th>Ages</th>\n",
       "      <th>Status</th>\n",
       "      <th>City</th>\n",
       "      <th>Generation</th>\n",
       "      <th>Generation Next</th>\n",
       "    </tr>\n",
       "  </thead>\n",
       "  <tbody>\n",
       "    <tr>\n",
       "      <td>0</td>\n",
       "      <td>1</td>\n",
       "      <td>Ali</td>\n",
       "      <td>Python</td>\n",
       "      <td>Online</td>\n",
       "      <td>Pakistan</td>\n",
       "      <td>23</td>\n",
       "      <td>Fails</td>\n",
       "      <td>Outside Khi</td>\n",
       "      <td>Young</td>\n",
       "      <td>Young</td>\n",
       "    </tr>\n",
       "    <tr>\n",
       "      <td>1</td>\n",
       "      <td>2</td>\n",
       "      <td>Amjad</td>\n",
       "      <td>Pandas</td>\n",
       "      <td>Onsite</td>\n",
       "      <td>Pakistan</td>\n",
       "      <td>34</td>\n",
       "      <td>Pass</td>\n",
       "      <td>Karachi</td>\n",
       "      <td>Young</td>\n",
       "      <td>Young</td>\n",
       "    </tr>\n",
       "    <tr>\n",
       "      <td>2</td>\n",
       "      <td>3</td>\n",
       "      <td>Saima</td>\n",
       "      <td>Numpy</td>\n",
       "      <td>Online</td>\n",
       "      <td>Pakistan</td>\n",
       "      <td>23</td>\n",
       "      <td>Fails</td>\n",
       "      <td>Outside Khi</td>\n",
       "      <td>Young</td>\n",
       "      <td>Young</td>\n",
       "    </tr>\n",
       "    <tr>\n",
       "      <td>3</td>\n",
       "      <td>4</td>\n",
       "      <td>Qaiser</td>\n",
       "      <td>Pandas</td>\n",
       "      <td>Onsite</td>\n",
       "      <td>Pakistan</td>\n",
       "      <td>21</td>\n",
       "      <td>Fails</td>\n",
       "      <td>Karachi</td>\n",
       "      <td>Young</td>\n",
       "      <td>Young</td>\n",
       "    </tr>\n",
       "    <tr>\n",
       "      <td>4</td>\n",
       "      <td>5</td>\n",
       "      <td>Hamid</td>\n",
       "      <td>Numpy</td>\n",
       "      <td>Online</td>\n",
       "      <td>Pakistan</td>\n",
       "      <td>20</td>\n",
       "      <td>Fails</td>\n",
       "      <td>Outside Khi</td>\n",
       "      <td>Young</td>\n",
       "      <td>Young</td>\n",
       "    </tr>\n",
       "    <tr>\n",
       "      <td>5</td>\n",
       "      <td>6</td>\n",
       "      <td>Nasir</td>\n",
       "      <td>Python</td>\n",
       "      <td>Onsite</td>\n",
       "      <td>Pakistan</td>\n",
       "      <td>19</td>\n",
       "      <td>Fails</td>\n",
       "      <td>Karachi</td>\n",
       "      <td>Teen Ager</td>\n",
       "      <td>Teen Ager</td>\n",
       "    </tr>\n",
       "  </tbody>\n",
       "</table>\n",
       "</div>"
      ],
      "text/plain": [
       "   rolls   names courses    mode   Country  Ages Status         City  \\\n",
       "0      1     Ali  Python  Online  Pakistan    23  Fails  Outside Khi   \n",
       "1      2   Amjad  Pandas  Onsite  Pakistan    34   Pass      Karachi   \n",
       "2      3   Saima   Numpy  Online  Pakistan    23  Fails  Outside Khi   \n",
       "3      4  Qaiser  Pandas  Onsite  Pakistan    21  Fails      Karachi   \n",
       "4      5   Hamid   Numpy  Online  Pakistan    20  Fails  Outside Khi   \n",
       "5      6   Nasir  Python  Onsite  Pakistan    19  Fails      Karachi   \n",
       "\n",
       "  Generation Generation Next  \n",
       "0      Young           Young  \n",
       "1      Young           Young  \n",
       "2      Young           Young  \n",
       "3      Young           Young  \n",
       "4      Young           Young  \n",
       "5  Teen Ager       Teen Ager  "
      ]
     },
     "execution_count": 202,
     "metadata": {},
     "output_type": "execute_result"
    }
   ],
   "source": [
    "df"
   ]
  },
  {
   "cell_type": "code",
   "execution_count": 196,
   "id": "89ea2ddb",
   "metadata": {},
   "outputs": [],
   "source": [
    "df.to_excel(\"student.xlsx\")"
   ]
  },
  {
   "cell_type": "code",
   "execution_count": 197,
   "id": "7f8da6b8",
   "metadata": {},
   "outputs": [],
   "source": [
    "a =np.array([1,2,3])"
   ]
  },
  {
   "cell_type": "code",
   "execution_count": 198,
   "id": "8089c9a6",
   "metadata": {},
   "outputs": [
    {
     "data": {
      "text/plain": [
       "array([1, 2, 3])"
      ]
     },
     "execution_count": 198,
     "metadata": {},
     "output_type": "execute_result"
    }
   ],
   "source": [
    "a"
   ]
  },
  {
   "cell_type": "code",
   "execution_count": 199,
   "id": "1a6d92a8",
   "metadata": {},
   "outputs": [
    {
     "data": {
      "text/plain": [
       "array([10, 20, 30])"
      ]
     },
     "execution_count": 199,
     "metadata": {},
     "output_type": "execute_result"
    }
   ],
   "source": [
    "a = a*10"
   ]
  },
  {
   "cell_type": "code",
   "execution_count": 200,
   "id": "9b24da25",
   "metadata": {},
   "outputs": [
    {
     "data": {
      "text/plain": [
       "array([1, 2, 3])"
      ]
     },
     "execution_count": 200,
     "metadata": {},
     "output_type": "execute_result"
    }
   ],
   "source": [
    "a"
   ]
  },
  {
   "cell_type": "code",
   "execution_count": 205,
   "id": "6d74fc28",
   "metadata": {},
   "outputs": [
    {
     "data": {
      "text/plain": [
       "0        Young\n",
       "1        Young\n",
       "2        Young\n",
       "3        Young\n",
       "4        Young\n",
       "5    Teen Ager\n",
       "Name: Generation Next, dtype: object"
      ]
     },
     "execution_count": 205,
     "metadata": {},
     "output_type": "execute_result"
    }
   ],
   "source": [
    "df['Generation Next']"
   ]
  },
  {
   "cell_type": "code",
   "execution_count": 210,
   "id": "6b995a8d",
   "metadata": {},
   "outputs": [],
   "source": [
    "data = pd.read_csv(\"astronauts.csv\")"
   ]
  },
  {
   "cell_type": "code",
   "execution_count": 211,
   "id": "4858734b",
   "metadata": {},
   "outputs": [
    {
     "data": {
      "text/html": [
       "<div>\n",
       "<style scoped>\n",
       "    .dataframe tbody tr th:only-of-type {\n",
       "        vertical-align: middle;\n",
       "    }\n",
       "\n",
       "    .dataframe tbody tr th {\n",
       "        vertical-align: top;\n",
       "    }\n",
       "\n",
       "    .dataframe thead th {\n",
       "        text-align: right;\n",
       "    }\n",
       "</style>\n",
       "<table border=\"1\" class=\"dataframe\">\n",
       "  <thead>\n",
       "    <tr style=\"text-align: right;\">\n",
       "      <th></th>\n",
       "      <th>Name</th>\n",
       "      <th>Year</th>\n",
       "      <th>Group</th>\n",
       "      <th>Status</th>\n",
       "      <th>Birth Date</th>\n",
       "      <th>Birth Place</th>\n",
       "      <th>Gender</th>\n",
       "      <th>Alma Mater</th>\n",
       "      <th>Undergraduate Major</th>\n",
       "      <th>Graduate Major</th>\n",
       "      <th>Military Rank</th>\n",
       "      <th>Military Branch</th>\n",
       "      <th>Space Flights</th>\n",
       "      <th>Space Flight (hr)</th>\n",
       "      <th>Space Walks</th>\n",
       "      <th>Space Walks (hr)</th>\n",
       "      <th>Missions</th>\n",
       "      <th>Death Date</th>\n",
       "      <th>Death Mission</th>\n",
       "    </tr>\n",
       "  </thead>\n",
       "  <tbody>\n",
       "    <tr>\n",
       "      <td>0</td>\n",
       "      <td>Joseph M. Acaba</td>\n",
       "      <td>2004.0</td>\n",
       "      <td>19.0</td>\n",
       "      <td>Active</td>\n",
       "      <td>5/17/1967</td>\n",
       "      <td>Inglewood, CA</td>\n",
       "      <td>Male</td>\n",
       "      <td>University of California-Santa Barbara; Univer...</td>\n",
       "      <td>Geology</td>\n",
       "      <td>Geology</td>\n",
       "      <td>NaN</td>\n",
       "      <td>NaN</td>\n",
       "      <td>2</td>\n",
       "      <td>3307</td>\n",
       "      <td>2</td>\n",
       "      <td>13.0</td>\n",
       "      <td>STS-119 (Discovery), ISS-31/32 (Soyuz)</td>\n",
       "      <td>NaN</td>\n",
       "      <td>NaN</td>\n",
       "    </tr>\n",
       "    <tr>\n",
       "      <td>1</td>\n",
       "      <td>Loren W. Acton</td>\n",
       "      <td>NaN</td>\n",
       "      <td>NaN</td>\n",
       "      <td>Retired</td>\n",
       "      <td>3/7/1936</td>\n",
       "      <td>Lewiston, MT</td>\n",
       "      <td>Male</td>\n",
       "      <td>Montana State University; University of Colorado</td>\n",
       "      <td>Engineering Physics</td>\n",
       "      <td>Solar Physics</td>\n",
       "      <td>NaN</td>\n",
       "      <td>NaN</td>\n",
       "      <td>1</td>\n",
       "      <td>190</td>\n",
       "      <td>0</td>\n",
       "      <td>0.0</td>\n",
       "      <td>STS 51-F (Challenger)</td>\n",
       "      <td>NaN</td>\n",
       "      <td>NaN</td>\n",
       "    </tr>\n",
       "    <tr>\n",
       "      <td>2</td>\n",
       "      <td>James C. Adamson</td>\n",
       "      <td>1984.0</td>\n",
       "      <td>10.0</td>\n",
       "      <td>Retired</td>\n",
       "      <td>3/3/1946</td>\n",
       "      <td>Warsaw, NY</td>\n",
       "      <td>Male</td>\n",
       "      <td>US Military Academy; Princeton University</td>\n",
       "      <td>Engineering</td>\n",
       "      <td>Aerospace Engineering</td>\n",
       "      <td>Colonel</td>\n",
       "      <td>US Army (Retired)</td>\n",
       "      <td>2</td>\n",
       "      <td>334</td>\n",
       "      <td>0</td>\n",
       "      <td>0.0</td>\n",
       "      <td>STS-28 (Columbia), STS-43 (Atlantis)</td>\n",
       "      <td>NaN</td>\n",
       "      <td>NaN</td>\n",
       "    </tr>\n",
       "    <tr>\n",
       "      <td>3</td>\n",
       "      <td>Thomas D. Akers</td>\n",
       "      <td>1987.0</td>\n",
       "      <td>12.0</td>\n",
       "      <td>Retired</td>\n",
       "      <td>5/20/1951</td>\n",
       "      <td>St. Louis, MO</td>\n",
       "      <td>Male</td>\n",
       "      <td>University of Missouri-Rolla</td>\n",
       "      <td>Applied Mathematics</td>\n",
       "      <td>Applied Mathematics</td>\n",
       "      <td>Colonel</td>\n",
       "      <td>US Air Force (Retired)</td>\n",
       "      <td>4</td>\n",
       "      <td>814</td>\n",
       "      <td>4</td>\n",
       "      <td>29.0</td>\n",
       "      <td>STS-41 (Discovery), STS-49 (Endeavor), STS-61 ...</td>\n",
       "      <td>NaN</td>\n",
       "      <td>NaN</td>\n",
       "    </tr>\n",
       "    <tr>\n",
       "      <td>4</td>\n",
       "      <td>Buzz Aldrin</td>\n",
       "      <td>1963.0</td>\n",
       "      <td>3.0</td>\n",
       "      <td>Retired</td>\n",
       "      <td>1/20/1930</td>\n",
       "      <td>Montclair, NJ</td>\n",
       "      <td>Male</td>\n",
       "      <td>US Military Academy; MIT</td>\n",
       "      <td>Mechanical Engineering</td>\n",
       "      <td>Astronautics</td>\n",
       "      <td>Colonel</td>\n",
       "      <td>US Air Force (Retired)</td>\n",
       "      <td>2</td>\n",
       "      <td>289</td>\n",
       "      <td>2</td>\n",
       "      <td>8.0</td>\n",
       "      <td>Gemini 12, Apollo 11</td>\n",
       "      <td>NaN</td>\n",
       "      <td>NaN</td>\n",
       "    </tr>\n",
       "    <tr>\n",
       "      <td>...</td>\n",
       "      <td>...</td>\n",
       "      <td>...</td>\n",
       "      <td>...</td>\n",
       "      <td>...</td>\n",
       "      <td>...</td>\n",
       "      <td>...</td>\n",
       "      <td>...</td>\n",
       "      <td>...</td>\n",
       "      <td>...</td>\n",
       "      <td>...</td>\n",
       "      <td>...</td>\n",
       "      <td>...</td>\n",
       "      <td>...</td>\n",
       "      <td>...</td>\n",
       "      <td>...</td>\n",
       "      <td>...</td>\n",
       "      <td>...</td>\n",
       "      <td>...</td>\n",
       "      <td>...</td>\n",
       "    </tr>\n",
       "    <tr>\n",
       "      <td>352</td>\n",
       "      <td>David A. Wolf</td>\n",
       "      <td>1990.0</td>\n",
       "      <td>13.0</td>\n",
       "      <td>Retired</td>\n",
       "      <td>8/23/1956</td>\n",
       "      <td>Indianapolis, IN</td>\n",
       "      <td>Male</td>\n",
       "      <td>Purdue University; Indiana University</td>\n",
       "      <td>Electrical Engineering</td>\n",
       "      <td>Medicine</td>\n",
       "      <td>NaN</td>\n",
       "      <td>NaN</td>\n",
       "      <td>3</td>\n",
       "      <td>4044</td>\n",
       "      <td>7</td>\n",
       "      <td>41.0</td>\n",
       "      <td>STS-58 (Columbia). STS-86/89 (Atlantis/Endeavo...</td>\n",
       "      <td>NaN</td>\n",
       "      <td>NaN</td>\n",
       "    </tr>\n",
       "    <tr>\n",
       "      <td>353</td>\n",
       "      <td>Neil W. Woodward III</td>\n",
       "      <td>1998.0</td>\n",
       "      <td>17.0</td>\n",
       "      <td>Retired</td>\n",
       "      <td>7/26/1962</td>\n",
       "      <td>Chicago, IL</td>\n",
       "      <td>Male</td>\n",
       "      <td>MIT; University of Texas-Austin; George Washin...</td>\n",
       "      <td>Physics</td>\n",
       "      <td>Physics; Business Management</td>\n",
       "      <td>Commander</td>\n",
       "      <td>US Navy</td>\n",
       "      <td>0</td>\n",
       "      <td>0</td>\n",
       "      <td>0</td>\n",
       "      <td>0.0</td>\n",
       "      <td>NaN</td>\n",
       "      <td>NaN</td>\n",
       "      <td>NaN</td>\n",
       "    </tr>\n",
       "    <tr>\n",
       "      <td>354</td>\n",
       "      <td>Alfred M. Worden</td>\n",
       "      <td>1966.0</td>\n",
       "      <td>5.0</td>\n",
       "      <td>Retired</td>\n",
       "      <td>2/7/1932</td>\n",
       "      <td>Jackson, MI</td>\n",
       "      <td>Male</td>\n",
       "      <td>US Military Academy; University of Michigan</td>\n",
       "      <td>Military Science</td>\n",
       "      <td>Aeronautical &amp; Astronautical Engineering</td>\n",
       "      <td>Colonel</td>\n",
       "      <td>US Air Force (Retired)</td>\n",
       "      <td>1</td>\n",
       "      <td>295</td>\n",
       "      <td>1</td>\n",
       "      <td>0.5</td>\n",
       "      <td>Apollo 15</td>\n",
       "      <td>NaN</td>\n",
       "      <td>NaN</td>\n",
       "    </tr>\n",
       "    <tr>\n",
       "      <td>355</td>\n",
       "      <td>John W. Young</td>\n",
       "      <td>1962.0</td>\n",
       "      <td>2.0</td>\n",
       "      <td>Retired</td>\n",
       "      <td>9/24/1930</td>\n",
       "      <td>San Francisco, CA</td>\n",
       "      <td>Male</td>\n",
       "      <td>Georgia Institute of Technology</td>\n",
       "      <td>Aeronautical Engineering</td>\n",
       "      <td>NaN</td>\n",
       "      <td>Captain</td>\n",
       "      <td>US Navy (Retired)</td>\n",
       "      <td>6</td>\n",
       "      <td>835</td>\n",
       "      <td>3</td>\n",
       "      <td>20.0</td>\n",
       "      <td>Gemini 3, Gemini 10, Apollo 10, Apollo 16, STS...</td>\n",
       "      <td>NaN</td>\n",
       "      <td>NaN</td>\n",
       "    </tr>\n",
       "    <tr>\n",
       "      <td>356</td>\n",
       "      <td>George D. Zamka</td>\n",
       "      <td>1998.0</td>\n",
       "      <td>17.0</td>\n",
       "      <td>Retired</td>\n",
       "      <td>6/29/1962</td>\n",
       "      <td>Jersey City, NJ</td>\n",
       "      <td>Male</td>\n",
       "      <td>US Naval Academy; Florida Institute of Technology</td>\n",
       "      <td>Mathematics</td>\n",
       "      <td>Engineering Management</td>\n",
       "      <td>Colonel</td>\n",
       "      <td>US Marine Corps (Retired)</td>\n",
       "      <td>2</td>\n",
       "      <td>692</td>\n",
       "      <td>0</td>\n",
       "      <td>0.0</td>\n",
       "      <td>STS-120 (Discovery), STS-130 (Endeavor)</td>\n",
       "      <td>NaN</td>\n",
       "      <td>NaN</td>\n",
       "    </tr>\n",
       "  </tbody>\n",
       "</table>\n",
       "<p>357 rows × 19 columns</p>\n",
       "</div>"
      ],
      "text/plain": [
       "                      Name    Year  Group   Status Birth Date  \\\n",
       "0          Joseph M. Acaba  2004.0   19.0   Active  5/17/1967   \n",
       "1           Loren W. Acton     NaN    NaN  Retired   3/7/1936   \n",
       "2         James C. Adamson  1984.0   10.0  Retired   3/3/1946   \n",
       "3          Thomas D. Akers  1987.0   12.0  Retired  5/20/1951   \n",
       "4              Buzz Aldrin  1963.0    3.0  Retired  1/20/1930   \n",
       "..                     ...     ...    ...      ...        ...   \n",
       "352          David A. Wolf  1990.0   13.0  Retired  8/23/1956   \n",
       "353  Neil W. Woodward III   1998.0   17.0  Retired  7/26/1962   \n",
       "354       Alfred M. Worden  1966.0    5.0  Retired   2/7/1932   \n",
       "355          John W. Young  1962.0    2.0  Retired  9/24/1930   \n",
       "356        George D. Zamka  1998.0   17.0  Retired  6/29/1962   \n",
       "\n",
       "           Birth Place Gender  \\\n",
       "0        Inglewood, CA   Male   \n",
       "1         Lewiston, MT   Male   \n",
       "2           Warsaw, NY   Male   \n",
       "3        St. Louis, MO   Male   \n",
       "4        Montclair, NJ   Male   \n",
       "..                 ...    ...   \n",
       "352   Indianapolis, IN   Male   \n",
       "353        Chicago, IL   Male   \n",
       "354        Jackson, MI   Male   \n",
       "355  San Francisco, CA   Male   \n",
       "356    Jersey City, NJ   Male   \n",
       "\n",
       "                                            Alma Mater  \\\n",
       "0    University of California-Santa Barbara; Univer...   \n",
       "1     Montana State University; University of Colorado   \n",
       "2            US Military Academy; Princeton University   \n",
       "3                         University of Missouri-Rolla   \n",
       "4                             US Military Academy; MIT   \n",
       "..                                                 ...   \n",
       "352              Purdue University; Indiana University   \n",
       "353  MIT; University of Texas-Austin; George Washin...   \n",
       "354        US Military Academy; University of Michigan   \n",
       "355                    Georgia Institute of Technology   \n",
       "356  US Naval Academy; Florida Institute of Technology   \n",
       "\n",
       "          Undergraduate Major                            Graduate Major  \\\n",
       "0                     Geology                                   Geology   \n",
       "1         Engineering Physics                             Solar Physics   \n",
       "2                 Engineering                     Aerospace Engineering   \n",
       "3         Applied Mathematics                       Applied Mathematics   \n",
       "4      Mechanical Engineering                              Astronautics   \n",
       "..                        ...                                       ...   \n",
       "352    Electrical Engineering                                  Medicine   \n",
       "353                   Physics              Physics; Business Management   \n",
       "354          Military Science  Aeronautical & Astronautical Engineering   \n",
       "355  Aeronautical Engineering                                       NaN   \n",
       "356               Mathematics                    Engineering Management   \n",
       "\n",
       "    Military Rank            Military Branch  Space Flights  \\\n",
       "0             NaN                        NaN              2   \n",
       "1             NaN                        NaN              1   \n",
       "2         Colonel          US Army (Retired)              2   \n",
       "3         Colonel     US Air Force (Retired)              4   \n",
       "4         Colonel     US Air Force (Retired)              2   \n",
       "..            ...                        ...            ...   \n",
       "352           NaN                        NaN              3   \n",
       "353     Commander                    US Navy              0   \n",
       "354       Colonel     US Air Force (Retired)              1   \n",
       "355       Captain          US Navy (Retired)              6   \n",
       "356       Colonel  US Marine Corps (Retired)              2   \n",
       "\n",
       "     Space Flight (hr)  Space Walks  Space Walks (hr)  \\\n",
       "0                 3307            2              13.0   \n",
       "1                  190            0               0.0   \n",
       "2                  334            0               0.0   \n",
       "3                  814            4              29.0   \n",
       "4                  289            2               8.0   \n",
       "..                 ...          ...               ...   \n",
       "352               4044            7              41.0   \n",
       "353                  0            0               0.0   \n",
       "354                295            1               0.5   \n",
       "355                835            3              20.0   \n",
       "356                692            0               0.0   \n",
       "\n",
       "                                              Missions Death Date  \\\n",
       "0               STS-119 (Discovery), ISS-31/32 (Soyuz)        NaN   \n",
       "1                                STS 51-F (Challenger)        NaN   \n",
       "2                 STS-28 (Columbia), STS-43 (Atlantis)        NaN   \n",
       "3    STS-41 (Discovery), STS-49 (Endeavor), STS-61 ...        NaN   \n",
       "4                                 Gemini 12, Apollo 11        NaN   \n",
       "..                                                 ...        ...   \n",
       "352  STS-58 (Columbia). STS-86/89 (Atlantis/Endeavo...        NaN   \n",
       "353                                                NaN        NaN   \n",
       "354                                          Apollo 15        NaN   \n",
       "355  Gemini 3, Gemini 10, Apollo 10, Apollo 16, STS...        NaN   \n",
       "356            STS-120 (Discovery), STS-130 (Endeavor)        NaN   \n",
       "\n",
       "    Death Mission  \n",
       "0             NaN  \n",
       "1             NaN  \n",
       "2             NaN  \n",
       "3             NaN  \n",
       "4             NaN  \n",
       "..            ...  \n",
       "352           NaN  \n",
       "353           NaN  \n",
       "354           NaN  \n",
       "355           NaN  \n",
       "356           NaN  \n",
       "\n",
       "[357 rows x 19 columns]"
      ]
     },
     "execution_count": 211,
     "metadata": {},
     "output_type": "execute_result"
    }
   ],
   "source": [
    "data"
   ]
  },
  {
   "cell_type": "code",
   "execution_count": null,
   "id": "6a0712aa",
   "metadata": {},
   "outputs": [],
   "source": []
  }
 ],
 "metadata": {
  "kernelspec": {
   "display_name": "Python 3",
   "language": "python",
   "name": "python3"
  },
  "language_info": {
   "codemirror_mode": {
    "name": "ipython",
    "version": 3
   },
   "file_extension": ".py",
   "mimetype": "text/x-python",
   "name": "python",
   "nbconvert_exporter": "python",
   "pygments_lexer": "ipython3",
   "version": "3.7.4"
  }
 },
 "nbformat": 4,
 "nbformat_minor": 5
}
