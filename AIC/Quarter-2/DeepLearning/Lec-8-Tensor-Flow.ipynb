{
 "cells": [
  {
   "cell_type": "code",
   "execution_count": 2,
   "id": "d407fb71",
   "metadata": {},
   "outputs": [
    {
     "name": "stdout",
     "output_type": "stream",
     "text": [
      "Welcome to Tensor Flow\n",
      "Tensor Flow Version Installed on this machine is 2.9.1\n"
     ]
    }
   ],
   "source": [
    "import tensorflow as tf;\n",
    "print(\"Welcome to Tensor Flow\")\n",
    "print(\"Tensor Flow Version Installed on this machine is\",tf. __version__)"
   ]
  },
  {
   "cell_type": "code",
   "execution_count": 3,
   "id": "4f66f190",
   "metadata": {},
   "outputs": [],
   "source": [
    "## Now the nexy step is to import the mnist dataset from the keras library in tensor flow\n",
    "from tensorflow.keras.datasets import mnist\n"
   ]
  },
  {
   "cell_type": "code",
   "execution_count": 5,
   "id": "274e4c91",
   "metadata": {},
   "outputs": [
    {
     "name": "stdout",
     "output_type": "stream",
     "text": [
      "Downloading data from https://storage.googleapis.com/tensorflow/tf-keras-datasets/mnist.npz\n",
      "11490434/11490434 [==============================] - 7s 1us/step\n"
     ]
    }
   ],
   "source": [
    "## To load the dataset \n",
    "(train_images,train_labels),(test_images,test_labels)=mnist.load_data()"
   ]
  },
  {
   "cell_type": "code",
   "execution_count": 7,
   "id": "c86915fd",
   "metadata": {},
   "outputs": [
    {
     "name": "stdout",
     "output_type": "stream",
     "text": [
      "Lenght of Training Iamges =  60000\n",
      "Lenght of Training Labels =  60000\n",
      "Lenght of Test Iamges =  10000\n",
      "Lenght of Test Labels =  10000\n"
     ]
    }
   ],
   "source": [
    "## to check the length\n",
    "print(\"Lenght of Training Iamges = \",len(train_images))\n",
    "print(\"Lenght of Training Labels = \",len(train_labels))\n",
    "print(\"Lenght of Test Iamges = \",len(test_images))\n",
    "print(\"Lenght of Test Labels = \",len(test_images))"
   ]
  },
  {
   "cell_type": "code",
   "execution_count": null,
   "id": "3279c0f7",
   "metadata": {},
   "outputs": [],
   "source": [
    "len(train_labels)"
   ]
  }
 ],
 "metadata": {
  "kernelspec": {
   "display_name": "Python 3 (ipykernel)",
   "language": "python",
   "name": "python3"
  },
  "language_info": {
   "codemirror_mode": {
    "name": "ipython",
    "version": 3
   },
   "file_extension": ".py",
   "mimetype": "text/x-python",
   "name": "python",
   "nbconvert_exporter": "python",
   "pygments_lexer": "ipython3",
   "version": "3.9.13"
  }
 },
 "nbformat": 4,
 "nbformat_minor": 5
}
