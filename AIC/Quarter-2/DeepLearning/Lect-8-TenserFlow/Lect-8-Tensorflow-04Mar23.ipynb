{
 "cells": [
  {
   "cell_type": "code",
   "execution_count": 2,
   "id": "8b0887a0",
   "metadata": {},
   "outputs": [
    {
     "name": "stdout",
     "output_type": "stream",
     "text": [
      "2.10.0\n"
     ]
    }
   ],
   "source": [
    "#To import tensorflow \n",
    "import tensorflow as tf\n",
    "print(tf.__version__)\n"
   ]
  },
  {
   "cell_type": "code",
   "execution_count": 3,
   "id": "ff7b9b48",
   "metadata": {},
   "outputs": [
    {
     "name": "stdout",
     "output_type": "stream",
     "text": [
      "Downloading data from https://storage.googleapis.com/tensorflow/tf-keras-datasets/mnist.npz\n",
      "11490434/11490434 [==============================] - 6s 1us/step\n"
     ]
    }
   ],
   "source": [
    "# To import the mnist dataset\n",
    "from keras.datasets import mnist\n",
    "(train_images, train_labels), (test_images, test_labels) = mnist.load_data()"
   ]
  },
  {
   "cell_type": "code",
   "execution_count": 5,
   "id": "280257fd",
   "metadata": {},
   "outputs": [
    {
     "name": "stdout",
     "output_type": "stream",
     "text": [
      "Number of images Train Images =  60000\n",
      "Number of images Train Labels =  60000\n",
      "Number of images Test Images =  10000\n",
      "Number of images Test Labels =  10000\n"
     ]
    }
   ],
   "source": [
    "# Number of Images in Train and Test Datasets\n",
    "print(\"Number of images Train Images = \" , len(train_images))\n",
    "print(\"Number of images Train Labels = \" , len(train_labels))\n",
    "print(\"Number of images Test Images = \" , len(test_images))\n",
    "print(\"Number of images Test Labels = \" , len(test_labels))"
   ]
  },
  {
   "cell_type": "code",
   "execution_count": 9,
   "id": "f2027f2b",
   "metadata": {},
   "outputs": [
    {
     "name": "stdout",
     "output_type": "stream",
     "text": [
      "Shape of each Train Image =  (28, 28)\n",
      "Shape of Train Images Data Set =  (60000, 28, 28)\n"
     ]
    }
   ],
   "source": [
    "# To check the shape of the Dataset\n",
    "print(\"Shape of each Train Image = \" , train_images[0].shape)\n",
    "#Each train image is a 2 dimensional Numpy array fo 28 * 28\n",
    "\n",
    "print(\"Shape of Train Images Data Set = \" , train_images.shape)\n",
    "# The train images dataset is a 3 Dimensional Numpy Array containing 60000 images and each image of size 28 * 28\n"
   ]
  },
  {
   "cell_type": "code",
   "execution_count": 11,
   "id": "87c2b2c0",
   "metadata": {},
   "outputs": [],
   "source": [
    "from keras import models\n",
    "from keras import layers\n",
    "network = models.Sequential()\n",
    "# It means we are using a sequential model \n",
    "\n",
    "network.add(layers.Dense(512, activation='relu', input_shape=(28 * 28,)))\n",
    "# Our network consists of a sequence of two Dense layers, which are densely connected (also called\n",
    "# fully connected) neural layers. First Layer is the input model which is in a vector form.\n",
    "# Second lay is the hidden layer that contains 512 . The activation mathematical method is relu\n",
    "\n",
    "network.add(layers.Dense(10, activation='softmax'))\n",
    "# The second (and last) layer is a 10-way softmax layer, which means # it will return an array of 10\n",
    "# probability scores (sum￾ming to 1). Each score will be the probability that the current digit image\n",
    "# belongs to one of our 10 digit classes.\n"
   ]
  },
  {
   "cell_type": "code",
   "execution_count": 13,
   "id": "99654c50",
   "metadata": {},
   "outputs": [],
   "source": [
    "# To make the network ready for training, we need to pick three more things, as part of the compilation step:\n",
    "# 1) A loss function—How the network will be able to measure its performance on the training data, \n",
    "# and thus how it will be able to steer itself in the right direc￾tion.\n",
    "# 2) An optimizer—The mechanism through which the network will update itself based on the data it\n",
    "# sees and its loss function.\n",
    "# 3) Metrics to monitor during training and testing—Here, we’ll only care about accu￾racy (the \n",
    "# fraction of the images that were correctly classified).\n",
    "\n",
    "network.compile(optimizer='rmsprop', loss='categorical_crossentropy', metrics=['accuracy'])"
   ]
  },
  {
   "cell_type": "code",
   "execution_count": 15,
   "id": "db74afb0",
   "metadata": {},
   "outputs": [],
   "source": [
    "# Before training, we’ll preprocess the data by reshaping it into the shape the network expects and scaling it so that all \n",
    "# values are in the [0, 1] interval. Previously, our training images, for instance, were stored in an array of shape (60000, \n",
    "# 28, 28) of type uint8 with values in the [0, 255] interval. We transform it into a float32 array of shape (60000, 28 * 28) \n",
    "# with values between 0 and 1.\n",
    "# So we need to transform our 3d Dataset into 2d having 60k rows and 784 columns\n",
    "\n",
    "train_images = train_images.reshape((60000, 28 * 28))\n",
    "train_images = train_images.astype('float32') / 255\n",
    "test_images = test_images.reshape((10000, 28 * 28))\n",
    "test_images = test_images.astype('float32') / 255"
   ]
  },
  {
   "cell_type": "code",
   "execution_count": 16,
   "id": "a67a9663",
   "metadata": {},
   "outputs": [],
   "source": [
    "# Preparing the Labels\n",
    "from keras.utils import to_categorical\n",
    "train_labels = to_categorical(train_labels)\n",
    "test_labels = to_categorical(test_labels)"
   ]
  },
  {
   "cell_type": "code",
   "execution_count": 17,
   "id": "44163e3f",
   "metadata": {},
   "outputs": [
    {
     "name": "stdout",
     "output_type": "stream",
     "text": [
      "Epoch 1/5\n",
      "469/469 [==============================] - 3s 3ms/step - loss: 1.4984 - accuracy: 0.6492\n",
      "Epoch 2/5\n",
      "469/469 [==============================] - 2s 3ms/step - loss: 0.6002 - accuracy: 0.8486\n",
      "Epoch 3/5\n",
      "469/469 [==============================] - 2s 4ms/step - loss: 0.4172 - accuracy: 0.8869\n",
      "Epoch 4/5\n",
      "469/469 [==============================] - 1s 3ms/step - loss: 0.3561 - accuracy: 0.9000\n",
      "Epoch 5/5\n",
      "469/469 [==============================] - 2s 3ms/step - loss: 0.3258 - accuracy: 0.9073\n"
     ]
    },
    {
     "data": {
      "text/plain": [
       "<keras.callbacks.History at 0x2738d92cb20>"
      ]
     },
     "execution_count": 17,
     "metadata": {},
     "output_type": "execute_result"
    }
   ],
   "source": [
    "# Train the network\n",
    "# We’re now ready to train the network, which in Keras is done via a call to the net￾work’s fit method—we fit the model to its \n",
    "# training data:\n",
    "network.fit(train_images, train_labels, epochs=5, batch_size=128)\n",
    "# Batch size means how much data it should fetch at a time.."
   ]
  },
  {
   "cell_type": "code",
   "execution_count": 18,
   "id": "3c871219",
   "metadata": {},
   "outputs": [
    {
     "name": "stdout",
     "output_type": "stream",
     "text": [
      "313/313 [==============================] - 1s 1ms/step - loss: 0.3060 - accuracy: 0.9123\n",
      "test_acc: 0.9122999906539917\n"
     ]
    }
   ],
   "source": [
    "# We quickly reach an accuracy of 0.989 (98.9%) on the training data. Now let’s\n",
    "# check that the model performs well on the test set, too:\n",
    "test_loss, test_acc = network.evaluate(test_images, test_labels)\n",
    "print('test_acc:', test_acc)"
   ]
  },
  {
   "cell_type": "code",
   "execution_count": null,
   "id": "ad289357",
   "metadata": {},
   "outputs": [],
   "source": [
    "# The test-set accuracy turns out to be 97.8%—that’s quite a bit lower than the training set accuracy. This gap between\n",
    "# training accuracy and test accuracy is an example of overfitting: the fact that machine-learning models tend to perform\n",
    "# worse on new data than on their training data. "
   ]
  }
 ],
 "metadata": {
  "kernelspec": {
   "display_name": "Python 3 (ipykernel)",
   "language": "python",
   "name": "python3"
  },
  "language_info": {
   "codemirror_mode": {
    "name": "ipython",
    "version": 3
   },
   "file_extension": ".py",
   "mimetype": "text/x-python",
   "name": "python",
   "nbconvert_exporter": "python",
   "pygments_lexer": "ipython3",
   "version": "3.9.16"
  }
 },
 "nbformat": 4,
 "nbformat_minor": 5
}
