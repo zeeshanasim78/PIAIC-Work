{
 "cells": [
  {
   "cell_type": "code",
   "execution_count": null,
   "id": "6f1bed08",
   "metadata": {},
   "outputs": [],
   "source": [
    "#Numpy\n",
    "# Numerical \n"
   ]
  },
  {
   "cell_type": "code",
   "execution_count": 1,
   "id": "1facfc8b",
   "metadata": {},
   "outputs": [],
   "source": [
    "import numpy as np\n"
   ]
  },
  {
   "cell_type": "code",
   "execution_count": 6,
   "id": "2380d005",
   "metadata": {},
   "outputs": [
    {
     "data": {
      "text/plain": [
       "4"
      ]
     },
     "execution_count": 6,
     "metadata": {},
     "output_type": "execute_result"
    }
   ],
   "source": [
    "# Creating an array using a python list\n",
    "x=np.array([22,33,44,55])\n",
    "x\n",
    "x.size\n"
   ]
  },
  {
   "cell_type": "code",
   "execution_count": 9,
   "id": "c249e96a",
   "metadata": {},
   "outputs": [
    {
     "data": {
      "text/plain": [
       "1"
      ]
     },
     "execution_count": 9,
     "metadata": {},
     "output_type": "execute_result"
    }
   ],
   "source": [
    "# 1d = Vector\n",
    "# 2d = Matrix\n",
    "# 3d = Cube\n",
    "# nd = .....\n",
    "x.shape   \n",
    "x.ndim # Will return 1 dimension"
   ]
  },
  {
   "cell_type": "code",
   "execution_count": 11,
   "id": "738b4b71",
   "metadata": {},
   "outputs": [
    {
     "data": {
      "text/plain": [
       "(3, 3)"
      ]
     },
     "execution_count": 11,
     "metadata": {},
     "output_type": "execute_result"
    }
   ],
   "source": [
    "arr1d=np.arange(10)\n",
    "arr1d.shape\n",
    "arr2d=np.array([[1,2,3],[11,22,33],[111,222,333]])\n",
    "arr2d.shape"
   ]
  },
  {
   "cell_type": "code",
   "execution_count": 18,
   "id": "4649bc6b",
   "metadata": {},
   "outputs": [
    {
     "data": {
      "text/plain": [
       "array([[ 0,  1,  2,  3,  4,  5,  6,  7,  8,  9, 10, 11, 12, 13, 14, 15,\n",
       "        16, 17, 18, 19]])"
      ]
     },
     "execution_count": 18,
     "metadata": {},
     "output_type": "execute_result"
    }
   ],
   "source": [
    "arr2d=np.arange(20).reshape(1,20)\n",
    "#  vakue in arange is the number of elements to be included\n",
    "# 1st element in the reshaoe is no of rows and 2nd elements is columns in a row\n",
    "# So the above statement tell python to divide 20 elements in 2d with 1 row and 20 columns\n",
    "arr2d"
   ]
  },
  {
   "cell_type": "code",
   "execution_count": 19,
   "id": "1d59cacb",
   "metadata": {},
   "outputs": [
    {
     "data": {
      "text/plain": [
       "array([[ 0,  1,  2,  3],\n",
       "       [ 4,  5,  6,  7],\n",
       "       [ 8,  9, 10, 11],\n",
       "       [12, 13, 14, 15],\n",
       "       [16, 17, 18, 19]])"
      ]
     },
     "execution_count": 19,
     "metadata": {},
     "output_type": "execute_result"
    }
   ],
   "source": [
    "arr2d=np.arange(20).reshape(5,4)\n",
    "#  vakue in arange is the number of elements to be included\n",
    "# 1st element in the reshaoe is no of rows and 2nd elements is columns in a row\n",
    "# So the above statement tell python to divide 20 elements in 2d with 5 row and 4 columns\n",
    "# Please note that total no of elements should be that all elements can be adjusted in the shape\n",
    "\n",
    "arr2d"
   ]
  },
  {
   "cell_type": "code",
   "execution_count": 21,
   "id": "eec0d845",
   "metadata": {},
   "outputs": [
    {
     "data": {
      "text/plain": [
       "14"
      ]
     },
     "execution_count": 21,
     "metadata": {},
     "output_type": "execute_result"
    }
   ],
   "source": [
    "arr2d[2,3] # Will return 11\n",
    "arr2d[3][2] # will return 14\n"
   ]
  },
  {
   "cell_type": "code",
   "execution_count": 24,
   "id": "192641ff",
   "metadata": {},
   "outputs": [
    {
     "data": {
      "text/plain": [
       "array([[[ 0,  1,  2,  3],\n",
       "        [ 4,  5,  6,  7],\n",
       "        [ 8,  9, 10, 11],\n",
       "        [12, 13, 14, 15]],\n",
       "\n",
       "       [[16, 17, 18, 19],\n",
       "        [20, 21, 22, 23],\n",
       "        [24, 25, 26, 27],\n",
       "        [28, 29, 30, 31]],\n",
       "\n",
       "       [[32, 33, 34, 35],\n",
       "        [36, 37, 38, 39],\n",
       "        [40, 41, 42, 43],\n",
       "        [44, 45, 46, 47]],\n",
       "\n",
       "       [[48, 49, 50, 51],\n",
       "        [52, 53, 54, 55],\n",
       "        [56, 57, 58, 59],\n",
       "        [60, 61, 62, 63]]])"
      ]
     },
     "execution_count": 24,
     "metadata": {},
     "output_type": "execute_result"
    }
   ],
   "source": [
    "arr3d=np.arange(64).reshape(4,4,4)\n",
    "arr3d"
   ]
  },
  {
   "cell_type": "code",
   "execution_count": 33,
   "id": "93efde39",
   "metadata": {},
   "outputs": [
    {
     "data": {
      "text/plain": [
       "array([   0, 1215, 2430, 3645])"
      ]
     },
     "execution_count": 33,
     "metadata": {},
     "output_type": "execute_result"
    }
   ],
   "source": [
    "# LEts assumne we have array and we want  to mutiple every element of array with 4\n",
    "# In python we can use for loop to this action\n",
    "# In numoy we cxan also do this using a operation like a simple variable as\n",
    "arr=np.arange(10)\n",
    "arr=arr * 2\n",
    "arr\n",
    "# Same is valuid for any dimensional variable\n",
    "arr2d\n",
    "arr2d=arr2d * 3\n",
    "arr2d\n",
    "\n",
    "# To multiple only one dimension\n",
    "arr2d[0]=arr2d[0]*5\n",
    "arr2d"
   ]
  },
  {
   "cell_type": "code",
   "execution_count": 36,
   "id": "0535eda9",
   "metadata": {},
   "outputs": [
    {
     "data": {
      "text/plain": [
       "array([[25, 27, 29, 31, 33],\n",
       "       [35, 37, 39, 41, 43],\n",
       "       [45, 47, 49, 51, 53],\n",
       "       [55, 57, 59, 61, 63],\n",
       "       [65, 67, 69, 71, 73]])"
      ]
     },
     "execution_count": 36,
     "metadata": {},
     "output_type": "execute_result"
    }
   ],
   "source": [
    "a=np.arange(25).reshape(5,5)\n",
    "b=np.arange(25,50).reshape(5,5)\n",
    "c=a+b #m This is known as Mirror Operations or Elements wise operations\n",
    "c"
   ]
  },
  {
   "cell_type": "code",
   "execution_count": 37,
   "id": "1af0e47b",
   "metadata": {},
   "outputs": [
    {
     "data": {
      "text/plain": [
       "array([[ 400,  410,  420,  430,  440],\n",
       "       [1275, 1310, 1345, 1380, 1415],\n",
       "       [2150, 2210, 2270, 2330, 2390],\n",
       "       [3025, 3110, 3195, 3280, 3365],\n",
       "       [3900, 4010, 4120, 4230, 4340]])"
      ]
     },
     "execution_count": 37,
     "metadata": {},
     "output_type": "execute_result"
    }
   ],
   "source": [
    "# Now if me want do the liner algebra matix multiplication where 1st matrix row is mutiplied with column of 2nd matrix and so on\n",
    "# for that we use\n",
    "a=np.arange(25).reshape(5,5)\n",
    "b=np.arange(25,50).reshape(5,5)\n",
    "c=a@b # Dot will mutiple like liner algebra where 1st row of a matrix is mutipled with row of 2nd matrix\n",
    "c"
   ]
  },
  {
   "cell_type": "code",
   "execution_count": 45,
   "id": "c6731053",
   "metadata": {},
   "outputs": [
    {
     "data": {
      "text/plain": [
       "array([[ 8],\n",
       "       [13],\n",
       "       [18]])"
      ]
     },
     "execution_count": 45,
     "metadata": {},
     "output_type": "execute_result"
    }
   ],
   "source": [
    "# Slicing in Numpy\n",
    "ar = np.arange(25).reshape(5,5)\n",
    "ar\n",
    "# For slicing we have to give start:end of both row and col\n",
    "ar[1:4,3]\n",
    "# For slicing we have to give start:end of both row and col\n",
    "ar[1:4,3:4]"
   ]
  },
  {
   "cell_type": "code",
   "execution_count": 47,
   "id": "76652aa2",
   "metadata": {},
   "outputs": [
    {
     "data": {
      "text/plain": [
       "array([[ 0,  1,  2,  3,  4],\n",
       "       [ 5,  6,  7,  8,  9],\n",
       "       [10, 11, 12, 13, 14],\n",
       "       [15, 16, 17, 18, 19],\n",
       "       [20, 21, 22, 23, 24]])"
      ]
     },
     "execution_count": 47,
     "metadata": {},
     "output_type": "execute_result"
    }
   ],
   "source": [
    "## Mask\n",
    "# Consider array\n",
    "ar=np.arange(25).reshape(5,5)\n",
    "ar"
   ]
  },
  {
   "cell_type": "code",
   "execution_count": 48,
   "id": "4790ce56",
   "metadata": {},
   "outputs": [
    {
     "data": {
      "text/plain": [
       "array([ 0,  5, 10, 15, 20])"
      ]
     },
     "execution_count": 48,
     "metadata": {},
     "output_type": "execute_result"
    }
   ],
   "source": [
    "# Now if we want to get values which are divisible by 5\n",
    "ar[ar%5==0]"
   ]
  },
  {
   "cell_type": "code",
   "execution_count": 49,
   "id": "2d66c0ff",
   "metadata": {},
   "outputs": [
    {
     "data": {
      "text/plain": [
       "array([ 0, 10, 20])"
      ]
     },
     "execution_count": 49,
     "metadata": {},
     "output_type": "execute_result"
    }
   ],
   "source": [
    "# Similarly we can add more than one condition as\n",
    "ar[(ar%5==0) & (ar%10==0)]"
   ]
  },
  {
   "cell_type": "code",
   "execution_count": 51,
   "id": "b89098fa",
   "metadata": {},
   "outputs": [
    {
     "data": {
      "text/plain": [
       "array([['Y', 'N', 'N', 'N', 'N'],\n",
       "       ['Y', 'N', 'N', 'N', 'N'],\n",
       "       ['Y', 'N', 'N', 'N', 'N'],\n",
       "       ['Y', 'N', 'N', 'N', 'N'],\n",
       "       ['Y', 'N', 'N', 'N', 'N']], dtype='<U1')"
      ]
     },
     "execution_count": 51,
     "metadata": {},
     "output_type": "execute_result"
    }
   ],
   "source": [
    "# We can also find a value and place something at those location full filling condition\n",
    "np.where(ar%5==0,\"Y\",\"N\")"
   ]
  },
  {
   "cell_type": "code",
   "execution_count": 52,
   "id": "32784da4",
   "metadata": {},
   "outputs": [
    {
     "data": {
      "text/plain": [
       "array([['Y', 'N', 'N', 'N', 'N'],\n",
       "       ['N', 'N', 'N', 'N', 'N'],\n",
       "       ['Y', 'N', 'N', 'N', 'N'],\n",
       "       ['N', 'N', 'N', 'N', 'N'],\n",
       "       ['Y', 'N', 'N', 'N', 'N']], dtype='<U1')"
      ]
     },
     "execution_count": 52,
     "metadata": {},
     "output_type": "execute_result"
    }
   ],
   "source": [
    "#For multiplication conditions\n",
    "np.where((ar%5==0) & (ar%10==0),\"Y\",\"N\")"
   ]
  },
  {
   "cell_type": "code",
   "execution_count": 55,
   "id": "57488d26",
   "metadata": {},
   "outputs": [
    {
     "data": {
      "text/plain": [
       "array([[ 0,  1,  2,  3,  4],\n",
       "       [ 5,  6,  7,  8,  9],\n",
       "       [10, 11, 12, 13, 14],\n",
       "       [15, 16, 17, 18, 19],\n",
       "       [20, 21, 22, 23, 24],\n",
       "       [25, 26, 27, 28, 29],\n",
       "       [30, 31, 32, 33, 34],\n",
       "       [35, 36, 37, 38, 39],\n",
       "       [40, 41, 42, 43, 44],\n",
       "       [45, 46, 47, 48, 49]])"
      ]
     },
     "execution_count": 55,
     "metadata": {},
     "output_type": "execute_result"
    }
   ],
   "source": [
    "# Staking \n",
    "a=np.arange(25).reshape(5,5)\n",
    "b=np.arange(25,50).reshape(5,5)\n",
    "np.concatenate((a,b),axis=0)"
   ]
  },
  {
   "cell_type": "code",
   "execution_count": 57,
   "id": "55c36c31",
   "metadata": {},
   "outputs": [
    {
     "data": {
      "text/plain": [
       "array([[[ 0,  1,  2,  3,  4],\n",
       "        [ 5,  6,  7,  8,  9],\n",
       "        [10, 11, 12, 13, 14],\n",
       "        [15, 16, 17, 18, 19],\n",
       "        [20, 21, 22, 23, 24]],\n",
       "\n",
       "       [[25, 26, 27, 28, 29],\n",
       "        [30, 31, 32, 33, 34],\n",
       "        [35, 36, 37, 38, 39],\n",
       "        [40, 41, 42, 43, 44],\n",
       "        [45, 46, 47, 48, 49]]])"
      ]
     },
     "execution_count": 57,
     "metadata": {},
     "output_type": "execute_result"
    }
   ],
   "source": [
    "np.stack((a,b))"
   ]
  },
  {
   "cell_type": "code",
   "execution_count": 58,
   "id": "47a314c2",
   "metadata": {},
   "outputs": [
    {
     "data": {
      "text/plain": [
       "array([[ 0,  1,  2,  3,  4, 25, 26, 27, 28, 29],\n",
       "       [ 5,  6,  7,  8,  9, 30, 31, 32, 33, 34],\n",
       "       [10, 11, 12, 13, 14, 35, 36, 37, 38, 39],\n",
       "       [15, 16, 17, 18, 19, 40, 41, 42, 43, 44],\n",
       "       [20, 21, 22, 23, 24, 45, 46, 47, 48, 49]])"
      ]
     },
     "execution_count": 58,
     "metadata": {},
     "output_type": "execute_result"
    }
   ],
   "source": [
    "np.hstack((a,b))"
   ]
  },
  {
   "cell_type": "code",
   "execution_count": 59,
   "id": "108b0978",
   "metadata": {},
   "outputs": [
    {
     "data": {
      "text/plain": [
       "array([[ 0,  1,  2,  3,  4],\n",
       "       [ 5,  6,  7,  8,  9],\n",
       "       [10, 11, 12, 13, 14],\n",
       "       [15, 16, 17, 18, 19],\n",
       "       [20, 21, 22, 23, 24],\n",
       "       [25, 26, 27, 28, 29],\n",
       "       [30, 31, 32, 33, 34],\n",
       "       [35, 36, 37, 38, 39],\n",
       "       [40, 41, 42, 43, 44],\n",
       "       [45, 46, 47, 48, 49]])"
      ]
     },
     "execution_count": 59,
     "metadata": {},
     "output_type": "execute_result"
    }
   ],
   "source": [
    "np.vstack((a,b))"
   ]
  },
  {
   "cell_type": "code",
   "execution_count": null,
   "id": "1fb4b010",
   "metadata": {},
   "outputs": [],
   "source": []
  }
 ],
 "metadata": {
  "kernelspec": {
   "display_name": "Python 3 (ipykernel)",
   "language": "python",
   "name": "python3"
  },
  "language_info": {
   "codemirror_mode": {
    "name": "ipython",
    "version": 3
   },
   "file_extension": ".py",
   "mimetype": "text/x-python",
   "name": "python",
   "nbconvert_exporter": "python",
   "pygments_lexer": "ipython3",
   "version": "3.9.12"
  }
 },
 "nbformat": 4,
 "nbformat_minor": 5
}
