{
  "nbformat": 4,
  "nbformat_minor": 0,
  "metadata": {
    "colab": {
      "provenance": []
    },
    "kernelspec": {
      "name": "python3",
      "display_name": "Python 3"
    },
    "language_info": {
      "name": "python"
    }
  },
  "cells": [
    {
      "cell_type": "code",
      "execution_count": null,
      "metadata": {
        "id": "6neos3EFu80r"
      },
      "outputs": [],
      "source": [
        "## Session # 2 : Quarter III\n",
        "\n",
        "# Chapter # 5 : Deep Learning fpr Computer Vision"
      ]
    },
    {
      "cell_type": "code",
      "source": [
        "# Session # 2 : 18Jun23\n",
        "# Book : Deep Learning with Python\n",
        "# Part II : Deep Learning in Practice\n",
        "\n",
        "# Google Drive Link :  https://drive.google.com/drive/folders/1ZZjddzcjnJFq3Z4hdPXIY_4B5_-C4vNw?usp=drive_link\n",
        "\n",
        "# Giant Companies have captured the field of AI. So it would be a good idea that we should use the already developed API and focus on our logic part and product development.\n",
        "\n",
        "# Book Name : Deep Learning with Python   :   Chapter # 5: Deep Learning for Computer Vision\n",
        "\n",
        "#Convolutional Neural Network is specialized for Computer Vision and modified version of Artificial Neural Network.\n",
        "\n",
        "# Let us discuss # Listing 5.1 : Instiating a small content of Vook\n",
        "# The following lines of code show you what a basic convnet looks like. It’s a stack of Conv2D and MaxPooling2D layers.\n"
      ],
      "metadata": {
        "id": "NTglQJyIvDEX"
      },
      "execution_count": null,
      "outputs": []
    },
    {
      "cell_type": "code",
      "source": [
        "# Training a convnet from scratch on a small dataset\n",
        "# Download Dataset from the Kaggle Link https://www.kaggle.com/c/dogs-vs-cats/data\n",
        "\n",
        "#Having to train an image-classification model using very little data is a common situation, which you’ll likely encounter in practice if you ever do computer vision in a\n",
        "#professional context A “few” samples can mean anywhere from a few hundred to a\n",
        "# few tens of thousands of images. As a practical example, we’ll focus on classifying\n",
        "# images as dogs or cats, in a dataset containing 4,000 pictures of cats and dogs (2,000\n",
        "# cats, 2,000 dogs). We’ll use 2,000 pictures for training—1,000 for validation, and\n",
        "# 1,000 for testin#\n",
        "# Actually it contains 12500 images of cats and Dogs each\n",
        "\n",
        "# In the next section, we’ll review two more essential techniques for applying deep#\n",
        "# learning to small datasets: feature extraction with a pretrained network (which will get you\n",
        "# to an accuracy of 90% to 96%) and fine-tuning a pretrained network (this will get you to a\n",
        "# final accuracy of 97%). Together, these three strategies—training a small model from\n",
        "# scratch, doing feature extraction using a pretrained model, and fine-tuning a pretrained model—will constitute your future toolbox for tackling the problem of performing image classification with small datasets.\n"
      ],
      "metadata": {
        "id": "daTdB6kWxqX4"
      },
      "execution_count": null,
      "outputs": []
    },
    {
      "cell_type": "code",
      "source": [
        "import os, shutil"
      ],
      "metadata": {
        "id": "96WeZ2PZ_l40"
      },
      "execution_count": 4,
      "outputs": []
    },
    {
      "cell_type": "code",
      "source": [
        "original_dataset_dir = r'D:\\Data\\Datasets\\dogs-vs-cats\\train'\n",
        "base_dir = r'D:\\Data\\Datasets\\dogs-vs-cats'"
      ],
      "metadata": {
        "id": "kqwwFPnE_nFe"
      },
      "execution_count": 6,
      "outputs": []
    },
    {
      "cell_type": "code",
      "source": [
        "#os.mkdir(base_dir)\n",
        "train_dir = os.path.join(base_dir, 'train')\n",
        "#os.mkdir(train_dir)\n",
        "validation_dir = os.path.join(base_dir, 'validation')\n",
        "#os.mkdir(validation_dir)\n",
        "test_dir = os.path.join(base_dir, 'test')"
      ],
      "metadata": {
        "id": "GsAizxYhA-z9"
      },
      "execution_count": 12,
      "outputs": []
    },
    {
      "cell_type": "code",
      "source": [
        "os.mkdir(test_dir)\n",
        "train_cats_dir = os.path.join(train_dir, 'cats')\n",
        "os.mkdir(train_cats_dir)\n",
        "train_dogs_dir = os.path.join(train_dir, 'dogs')\n",
        "os.mkdir(train_dogs_dir)"
      ],
      "metadata": {
        "id": "4wDrsP34B1kV"
      },
      "execution_count": 13,
      "outputs": []
    },
    {
      "cell_type": "code",
      "source": [
        "validation_cats_dir = os.path.join(validation_dir, 'cats')\n",
        "os.mkdir(validation_cats_dir)\n",
        "validation_dogs_dir = os.path.join(validation_dir, 'dogs')\n",
        "os.mkdir(validation_dogs_dir)\n",
        "test_cats_dir = os.path.join(test_dir, 'cats')\n",
        "os.mkdir(test_cats_dir)\n",
        "test_dogs_dir = os.path.join(test_dir, 'dogs')\n",
        "os.mkdir(test_dogs_dir)"
      ],
      "metadata": {
        "id": "uc4yS46-CLs9"
      },
      "execution_count": 14,
      "outputs": []
    },
    {
      "cell_type": "code",
      "source": [
        "fnames = ['dog.{}.jpg'.format(i) for i in range(1000, 1500)]\n",
        "for fname in fnames:\n",
        "  src = os.path.join(original_dataset_dir, fname)\n",
        "  dst = os.path.join(validation_dogs_dir, fname)\n",
        "  shutil.copyfile(src, dst)"
      ],
      "metadata": {
        "colab": {
          "base_uri": "https://localhost:8080/",
          "height": 339
        },
        "id": "12_8T_NlCTTt",
        "outputId": "23ba80f4-9cbd-4bcd-b926-c385ecafa08f"
      },
      "execution_count": 17,
      "outputs": [
        {
          "output_type": "error",
          "ename": "FileNotFoundError",
          "evalue": "ignored",
          "traceback": [
            "\u001b[0;31m---------------------------------------------------------------------------\u001b[0m",
            "\u001b[0;31mFileNotFoundError\u001b[0m                         Traceback (most recent call last)",
            "\u001b[0;32m<ipython-input-17-affa69bda450>\u001b[0m in \u001b[0;36m<cell line: 2>\u001b[0;34m()\u001b[0m\n\u001b[1;32m      3\u001b[0m   \u001b[0msrc\u001b[0m \u001b[0;34m=\u001b[0m \u001b[0mos\u001b[0m\u001b[0;34m.\u001b[0m\u001b[0mpath\u001b[0m\u001b[0;34m.\u001b[0m\u001b[0mjoin\u001b[0m\u001b[0;34m(\u001b[0m\u001b[0moriginal_dataset_dir\u001b[0m\u001b[0;34m,\u001b[0m \u001b[0mfname\u001b[0m\u001b[0;34m)\u001b[0m\u001b[0;34m\u001b[0m\u001b[0;34m\u001b[0m\u001b[0m\n\u001b[1;32m      4\u001b[0m   \u001b[0mdst\u001b[0m \u001b[0;34m=\u001b[0m \u001b[0mos\u001b[0m\u001b[0;34m.\u001b[0m\u001b[0mpath\u001b[0m\u001b[0;34m.\u001b[0m\u001b[0mjoin\u001b[0m\u001b[0;34m(\u001b[0m\u001b[0mvalidation_dogs_dir\u001b[0m\u001b[0;34m,\u001b[0m \u001b[0mfname\u001b[0m\u001b[0;34m)\u001b[0m\u001b[0;34m\u001b[0m\u001b[0;34m\u001b[0m\u001b[0m\n\u001b[0;32m----> 5\u001b[0;31m   \u001b[0mshutil\u001b[0m\u001b[0;34m.\u001b[0m\u001b[0mcopyfile\u001b[0m\u001b[0;34m(\u001b[0m\u001b[0msrc\u001b[0m\u001b[0;34m,\u001b[0m \u001b[0mdst\u001b[0m\u001b[0;34m)\u001b[0m\u001b[0;34m\u001b[0m\u001b[0;34m\u001b[0m\u001b[0m\n\u001b[0m",
            "\u001b[0;32m/usr/lib/python3.10/shutil.py\u001b[0m in \u001b[0;36mcopyfile\u001b[0;34m(src, dst, follow_symlinks)\u001b[0m\n\u001b[1;32m    252\u001b[0m         \u001b[0mos\u001b[0m\u001b[0;34m.\u001b[0m\u001b[0msymlink\u001b[0m\u001b[0;34m(\u001b[0m\u001b[0mos\u001b[0m\u001b[0;34m.\u001b[0m\u001b[0mreadlink\u001b[0m\u001b[0;34m(\u001b[0m\u001b[0msrc\u001b[0m\u001b[0;34m)\u001b[0m\u001b[0;34m,\u001b[0m \u001b[0mdst\u001b[0m\u001b[0;34m)\u001b[0m\u001b[0;34m\u001b[0m\u001b[0;34m\u001b[0m\u001b[0m\n\u001b[1;32m    253\u001b[0m     \u001b[0;32melse\u001b[0m\u001b[0;34m:\u001b[0m\u001b[0;34m\u001b[0m\u001b[0;34m\u001b[0m\u001b[0m\n\u001b[0;32m--> 254\u001b[0;31m         \u001b[0;32mwith\u001b[0m \u001b[0mopen\u001b[0m\u001b[0;34m(\u001b[0m\u001b[0msrc\u001b[0m\u001b[0;34m,\u001b[0m \u001b[0;34m'rb'\u001b[0m\u001b[0;34m)\u001b[0m \u001b[0;32mas\u001b[0m \u001b[0mfsrc\u001b[0m\u001b[0;34m:\u001b[0m\u001b[0;34m\u001b[0m\u001b[0;34m\u001b[0m\u001b[0m\n\u001b[0m\u001b[1;32m    255\u001b[0m             \u001b[0;32mtry\u001b[0m\u001b[0;34m:\u001b[0m\u001b[0;34m\u001b[0m\u001b[0;34m\u001b[0m\u001b[0m\n\u001b[1;32m    256\u001b[0m                 \u001b[0;32mwith\u001b[0m \u001b[0mopen\u001b[0m\u001b[0;34m(\u001b[0m\u001b[0mdst\u001b[0m\u001b[0;34m,\u001b[0m \u001b[0;34m'wb'\u001b[0m\u001b[0;34m)\u001b[0m \u001b[0;32mas\u001b[0m \u001b[0mfdst\u001b[0m\u001b[0;34m:\u001b[0m\u001b[0;34m\u001b[0m\u001b[0;34m\u001b[0m\u001b[0m\n",
            "\u001b[0;31mFileNotFoundError\u001b[0m: [Errno 2] No such file or directory: 'D:\\\\Data\\\\Datasets\\\\dogs-vs-cats\\\\train/dog.1000.jpg'"
          ]
        }
      ]
    },
    {
      "cell_type": "code",
      "source": [
        "## The relevance of deep learning for small-data problems\n",
        "#\n",
        "# You’ll sometimes hear that deep learning only works when lots of data is available.\n",
        "# This is valid in part: one fundamental characteristic of deep learning is that it can find\n",
        "# interesting features in the training data on its own, without any need for manual feature engineering, and this can only be achieved when lots of training examples are\n",
        "# available. This is especially true for problems where the input samples are very highdimensional, like images.\n",
        " # But what constitutes lots of samples is relative—relative to the size and depth of the\n",
        "# network you’re trying to train, for starters. It isn’t possible to train a convnet to solve a\n",
        "# complex problem with just a few tens of samples, but a few hundred can potentially\n",
        "# suffice if the model is small and well regularized and the task is simple. Because convnets learn local, translation-invariant features, they’re highly data efficient on percep\u0002tual problems. Training a convnet from scratch on a very small image dataset will still\n",
        "# yield reasonable results despite a relative lack of data, without the need for any custom\n",
        "# feature engineering. You’ll see this in action in this section"
      ],
      "metadata": {
        "id": "NUBuOGuh3J__"
      },
      "execution_count": null,
      "outputs": []
    },
    {
      "cell_type": "code",
      "source": [
        "from keras import layers\n",
        "from keras import models\n",
        "model = models.Sequential()\n",
        "model.add(layers.Conv2D(32, (3, 3), activation='relu',\n",
        "input_shape=(150, 150, 3)))\n",
        "model.add(layers.MaxPooling2D((2, 2)))\n",
        "model.add(layers.Conv2D(64, (3, 3), activation='relu'))\n",
        "model.add(layers.MaxPooling2D((2, 2)))\n",
        "model.add(layers.Conv2D(128, (3, 3), activation='relu'))\n",
        "model.add(layers.MaxPooling2D((2, 2)))\n",
        "model.add(layers.Conv2D(128, (3, 3), activation='relu'))\n",
        "model.add(layers.MaxPooling2D((2, 2)))\n",
        "model.add(layers.Flatten())\n",
        "model.add(layers.Dense(512, activation='relu'))\n",
        "model.add(layers.Dense(1, activation='sigmoid'))"
      ],
      "metadata": {
        "id": "YYkVf1Zw1bMB"
      },
      "execution_count": null,
      "outputs": []
    }
  ]
}