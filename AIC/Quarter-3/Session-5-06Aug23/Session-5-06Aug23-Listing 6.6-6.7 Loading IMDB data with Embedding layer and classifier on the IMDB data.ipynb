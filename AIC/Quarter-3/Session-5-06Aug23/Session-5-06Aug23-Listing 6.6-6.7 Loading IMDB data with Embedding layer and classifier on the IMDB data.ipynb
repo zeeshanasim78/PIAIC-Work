{
 "cells": [
  {
   "cell_type": "code",
   "execution_count": null,
   "id": "a79f7a56",
   "metadata": {},
   "outputs": [],
   "source": [
    "# LEARNING WORD EMBEDDINGS WITH THE EMBEDDING LAYER\n",
    "# The simplest way to associate a dense vector with a word is to choose the vector at random. The problem with this approach is \n",
    "# that the resulting embedding space has no structure: for instance, the words accurate and exact may end up with completely\n",
    "# different embeddings, even though they’re interchangeable in most sentences. It’s difficult for a deep neural network to make\n",
    "# sense of such a noisy, unstructured embedding space\n",
    "\n"
   ]
  },
  {
   "cell_type": "code",
   "execution_count": null,
   "id": "3a7e2c70",
   "metadata": {},
   "outputs": [],
   "source": [
    "# Listing 6.5 Instantiating an Embedding layer\n",
    "# The Embedding layer is best understood as a dictionary that maps integer indices (which stand for specific words) to dense\n",
    "# vectors. It takes integers as input, it looks up these integers in an internal dictionary, and it returns the associated\n",
    "# vectors. It’s effectively a dictionary lookup.\n",
    "\n",
    "# Word index >>>>> Embedding layer  >>>>>> Corresponding word vector\n",
    "\n",
    "# The Embedding layer takes at least two  arguments: the number of possible tokens  (here, 1,000: 1 + maximum word index) \n",
    "# and the dimensionality of the embeddings (here, 64).\n"
   ]
  },
  {
   "cell_type": "code",
   "execution_count": 10,
   "id": "7b3a3e5f",
   "metadata": {},
   "outputs": [],
   "source": [
    "# Listing 6.6 Loading the IMDB data for use with an Embedding layer\n",
    "from tensorflow.keras.datasets import imdb\n",
    "from tensorflow.keras import preprocessing\n",
    "from tensorflow.keras.layers import Embedding\n",
    "\n",
    "#from keras.utils.data_utils import pad_sequences\n",
    "\n",
    "max_features = 10000  # Number of words to consider as features\n",
    "\n",
    "maxlen = 20  # Cuts off the text after this number of words (among  the max_features most  common words)\n",
    "\n",
    "(x_train, y_train), (x_test, y_test) = imdb.load_data(num_words=max_features) # Loads the data as lists of integer\n",
    "\n",
    "\n",
    "x_train = preprocessing.sequence.pad_sequences(x_train, maxlen=maxlen)\n",
    "# Turns the lists of integers into a 2D integer tensor of shape (samples, maxlen)\n",
    "                                               \n",
    "x_test = preprocessing.sequence.pad_sequences(x_test, maxlen=maxlen)"
   ]
  },
  {
   "cell_type": "code",
   "execution_count": 11,
   "id": "a05b6e52",
   "metadata": {},
   "outputs": [
    {
     "name": "stdout",
     "output_type": "stream",
     "text": [
      "Model: \"sequential\"\n",
      "_________________________________________________________________\n",
      " Layer (type)                Output Shape              Param #   \n",
      "=================================================================\n",
      " embedding_2 (Embedding)     (None, 20, 8)             80000     \n",
      "                                                                 \n",
      " flatten (Flatten)           (None, 160)               0         \n",
      "                                                                 \n",
      " dense (Dense)               (None, 1)                 161       \n",
      "                                                                 \n",
      "=================================================================\n",
      "Total params: 80,161\n",
      "Trainable params: 80,161\n",
      "Non-trainable params: 0\n",
      "_________________________________________________________________\n",
      "Epoch 1/10\n",
      "625/625 [==============================] - 10s 10ms/step - loss: 0.6660 - acc: 0.6289 - val_loss: 0.6084 - val_acc: 0.7008\n",
      "Epoch 2/10\n",
      "625/625 [==============================] - 6s 10ms/step - loss: 0.5337 - acc: 0.7531 - val_loss: 0.5201 - val_acc: 0.7328\n",
      "Epoch 3/10\n",
      "625/625 [==============================] - 7s 11ms/step - loss: 0.4599 - acc: 0.7861 - val_loss: 0.5006 - val_acc: 0.7440\n",
      "Epoch 4/10\n",
      "625/625 [==============================] - 5s 9ms/step - loss: 0.4257 - acc: 0.8040 - val_loss: 0.4945 - val_acc: 0.7510\n",
      "Epoch 5/10\n",
      "625/625 [==============================] - 5s 9ms/step - loss: 0.4030 - acc: 0.8169 - val_loss: 0.4958 - val_acc: 0.7526\n",
      "Epoch 6/10\n",
      "625/625 [==============================] - 6s 10ms/step - loss: 0.3850 - acc: 0.8281 - val_loss: 0.4985 - val_acc: 0.7520\n",
      "Epoch 7/10\n",
      "625/625 [==============================] - 6s 9ms/step - loss: 0.3686 - acc: 0.8385 - val_loss: 0.5036 - val_acc: 0.7524\n",
      "Epoch 8/10\n",
      "625/625 [==============================] - 6s 10ms/step - loss: 0.3536 - acc: 0.8465 - val_loss: 0.5099 - val_acc: 0.7516\n",
      "Epoch 9/10\n",
      "625/625 [==============================] - 6s 10ms/step - loss: 0.3383 - acc: 0.8564 - val_loss: 0.5156 - val_acc: 0.7498\n",
      "Epoch 10/10\n",
      "625/625 [==============================] - 6s 9ms/step - loss: 0.3236 - acc: 0.8648 - val_loss: 0.5212 - val_acc: 0.7508\n"
     ]
    }
   ],
   "source": [
    "# Listing 6.7 Using an Embedding layer and classifier on the IMDB data\n",
    "from tensorflow.keras.models import Sequential\n",
    "from tensorflow.keras.layers import Flatten, Dense\n",
    "\n",
    "model = Sequential()\n",
    "\n",
    "model.add(Embedding(10000, 8, input_length=maxlen))\n",
    "# Specifies the maximum input length to the Embedding layer so you can later flatten the embedded inputs. After the Embedding \n",
    "# layer,  the activations have shape (samples, maxlen, 8)\n",
    "\n",
    "model.add(Flatten()) # Flattens the 3D tensor of embeddings into a 2D  tensor of shape (samples,  maxlen * 8)\n",
    "\n",
    "model.add(Dense(1, activation='sigmoid')) # Adds the classifier on top\n",
    "\n",
    "model.compile(optimizer='rmsprop', loss='binary_crossentropy', metrics=['acc'])\n",
    "\n",
    "model.summary()\n",
    "history = model.fit(x_train, y_train,\n",
    "epochs=10,\n",
    "batch_size=32,\n",
    "validation_split=0.2)"
   ]
  },
  {
   "cell_type": "code",
   "execution_count": null,
   "id": "0f357eea",
   "metadata": {},
   "outputs": [],
   "source": []
  }
 ],
 "metadata": {
  "kernelspec": {
   "display_name": "Python 3 (ipykernel)",
   "language": "python",
   "name": "python3"
  },
  "language_info": {
   "codemirror_mode": {
    "name": "ipython",
    "version": 3
   },
   "file_extension": ".py",
   "mimetype": "text/x-python",
   "name": "python",
   "nbconvert_exporter": "python",
   "pygments_lexer": "ipython3",
   "version": "3.9.12"
  }
 },
 "nbformat": 4,
 "nbformat_minor": 5
}
