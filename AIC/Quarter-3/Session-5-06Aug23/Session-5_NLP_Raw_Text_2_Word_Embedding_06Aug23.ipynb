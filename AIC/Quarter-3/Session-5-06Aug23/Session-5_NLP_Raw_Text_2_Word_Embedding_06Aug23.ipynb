{
 "cells": [
  {
   "cell_type": "code",
   "execution_count": null,
   "metadata": {
    "id": "0Y3P6KBOfr9v"
   },
   "outputs": [],
   "source": [
    "# Session 4 : 09Jul23\n",
    "# by Sir Nasir\n",
    "# Chapter # 6 :  Deep learning for text and sequences\n",
    "# Topic  : 6.1 :  Working with text data\n",
    "\n",
    "# Text is one of the most widespread forms of sequence data. It can be understood as either a sequence of characters or a sequence of words, but it’s most common to\n",
    "# work at the level of words.\n",
    "\n",
    "# Like all other neural networks, deep-learning models don’t take as input raw text: they only work with numeric tensors.\n",
    "# Vectorizing text is the process of transforming text into numeric tensors. This can be done in multiple ways:\n",
    "# a) Segment text into words, and transform each word into a vector.\n",
    "# b) Segment text into characters, and transform each character into a vector.\n",
    "# c) Extract n-grams of words or characters, and transform each n-gram into a vector. (N-grams are overlapping groups of multiple consecutive words or characters.)\n"
   ]
  },
  {
   "cell_type": "code",
   "execution_count": 1,
   "metadata": {
    "colab": {
     "base_uri": "https://localhost:8080/",
     "height": 287
    },
    "id": "jIzBzi6DYieI",
    "outputId": "fd8442f7-d7f4-4432-8fd7-401f76ff4781"
   },
   "outputs": [
    {
     "name": "stdout",
     "output_type": "stream",
     "text": [
      "Loop is completed\n"
     ]
    }
   ],
   "source": [
    "# 6.1.3 Putting it all together: from raw text to word embeddings\n",
    "# DOWNLOADING THE IMDB DATA AS RAW TEXT\n",
    "# First, head to http://mng.bz/0tIo and download the raw IMDB dataset. Uncompress it\n",
    "\n",
    "# Listing 6.8 Processing the labels of the raw IMDB data\n",
    "import os\n",
    "imdb_dir = r\"E:\\PIAIC\\AI-Course\\Quarter-3\\Session-4-09Jul23\\aclImdb\"\n",
    "train_dir = os.path.join(imdb_dir, 'test')\n",
    "\n",
    "labels = []\n",
    "texts = []\n",
    "\n",
    "#print(imdb_dir)\n",
    "#print(train_dir)\n",
    "for label_type in ['neg', 'pos']:\n",
    " dir_name = os.path.join(train_dir, label_type)\n",
    "# print(\"Dir Name : \",dir_name)\n",
    " for fname in os.listdir(dir_name):\n",
    "#   print(fname,label_type)\n",
    "   if fname[-4:] == '.txt':\n",
    "     f = open(os.path.join(dir_name, fname),encoding='utf-8')\n",
    "     texts.append(f.read())\n",
    "     f.close()\n",
    "     if label_type == 'neg':\n",
    "       labels.append(0)\n",
    "     else:\n",
    "       labels.append(1)\n",
    "\n",
    "print(\"Loop is completed\")\n"
   ]
  },
  {
   "cell_type": "code",
   "execution_count": 2,
   "metadata": {},
   "outputs": [
    {
     "name": "stdout",
     "output_type": "stream",
     "text": [
      "<function pad_sequences at 0x000001D48C81E8B0>\n",
      "Found 72633 unique tokens.\n",
      "Shape of data tensor: (17243, 100)\n",
      "Shape of label tensor: (17243,)\n",
      "Code Processing Completed..\n"
     ]
    }
   ],
   "source": [
    "# Listing 6.9 Tokenizing the text of the raw IMDB data\n",
    "# TOKENIZING THE DATA\n",
    "# Let’s vectorize the text and prepare a training and validation split, using the concepts introduced earlier in this section. Because pretrained word embeddings are meant to\n",
    "# be particularly useful on problems where little training data is available (otherwise, task-specific embeddings are likely to outperform them), we’ll add the following twist:\n",
    "# restricting the training data to the first 200 samples. So you’ll learn to classify movie reviews after looking at just 200 examples.\n",
    "\n",
    "from keras.preprocessing.text import Tokenizer\n",
    "\n",
    "# from keras.preprocessing.sequence import pad_sequences   # Not a valid Import statement Replace it with mentioned below statement\n",
    "\n",
    "from keras.utils import pad_sequences\n",
    "print(pad_sequences)\n",
    "\n",
    "\n",
    "import numpy as np\n",
    "\n",
    "maxlen = 100  # Cuts off reviews after 100 words\n",
    "training_samples = 200 # Trains on 200 samples\n",
    "validation_samples = 10000  #  Validates on 10,000 samples\n",
    "max_words = 10000 # Considers only the top 10,000 words in the dataset\n",
    "\n",
    "tokenizer = Tokenizer(num_words=max_words)\n",
    "tokenizer.fit_on_texts(texts)\n",
    "sequences = tokenizer.texts_to_sequences(texts)\n",
    "\n",
    "word_index = tokenizer.word_index\n",
    "print('Found %s unique tokens.' % len(word_index))\n",
    "\n",
    "data = pad_sequences(sequences, maxlen=maxlen)\n",
    "labels = np.asarray(labels)\n",
    "\n",
    "print('Shape of data tensor:', data.shape)\n",
    "print('Shape of label tensor:', labels.shape)\n",
    "\n",
    "indices = np.arange(data.shape[0]) \n",
    "# The above line of code splits the data into a training set and a validation set, but first shuffles the data, because you’re \n",
    "# starting with data in which samples are ordered (all negative first, then all positive)\n",
    "\n",
    "np.random.shuffle(indices)\n",
    "\n",
    "data = data[indices]\n",
    "labels = labels[indices]\n",
    "x_train = data[:training_samples]\n",
    "y_train = labels[:training_samples]\n",
    "x_val = data[training_samples: training_samples + validation_samples]\n",
    "y_val = labels[training_samples: training_samples + validation_samples]\n",
    "\n",
    "print(\"Code Processing Completed..\")"
   ]
  },
  {
   "cell_type": "code",
   "execution_count": 3,
   "metadata": {},
   "outputs": [
    {
     "name": "stdout",
     "output_type": "stream",
     "text": [
      "Found 400000 word vectors.\n"
     ]
    }
   ],
   "source": [
    "# Listing 6.10 Parsing the GloVe word-embeddings file\n",
    "\n",
    "# PREPROCESSING THE EMBEDDINGS\n",
    "# Let’s parse the unzipped file (a .txt file) to build an index that maps words (as strings) to their vector representation (as number vectors).\n",
    "\n",
    "glove_dir = r'E:\\PIAIC\\AI-Course\\Quarter-3\\Session-4-09Jul23\\glove.6B'\n",
    "\n",
    "embeddings_index = {}\n",
    "\n",
    "f = open(os.path.join(glove_dir, 'glove.6B.100d.txt'),encoding='utf-8')\n",
    "\n",
    "for line in f:\n",
    "    values = line.split()\n",
    "    word = values[0]\n",
    "    coefs = np.asarray(values[1:], dtype='float32')\n",
    "    embeddings_index[word] = coefs\n",
    "    \n",
    "f.close()\n",
    "\n",
    "print('Found %s word vectors.' % len(embeddings_index))\n",
    "\n",
    "\n",
    "\n"
   ]
  },
  {
   "cell_type": "code",
   "execution_count": 4,
   "metadata": {},
   "outputs": [
    {
     "name": "stdout",
     "output_type": "stream",
     "text": [
      "Embedding Matrix\n",
      "[[ 0.          0.          0.         ...  0.          0.\n",
      "   0.        ]\n",
      " [-0.038194   -0.24487001  0.72812003 ... -0.1459      0.82779998\n",
      "   0.27061999]\n",
      " [-0.27085999  0.044006   -0.02026    ... -0.4923      0.63687003\n",
      "   0.23642001]\n",
      " ...\n",
      " [ 0.44156    -0.11708     0.75514001 ... -1.01660001 -0.005395\n",
      "  -0.88195997]\n",
      " [ 0.58248001  0.096664   -0.033106   ...  1.19930005 -0.056846\n",
      "  -0.57341999]\n",
      " [ 0.41595     0.047901    0.03427    ... -0.24789     0.066317\n",
      "  -0.19796   ]]\n"
     ]
    }
   ],
   "source": [
    "# Listing 6.11 Preparing the GloVe word-embeddings matrix\n",
    "# Now, we will build an embedding matrix that you can load into an Embedding layer. It must be a matrix of shape (max_words,\n",
    "# embedding_dim), where each entry i contains the embedding_dim-dimensional vector for the word of index i in the reference \n",
    "# word index (built during tokenization). Note that index 0 isn’t supposed to stand for any word or token—it’s a placeholder.\n",
    "\n",
    "embedding_dim = 100\n",
    "embedding_matrix = np.zeros((max_words, embedding_dim))\n",
    "\n",
    "for word, i in word_index.items():\n",
    "    if i < max_words:\n",
    "        embedding_vector = embeddings_index.get(word)\n",
    "        if embedding_vector is not None: \n",
    "            embedding_matrix[i] = embedding_vector # Words not found in the embedding index will be all zeros.\n",
    "            \n",
    "print(\"Embedding Matrix\")\n",
    "print(embedding_matrix)"
   ]
  },
  {
   "cell_type": "code",
   "execution_count": 5,
   "metadata": {},
   "outputs": [
    {
     "name": "stdout",
     "output_type": "stream",
     "text": [
      "Model: \"sequential\"\n",
      "_________________________________________________________________\n",
      " Layer (type)                Output Shape              Param #   \n",
      "=================================================================\n",
      " embedding (Embedding)       (None, 100, 100)          1000000   \n",
      "                                                                 \n",
      " flatten (Flatten)           (None, 10000)             0         \n",
      "                                                                 \n",
      " dense (Dense)               (None, 32)                320032    \n",
      "                                                                 \n",
      " dense_1 (Dense)             (None, 1)                 33        \n",
      "                                                                 \n",
      "=================================================================\n",
      "Total params: 1,320,065\n",
      "Trainable params: 1,320,065\n",
      "Non-trainable params: 0\n",
      "_________________________________________________________________\n"
     ]
    }
   ],
   "source": [
    "# Listing 6.12 Model definition\n",
    "# DEFINING A MODEL\n",
    "# We will use the same model architecture as before.\n",
    "\n",
    "from keras.models import Sequential\n",
    "from keras.layers import Embedding, Flatten, Dense\n",
    "\n",
    "model = Sequential()\n",
    "model.add(Embedding(max_words, embedding_dim, input_length=maxlen))\n",
    "model.add(Flatten())\n",
    "model.add(Dense(32, activation='relu'))\n",
    "model.add(Dense(1, activation='sigmoid'))\n",
    "model.summary()"
   ]
  },
  {
   "cell_type": "code",
   "execution_count": 6,
   "metadata": {},
   "outputs": [
    {
     "name": "stdout",
     "output_type": "stream",
     "text": [
      "Loaded Pre Trained Word Embedding\n"
     ]
    }
   ],
   "source": [
    "# Listing 6.13 Loading pretrained word embeddings into the Embedding layer\n",
    "\n",
    "# LOADING THE GLOVE EMBEDDINGS IN THE MODEL\n",
    "# The Embedding layer has a single weight matrix: a 2D float matrix where each entry i is the word vector meant to be associated with index i.\n",
    "# Simple enough. Load the GloVe matrix you prepared into the Embedding layer, the first layer in the model.\n",
    "\n",
    "model.layers[0].set_weights([embedding_matrix])\n",
    "model.layers[0].trainable = False\n",
    "\n",
    "# Note : We have freezed the Embedding layer (set its trainable attribute to False), as normally followed in the context of pretrained convnet features: \n",
    "# when parts of a model are pretrained (like your Embedding layer) and parts are randomly initialized (like your classifier), \n",
    "# the pretrained parts shouldn’t be updated during training, to avoid forgetting what they already know.\n",
    "\n",
    "print(\"Loaded Pre Trained Word Embedding\")"
   ]
  },
  {
   "cell_type": "code",
   "execution_count": 7,
   "metadata": {
    "scrolled": true
   },
   "outputs": [
    {
     "name": "stdout",
     "output_type": "stream",
     "text": [
      "Epoch 1/10\n",
      "7/7 [==============================] - 8s 1s/step - loss: 1.4291 - acc: 0.6550 - val_loss: 0.5891 - val_acc: 0.7219\n",
      "Epoch 2/10\n",
      "7/7 [==============================] - 12s 2s/step - loss: 0.5053 - acc: 0.7350 - val_loss: 0.5999 - val_acc: 0.7220\n",
      "Epoch 3/10\n",
      "7/7 [==============================] - 6s 1s/step - loss: 0.3971 - acc: 0.7800 - val_loss: 0.6301 - val_acc: 0.7194\n",
      "Epoch 4/10\n",
      "7/7 [==============================] - 9s 1s/step - loss: 0.3869 - acc: 0.8200 - val_loss: 0.6146 - val_acc: 0.7219\n",
      "Epoch 5/10\n",
      "7/7 [==============================] - 7s 1s/step - loss: 0.2578 - acc: 0.8450 - val_loss: 1.4869 - val_acc: 0.2887\n",
      "Epoch 6/10\n",
      "7/7 [==============================] - 11s 2s/step - loss: 0.3817 - acc: 0.8650 - val_loss: 1.0653 - val_acc: 0.7218\n",
      "Epoch 7/10\n",
      "7/7 [==============================] - 10s 2s/step - loss: 0.1120 - acc: 0.9700 - val_loss: 0.7397 - val_acc: 0.7201\n",
      "Epoch 8/10\n",
      "7/7 [==============================] - 8s 1s/step - loss: 0.0541 - acc: 0.9950 - val_loss: 0.8537 - val_acc: 0.7212\n",
      "Epoch 9/10\n",
      "7/7 [==============================] - 8s 1s/step - loss: 0.0210 - acc: 1.0000 - val_loss: 0.6898 - val_acc: 0.7003\n",
      "Epoch 10/10\n",
      "7/7 [==============================] - 5s 759ms/step - loss: 0.0128 - acc: 1.0000 - val_loss: 0.7584 - val_acc: 0.7132\n",
      "Model Weights are saved\n"
     ]
    }
   ],
   "source": [
    "# Listing 6.14 Training and evaluation\n",
    "# Lets Compile and train the model.\n",
    "\n",
    "model.compile(optimizer='rmsprop',\n",
    "loss='binary_crossentropy',\n",
    "metrics=['acc'])\n",
    "\n",
    "history = model.fit(x_train, y_train,\n",
    "epochs=10,\n",
    "batch_size=32,\n",
    "validation_data=(x_val, y_val))\n",
    "\n",
    "model.save_weights('pre_trained_glove_model.h5')\n",
    "\n",
    "print(\"Model Weights are saved\")"
   ]
  },
  {
   "cell_type": "code",
   "execution_count": 8,
   "metadata": {},
   "outputs": [
    {
     "data": {
      "image/png": "[encoded data removed]",
      "text/plain": [
       "<Figure size 640x480 with 1 Axes>"
      ]
     },
     "metadata": {},
     "output_type": "display_data"
    },
    {
     "data": {
      "image/png": "[encoded data removed]",
      "text/plain": [
       "<Figure size 640x480 with 1 Axes>"
      ]
     },
     "metadata": {},
     "output_type": "display_data"
    }
   ],
   "source": [
    "# Listing 6.15 Plotting the results\n",
    "\n",
    "#model.load_weights(\"pre_trained_glove_model.h5\")\n",
    "\n",
    "import os\n",
    "os.environ[\"KMP_DUPLICATE_LIB_OK\"]=\"TRUE\"\n",
    "\n",
    "import matplotlib.pyplot as plt\n",
    "\n",
    "acc = history.history['acc']\n",
    "\n",
    "val_acc = history.history['val_acc']\n",
    "\n",
    "loss = history.history['loss']\n",
    "\n",
    "val_loss = history.history['val_loss']\n",
    "\n",
    "epochs = range(1, len(acc) + 1)\n",
    "\n",
    "plt.plot(epochs, acc, 'bo', label='Training acc')\n",
    "plt.plot(epochs, val_acc, 'b', label='Validation acc')\n",
    "plt.title('Training and validation accuracy')\n",
    "\n",
    "plt.legend()\n",
    "plt.figure()\n",
    "plt.plot(epochs, loss, 'bo', label='Training loss')\n",
    "plt.plot(epochs, val_loss, 'b', label='Validation loss')\n",
    "plt.title('Training and validation loss')\n",
    "\n",
    "plt.legend()\n",
    "plt.show()"
   ]
  },
  {
   "cell_type": "code",
   "execution_count": null,
   "metadata": {},
   "outputs": [],
   "source": [
    "# The model quickly starts overfitting, which is unsurprising given the small number of training samples. Validation accuracy \n",
    "# has high variance for the same reason, but it seems to reach the high 50s.\n",
    "\n",
    "# You can also train the same model without loading the pretrained word embeddings and without freezing the embedding layer.\n",
    "# Validation accuracy stalls in the low 50s. So in this case, pretrained word embeddings outperform jointly learned embeddings.\n",
    "# If you increase the number of training samples, this will quickly stop being the case—try it as an exercise."
   ]
  },
  {
   "cell_type": "code",
   "execution_count": 9,
   "metadata": {},
   "outputs": [
    {
     "name": "stdout",
     "output_type": "stream",
     "text": [
      "539/539 [==============================] - 20s 36ms/step - loss: 0.7366 - acc: 0.7204\n"
     ]
    },
    {
     "data": {
      "text/plain": [
       "[0.7366183400154114, 0.7203502655029297]"
      ]
     },
     "execution_count": 9,
     "metadata": {},
     "output_type": "execute_result"
    }
   ],
   "source": [
    "# Listing 6.17 Tokenizing the data of the test set\n",
    "# Let’s evaluate the model on the test data. First, you need to tokenize the test data.\n",
    "import os \n",
    "\n",
    "imdb_dir = r\"E:\\PIAIC\\AI-Course\\Quarter-3\\Session-4-09Jul23\\aclImdb\"\n",
    "test_dir = os.path.join(imdb_dir, 'test')\n",
    "\n",
    "labels = []\n",
    "texts = []\n",
    "\n",
    "for label_type in ['neg', 'pos']:\n",
    "    dir_name = os.path.join(test_dir, label_type)\n",
    "    for fname in sorted(os.listdir(dir_name)):\n",
    "        if fname[-4:] == '.txt':\n",
    "            f = open(os.path.join(dir_name, fname),encoding='utf-8')\n",
    "            texts.append(f.read())\n",
    "            f.close()\n",
    "            if label_type == 'neg':\n",
    "                labels.append(0)\n",
    "            else:\n",
    "                labels.append(1)\n",
    "                \n",
    "                \n",
    "sequences = tokenizer.texts_to_sequences(texts)\n",
    "x_test = pad_sequences(sequences, maxlen=maxlen)\n",
    "y_test = np.asarray(labels)\n",
    "\n",
    "\n",
    "# Now load and evaluate the first model.\n",
    "model.load_weights('pre_trained_glove_model.h5')\n",
    "model.evaluate(x_test, y_test)\n",
    "\n"
   ]
  },
  {
   "cell_type": "code",
   "execution_count": null,
   "metadata": {},
   "outputs": [],
   "source": [
    "# 6.1.4 Wrapping up\n",
    "# Now you’re able to do the following:\n",
    "#  >> Turn raw text into something a neural network can process\n",
    "#  >> Use the Embedding layer in a Keras model to learn task-specific token embeddings\n",
    "#  >> Use pretrained word embeddings to get an extra boost on small naturallanguage processing problems"
   ]
  }
 ],
 "metadata": {
  "colab": {
   "provenance": []
  },
  "kernelspec": {
   "display_name": "Python 3 (ipykernel)",
   "language": "python",
   "name": "python3"
  },
  "language_info": {
   "codemirror_mode": {
    "name": "ipython",
    "version": 3
   },
   "file_extension": ".py",
   "mimetype": "text/x-python",
   "name": "python",
   "nbconvert_exporter": "python",
   "pygments_lexer": "ipython3",
   "version": "3.9.16"
  }
 },
 "nbformat": 4,
 "nbformat_minor": 1
}
