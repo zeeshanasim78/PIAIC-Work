{
 "cells": [
  {
   "cell_type": "code",
   "execution_count": 4,
   "metadata": {},
   "outputs": [
    {
     "name": "stdout",
     "output_type": "stream",
     "text": [
      "4.0\n"
     ]
    }
   ],
   "source": [
    "# Object Oriented Programming using Python\n",
    "# Every thing in the world that has a name is a object like car, glass\n",
    "# Every object has some characteristics / properties /attributed and methods/functions\n",
    "\n",
    "# Methods perform some action and return value\n",
    "# Attributes are characteristics of object and store its value\n",
    "\n",
    "# For Example a Car is a Object\n",
    "# Attributes of this object are Color , Size , Doors , engine_type\n",
    "# Methods are Break , Drive , Start\n",
    "\n",
    "# Class is a blue print for the object and has a list of all attributes and methods of that of that object"
   ]
  },
  {
   "cell_type": "code",
   "execution_count": null,
   "metadata": {},
   "outputs": [],
   "source": [
    "# In the liner programming we have to define attributes and methods with dofferent name \n",
    "\n",
    "toyota_color = \"red\"\n",
    "toyota_type=\"sedan\"\n",
    "toyota_model=\"xli\"\n",
    "toyota_doors=\"4\"\n",
    "\n",
    "def toyota_drive():pass\n",
    "def toyota_start():pass\n",
    "\n",
    "# Now for another Car manufacture Honda we have to again define attributes and methods\n",
    "honda_color=\"white\"\n",
    "honda_type=\"suv\"\n",
    "honda_model = \"brv\"\n",
    "\n",
    "def honda_drive():pass\n",
    "def honda_start():pass\n",
    "\n",
    "# Object Oritented Programming simplifies this by allowing class\n",
    "# OOPs provides us to do work efficiently , using less code , less computing power\n",
    "# To define a class keyword and normally we Capitalize the class name\n",
    "\n",
    "# Important Points about Class\n",
    "# Capatilize the Class Name\n",
    "# Constructor Method is always called whenever we create a new object\n",
    "# In Python the constructor name will always be\n",
    "#   * def _init_(self)\n",
    "#       * first argument should be any name\n",
    "#       * always keep this during creating time\n",
    "#       * but always ignore during calling\n",
    "#       * always manage each object with \n",
    "#  \n",
    "\n",
    "# Destructor Method is always called whenever a object is deleted\n"
   ]
  },
  {
   "cell_type": "code",
   "execution_count": null,
   "metadata": {},
   "outputs": [],
   "source": [
    "# Let us define a class Student\n",
    "class Student():  # Define Class\n",
    "    def _init_(self, sid , sname): # Constructor called whenever object is Created\n",
    "        self.id = sid # attribute id is given sid passed to constructor\n",
    "        self.name = sname # attribute name is given sname passed to constructor\n",
    "        self.edu = None # attribue\n",
    "        self.address = None # attribute\n",
    "        self.age=None # attribute\n",
    "        self.user=sname\n",
    "        self.password=\"123\"\n",
    "\n",
    "    def login(self,user,pwd):  # Note 1st argument of every function shoulf be self\n",
    "        if self.user == user and self.password == pwd:\n",
    "            return \"Value User\"\n",
    "        else:\n",
    "            return \" Not Valid user\"\n",
    "\n",
    "\n",
    "    def display_info(self):\n",
    "        cards = f\"\"\"\n",
    "        PIAIC Student Cards\n",
    "        Registration Number : {self.id}\n",
    "        Name : {self.name}\n",
    "        Education : {self.edu}\n",
    "        \"\"\"\n",
    "        return cards\n"
   ]
  }
 ],
 "metadata": {
  "kernelspec": {
   "display_name": "Python 3.9.12 ('base')",
   "language": "python",
   "name": "python3"
  },
  "language_info": {
   "codemirror_mode": {
    "name": "ipython",
    "version": 3
   },
   "file_extension": ".py",
   "mimetype": "text/x-python",
   "name": "python",
   "nbconvert_exporter": "python",
   "pygments_lexer": "ipython3",
   "version": "3.9.12"
  },
  "vscode": {
   "interpreter": {
    "hash": "44cefc941ed9d6b5484564532b71db757c2e46d93ba3e0428c9048b32b8e1c59"
   }
  }
 },
 "nbformat": 4,
 "nbformat_minor": 4
}
