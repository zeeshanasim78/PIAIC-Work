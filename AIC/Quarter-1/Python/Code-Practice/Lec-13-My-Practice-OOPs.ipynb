{
 "cells": [
  {
   "cell_type": "code",
   "execution_count": null,
   "metadata": {},
   "outputs": [],
   "source": [
    "# Inheritance\n",
    "class Student():\n",
    "    def __init__self(self,pid,pname):\n",
    "        self.id=pid\n",
    "        self.name=pname\n",
    "        self.address=None\n",
    "        self.rollno=None\n",
    "        \n",
    "\n"
   ]
  }
 ],
 "metadata": {
  "kernelspec": {
   "display_name": "Python 3.9.12 ('base')",
   "language": "python",
   "name": "python3"
  },
  "language_info": {
   "codemirror_mode": {
    "name": "ipython",
    "version": 3
   },
   "file_extension": ".py",
   "mimetype": "text/x-python",
   "name": "python",
   "nbconvert_exporter": "python",
   "pygments_lexer": "ipython3",
   "version": "3.9.12"
  },
  "vscode": {
   "interpreter": {
    "hash": "44cefc941ed9d6b5484564532b71db757c2e46d93ba3e0428c9048b32b8e1c59"
   }
  }
 },
 "nbformat": 4,
 "nbformat_minor": 4
}
