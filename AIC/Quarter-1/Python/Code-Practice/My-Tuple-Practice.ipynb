{
 "cells": [
  {
   "cell_type": "code",
   "execution_count": 3,
   "metadata": {},
   "outputs": [
    {
     "name": "stdout",
     "output_type": "stream",
     "text": [
      "Original List of Names ['Qasim', 'Nasir', 'Ali', 'Hamza']\n",
      "After Changes value at names[0] ['Muhammad Qasim', 'Nasir', 'Ali', 'Hamza']\n"
     ]
    }
   ],
   "source": [
    "## Tuples\n",
    "# Tuple are Immutable , means values once defined cannot be changed\n",
    "# we can create a tuple sae like list except we use small bracket\n",
    "#  or paranthesis instead of Square Bracnkets\n",
    "\n",
    "tpl = (\"Islamabad\",\"Lahore\",\"Karachi\", \"Peshawar\", \"Quetta\")\n"
   ]
  },
  {
   "cell_type": "code",
   "execution_count": 1,
   "metadata": {},
   "outputs": [
    {
     "name": "stdout",
     "output_type": "stream",
     "text": [
      "10\n"
     ]
    }
   ],
   "source": [
    "l = [None] * 10\n",
    "print(len(l))"
   ]
  },
  {
   "cell_type": "code",
   "execution_count": 8,
   "metadata": {},
   "outputs": [
    {
     "name": "stdout",
     "output_type": "stream",
     "text": [
      "['Muhammad Qasim', 'Nasir', 'Ali', 'Hamza', 'Kainat', 'Kainat', 'Kainat']\n",
      "['Muhammad Qasim', 'Nasir', 'Ali', 'Hamza', 'Kainat', 'Kainat', 'Kainat', 'Kainat']\n",
      "None\n"
     ]
    }
   ],
   "source": [
    "print(names)\n",
    "n1=names.append(\"Kainat\")\n",
    "print(names)\n",
    "print(n1)"
   ]
  }
 ],
 "metadata": {
  "kernelspec": {
   "display_name": "Python 3.9.12 ('base')",
   "language": "python",
   "name": "python3"
  },
  "language_info": {
   "codemirror_mode": {
    "name": "ipython",
    "version": 3
   },
   "file_extension": ".py",
   "mimetype": "text/x-python",
   "name": "python",
   "nbconvert_exporter": "python",
   "pygments_lexer": "ipython3",
   "version": "3.9.12"
  },
  "vscode": {
   "interpreter": {
    "hash": "44cefc941ed9d6b5484564532b71db757c2e46d93ba3e0428c9048b32b8e1c59"
   }
  }
 },
 "nbformat": 4,
 "nbformat_minor": 4
}
