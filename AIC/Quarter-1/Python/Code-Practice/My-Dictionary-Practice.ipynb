{
 "cells": [
  {
   "cell_type": "code",
   "execution_count": 4,
   "metadata": {},
   "outputs": [
    {
     "name": "stdout",
     "output_type": "stream",
     "text": [
      "Student Name =  Zeeshan\n",
      "{'name': 'Zeeshan', 'rollno': '12312', 'course': 'AIC'}\n",
      "{'name': 'Zeeshan', 'rollno': '15562', 'course': 'AIC'}\n",
      "The score after the 1st over was :  7\n",
      "{1: '7', 2: '3', 3: '6', 4: '4'}\n"
     ]
    }
   ],
   "source": [
    "## Dictionary\n",
    "# Dictionaries are used to store data values in key:value pairs.\n",
    "# Dictionary items are ordered, changeable, and does not allow duplicates.\n",
    "# Dictionary items are presented in key:value pairs, and can be referred to by using the key name.\n",
    "\n",
    "stdDict = {\"name\":\"Zeeshan\", \"rollno\":\"12312\",\"course\":\"AIC\"}\n",
    "\n",
    "# To Access / View any value on the basis of a key we can use dictionary name[\"key\"]\n",
    "print(\"Student Name = \" , stdDict[\"name\"])\n",
    "print(stdDict)\n",
    "\n",
    "#Similarly you can change value of the Dictionary as\n",
    "stdDict[\"rollno\"]=\"15562\"\n",
    "# Note : Whenever we use dictName[\"key\"] Python will check if this key already exists or not \n",
    "# If it is already exists the value of this is replaced , otherwise a ney key with value is stored in the dictionary\n",
    "print(stdDict)\n",
    "\n",
    "\n",
    "# key in a dictionary can be of string , number , or float type\n",
    "overScores={1:\"4\",2:\"3\",3:\"6\",4:\"4\"}\n",
    "print(\"The score after the 1st over was : \", overScores[1])\n",
    "print(overScores)\n"
   ]
  },
  {
   "cell_type": "code",
   "execution_count": 8,
   "metadata": {},
   "outputs": [
    {
     "name": "stdout",
     "output_type": "stream",
     "text": [
      "The score after the 1st over was :  8\n",
      "{1: '8', 2: '3', 3: '6', 4: '4'}\n",
      "{1: '8', 2: '3', 3: '6', 4: '4', 2.5: '9'}\n",
      "Values in Dictionary overScores after deleting key 2.5 {1: '8', 2: '3', 3: '6', 4: '4'}\n"
     ]
    },
    {
     "ename": "NameError",
     "evalue": "name 'overScores' is not defined",
     "output_type": "error",
     "traceback": [
      "\u001b[1;31m---------------------------------------------------------------------------\u001b[0m",
      "\u001b[1;31mNameError\u001b[0m                                 Traceback (most recent call last)",
      "\u001b[1;32md:\\Data\\OneDrive\\Desktop\\AI for Everyone\\Python\\My-Dictionary-Practice.ipynb Cell 2\u001b[0m in \u001b[0;36m<cell line: 17>\u001b[1;34m()\u001b[0m\n\u001b[0;32m     <a href='vscode-notebook-cell:/d%3A/Data/OneDrive/Desktop/AI%20for%20Everyone/Python/My-Dictionary-Practice.ipynb#W4sZmlsZQ%3D%3D?line=14'>15</a>\u001b[0m \u001b[39m# To remove complete dictionary we can also use del command as\u001b[39;00m\n\u001b[0;32m     <a href='vscode-notebook-cell:/d%3A/Data/OneDrive/Desktop/AI%20for%20Everyone/Python/My-Dictionary-Practice.ipynb#W4sZmlsZQ%3D%3D?line=15'>16</a>\u001b[0m \u001b[39mdel\u001b[39;00m overScores\n\u001b[1;32m---> <a href='vscode-notebook-cell:/d%3A/Data/OneDrive/Desktop/AI%20for%20Everyone/Python/My-Dictionary-Practice.ipynb#W4sZmlsZQ%3D%3D?line=16'>17</a>\u001b[0m \u001b[39mprint\u001b[39m(overScores)\n",
      "\u001b[1;31mNameError\u001b[0m: name 'overScores' is not defined"
     ]
    }
   ],
   "source": [
    "# If a key is given twice in a dictionary Python will simply overwrites that key value with new value\n",
    "# In the dictionary declared below the value of key 1 is given twice , so value of key 1 would be 7\n",
    "overScores={1:\"4\",2:\"3\",3:\"6\",4:\"4\",1:\"8\"}\n",
    "print(\"The score after the 1st over was : \", overScores[1])\n",
    "print(overScores)\n",
    "\n",
    "# The can also be of float type\n",
    "overScores[2.5]=\"9\"\n",
    "print(overScores)\n",
    "\n",
    "# To remove a key from the Dictionary we use del command\n",
    "del overScores[2.5]\n",
    "print(\"Values in Dictionary overScores after deleting key 2.5\", overScores)\n",
    "\n",
    "# To remove complete dictionary we can also use del command as\n",
    "del overScores\n",
    "# print(overScores) # this will generate error as the dictionary overScores is deleted using del Command"
   ]
  },
  {
   "cell_type": "code",
   "execution_count": 18,
   "metadata": {},
   "outputs": [
    {
     "name": "stdout",
     "output_type": "stream",
     "text": [
      "True\n",
      "True\n",
      " \n",
      " Keys\n",
      "name  rollno  course   \n",
      "\n",
      " Values\n",
      "Zeeshan  12312  AIC   \n",
      "\n",
      " Both Value and Keys \n",
      "name  :  Zeeshan\n",
      "rollno  :  12312\n",
      "course  :  AIC\n"
     ]
    }
   ],
   "source": [
    "# Searching inside the list\n",
    "stdDict = {\"name\":\"Zeeshan\", \"rollno\":\"12312\",\"course\":\"AIC\"}\n",
    "overScores={1:\"4\",2:\"3\",3:\"6\",4:\"4\",1:\"8\"}\n",
    "\n",
    "# we can search if a key is present in a dictionat using in \n",
    "print(\"name\" in stdDict) # This will search if name key exists inside the dictionary\n",
    "print(2 in overScores) # This will search if the 2 key exists inside the dictionary will return True if value exists otherwise False\n",
    "\n",
    "# Interating Over Info from\n",
    "# TO get all keys that exists in side a dictionary we use keys()\n",
    "print(\" \\n Keys\" )\n",
    "for key in stdDict.keys():\n",
    "    print(key, end=\"  \")\n",
    "\n",
    "# To get all values that exists in side a dictionary we use values()\n",
    "print(\" \\n\\n Values\" )\n",
    "for val in stdDict.values():\n",
    "    print(val, end=\"  \")    \n",
    "\n",
    "# TO get both keys and Values that exists in a dictionary we use items()\n",
    "print(\" \\n\\n Both Value and Keys \" )\n",
    "for key,val in stdDict.items():\n",
    "   print(key, \" : \" , val)\n"
   ]
  },
  {
   "cell_type": "code",
   "execution_count": 22,
   "metadata": {},
   "outputs": [
    {
     "name": "stdout",
     "output_type": "stream",
     "text": [
      "name : Ali class : AIC rollno : 12322  \n",
      "name : Asad class : BCC rollno : 32322  \n",
      "name : Zia class : IoT rollno : 56522  \n"
     ]
    }
   ],
   "source": [
    "# List of Dictionary\n",
    "stdList=[]\n",
    "stdList.append({\"name\":\"Ali\", \"class\":\"AIC\",\"rollno\":\"12322\"})\n",
    "stdList.append({\"name\":\"Asad\", \"class\":\"BCC\",\"rollno\":\"32322\"})\n",
    "stdList.append({\"name\":\"Zia\", \"class\":\"IoT\",\"rollno\":\"56522\"})\n",
    "#print(stdList)\n",
    "\n",
    "# To Access items of list : We know that list is based on dictionary\n",
    "# To access a List item we use index and then to access value from dictionary we will use the key\n",
    "\n",
    "#print(stdList[0][\"name\"])\n",
    "\n",
    "# To get all students in a list we can use the for loop  as\n",
    "for std in stdList:\n",
    "    for key,val in std.items():\n",
    "        print(key,\":\", val, end=\" \")\n",
    "    print(\" \")"
   ]
  },
  {
   "cell_type": "code",
   "execution_count": 37,
   "metadata": {},
   "outputs": [
    {
     "name": "stdout",
     "output_type": "stream",
     "text": [
      "Employee Name :  Hassan\n",
      "Age =  40\n",
      "Children = Zaid, Saad, Aiza, "
     ]
    }
   ],
   "source": [
    "# Dictionary containing Lists\n",
    "# Here we will be creating dictionary where a key contains a list of some value inside the []\n",
    "\n",
    "empDict={\"name\":\"Hassan\",\"age\":\"40\",\"children\":[\"Zaid\",\"Saad\",\"Aiza\"]}\n",
    "\n",
    "#for empk,empv in empDict.items():\n",
    "print(\"Employee Name : \", empDict[\"name\"])\n",
    "print(\"Age = \", empDict[\"age\"])\n",
    "print(\"Children = \", end=\"\")\n",
    "for chld in empDict[\"children\"]:\n",
    "    print(chld, end = \", \")\n",
    "\n"
   ]
  }
 ],
 "metadata": {
  "kernelspec": {
   "display_name": "Python 3.9.12 ('base')",
   "language": "python",
   "name": "python3"
  },
  "language_info": {
   "codemirror_mode": {
    "name": "ipython",
    "version": 3
   },
   "file_extension": ".py",
   "mimetype": "text/x-python",
   "name": "python",
   "nbconvert_exporter": "python",
   "pygments_lexer": "ipython3",
   "version": "3.9.12"
  },
  "vscode": {
   "interpreter": {
    "hash": "44cefc941ed9d6b5484564532b71db757c2e46d93ba3e0428c9048b32b8e1c59"
   }
  }
 },
 "nbformat": 4,
 "nbformat_minor": 4
}
