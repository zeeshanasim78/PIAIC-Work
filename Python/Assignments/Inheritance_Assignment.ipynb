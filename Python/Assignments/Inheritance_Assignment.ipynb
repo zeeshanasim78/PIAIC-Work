{
  "nbformat": 4,
  "nbformat_minor": 0,
  "metadata": {
    "colab": {
      "provenance": [],
      "collapsed_sections": []
    },
    "kernelspec": {
      "name": "python3",
      "display_name": "Python 3"
    },
    "language_info": {
      "name": "python"
    }
  },
  "cells": [
    {
      "cell_type": "markdown",
      "source": [
        "**Zeeshan Asim Khan** : **PIAIC55300**\n",
        "<br>\n",
        "Inheritance Assignment"
      ],
      "metadata": {
        "id": "69FoQ4aKkqLa"
      }
    },
    {
      "cell_type": "code",
      "source": [
        "# Class Father\n",
        "class Father():\n",
        "  def __init__(self,pname):\n",
        "    self.fname=pname\n",
        "    self.fage=None\n",
        "    self.fheight=None\n",
        "    \n",
        "  def setAge(self,page):\n",
        "    self.fage=page\n",
        "    \n",
        "  def setHeight(self,pheight):\n",
        "    self.fheight=pheight\n",
        "\n",
        "  def Info(self):\n",
        "    str1 = f'''\n",
        "      Father Name = {self.fname}\n",
        "      Father Age = {self.fage}\n",
        "      Father Height = {self.fheight}\n",
        "    '''\n",
        "    print(str1)"
      ],
      "metadata": {
        "id": "KAlr9DsceIyK"
      },
      "execution_count": 29,
      "outputs": []
    },
    {
      "cell_type": "code",
      "execution_count": 30,
      "metadata": {
        "id": "mW45hRc5M_2t"
      },
      "outputs": [],
      "source": [
        "# Class Mother\n",
        "class Mother():\n",
        "  def __init__(self,pname):\n",
        "    self.mname=pname\n",
        "    self.mage=None\n",
        "    self.mheight=None\n",
        "\n",
        "  def setAge(self,page):\n",
        "    self.mage=page\n",
        "    \n",
        "  def setHeight(self,pheight):\n",
        "    self.mheight=pheight\n",
        "    \n",
        "  def Info(self):\n",
        "    str1 = f'''\n",
        "      Mother Name = {self.mname}\n",
        "      Mother Age = {self.mage}\n",
        "      Mother Height = {self.mheight}\n",
        "    '''\n",
        "    print(str1)\n"
      ]
    },
    {
      "cell_type": "code",
      "source": [
        "# Class Child\n",
        "class Child(Mother,Father):\n",
        "  def __init__(self,pname,fname):\n",
        "    super().__init__(fname)\n",
        "    self.cname=pname\n",
        "    self.cage=None\n",
        "    self.cheight=None\n",
        "    self.cedu=None\n",
        "    self.chobby=None\n",
        "\n",
        "  def setAge(self,page,page2):\n",
        "    super().setAge(page2)\n",
        "    self.cage=page\n",
        "    \n",
        "  def setHeight(self,pheight,pheight2):\n",
        "    super().setHeight(pheight2)\n",
        "    self.cheight=pheight\n",
        "\n",
        "  def setEdu(self,pedu):\n",
        "    self.cedu=pedu\n",
        "\n",
        "  def setHobby(self,phobby):\n",
        "    self.chobby=phobby\n",
        "\n",
        "  def childInfo(self):\n",
        "    str1 = f'''\n",
        "      Child Name = {self.cname}\n",
        "      Child Age = {self.cage}\n",
        "      Child Height = {self.cheight}\n",
        "      Child Education = {self.cedu}\n",
        "      Child Hobby = {self.chobby}      \n",
        "    '''\n",
        "    print(str1)\n",
        "\n"
      ],
      "metadata": {
        "id": "zE1MQlsCmdpE"
      },
      "execution_count": 44,
      "outputs": []
    },
    {
      "cell_type": "code",
      "source": [
        "c1=Child(\"Zeeshan\", \"Asghar Khan\")\n",
        "c1.setAge(\"24\",\"44\")\n",
        "c1.setHeight(\"5.6\",\"5.7\")\n",
        "c1.setEdu(\"Masters\")\n",
        "c1.setHobby(\"Cricket\")\n",
        "c1.childInfo()\n",
        "\n",
        "print([ i for i in dir(c1) if \"_\" not in i] )\n",
        "\n"
      ],
      "metadata": {
        "colab": {
          "base_uri": "https://localhost:8080/"
        },
        "id": "iBTk9z3oZ0Tg",
        "outputId": "a409b5b0-b60a-4e35-bf5d-089198712035"
      },
      "execution_count": 45,
      "outputs": [
        {
          "output_type": "stream",
          "name": "stdout",
          "text": [
            "\n",
            "      Child Name = Zeeshan\n",
            "      Child Age = 24\n",
            "      Child Height = 5.6\n",
            "      Child Education = Masters\n",
            "      Child Hobby = Cricket      \n",
            "    \n",
            "['Info', 'cage', 'cedu', 'cheight', 'childInfo', 'chobby', 'cname', 'mage', 'mheight', 'mname', 'setAge', 'setEdu', 'setHeight', 'setHobby']\n"
          ]
        }
      ]
    },
    {
      "cell_type": "markdown",
      "source": [
        "**Assignment Second Part <br> Operator Overloading**"
      ],
      "metadata": {
        "id": "WYr0ee9mon0A"
      }
    },
    {
      "cell_type": "code",
      "source": [
        "class GraphPoint():\n",
        "  def __init__(self,pA,pB):\n",
        "    self.pointA=pA\n",
        "    self.pointB=pB\n",
        "\n",
        "  def __add__(self,secondPoint):\n",
        "    a=self.pointA + secondPoint.pointA\n",
        "    b=self.pointB + secondPoint.pointB\n",
        "    newPoint=GraphPoint(a,b)\n",
        "    return newPoint\n",
        "\n",
        "  def setGraphPoint(self,pA,pB):\n",
        "    self.pointA=pA\n",
        "    self.pointB=pB\n",
        "\n",
        "  def printGraphPoint(self):\n",
        "    return \"({0}, {1})\".format(self.pointA, self.pointB)\n",
        "\n"
      ],
      "metadata": {
        "id": "ViDsqqZ1ou7n"
      },
      "execution_count": 71,
      "outputs": []
    },
    {
      "cell_type": "code",
      "source": [
        "p1=GraphPoint(3,4)\n",
        "p2=GraphPoint(5,6)\n",
        "\n",
        "print(\"Point A = \",p1.printGraphPoint())\n",
        "print(\"Point B = \",p2.printGraphPoint())\n",
        "\n",
        "p3=p1+p2\n",
        "print(\"Sum of Point A & B = \", p3.printGraphPoint())"
      ],
      "metadata": {
        "colab": {
          "base_uri": "https://localhost:8080/"
        },
        "id": "FkbK1TaXzrNW",
        "outputId": "6e4135a0-5363-4f6c-f4b9-f1374c9a0d4b"
      },
      "execution_count": 72,
      "outputs": [
        {
          "output_type": "stream",
          "name": "stdout",
          "text": [
            "Point A =  (3, 4)\n",
            "Point B =  (5, 6)\n",
            "Sum of Point A & B =  (8, 10)\n"
          ]
        }
      ]
    }
  ]
}