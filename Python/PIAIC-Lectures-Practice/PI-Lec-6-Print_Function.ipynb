{
  "nbformat": 4,
  "nbformat_minor": 0,
  "metadata": {
    "colab": {
      "provenance": [],
      "collapsed_sections": []
    },
    "kernelspec": {
      "name": "python3",
      "display_name": "Python 3"
    },
    "language_info": {
      "name": "python"
    }
  },
  "cells": [
    {
      "cell_type": "code",
      "execution_count": null,
      "metadata": {
        "colab": {
          "base_uri": "https://localhost:8080/"
        },
        "id": "XI-L1yo2exTG",
        "outputId": "f49df461-cf16-45cf-ce2a-4a990a95c6ac"
      },
      "outputs": [
        {
          "output_type": "stream",
          "name": "stdout",
          "text": [
            "Hello World !\n",
            "You Section Number is  5\n",
            "Available Fruits are=('Apple', 'Oranges', 'Peech', 'Mango')\n"
          ]
        }
      ],
      "source": [
        "## Print Function Syntax is  print(object(s), sep=separator, end=end, file=file, flush=flush)\n",
        "## Parameter\tDescription  : \n",
        "## object(s) : \tAny object, and as many as you like. Will be converted to string before printed\n",
        "## sep='separator' :\tOptional. Specify how to separate the objects, if there is more than one. Default is ' '\n",
        "##  end='end' : \tOptional. Specify what to print at the end. Default is '\\n' (line feed)\n",
        "## file\tOptional. An object with a write method. Default is sys.stdout\n",
        "## flush\tOptional. A Boolean, specifying if the output is flushed (True) or buffered (False). Default is False\n",
        "\n",
        "## Examples ....\n",
        "print(\"Hello World !\")\n",
        "print(\"You Section Number is \", 5)\n",
        "fruits=(\"Apple\",\"Oranges\",\"Peech\",\"Mango\")\n",
        "print(\"Available Fruits are\", fruits, sep=\"=\")"
      ]
    },
    {
      "cell_type": "code",
      "source": [
        "## Examples Related to Sep amd end parameters\n",
        "print(\"Hello World 1\")\n",
        "print(\"Hello World 2\", \" Welcome to Python\",sep=\":\")\n",
        "print(\"Hello World 3\", end=\"\\n\\n\")\n",
        "print(\"Hello World 4\", \" Python a powerful language\", sep=\"--\",end=\"\\t\")\n",
        "print(\"Hello World 5\")\n"
      ],
      "metadata": {
        "colab": {
          "base_uri": "https://localhost:8080/"
        },
        "id": "6EbZMY6GlofJ",
        "outputId": "eb7ccc4b-5714-4600-9c54-ed0b7dc0c9cb"
      },
      "execution_count": null,
      "outputs": [
        {
          "output_type": "stream",
          "name": "stdout",
          "text": [
            "Hello World 1\n",
            "Hello World 2: Welcome to Python\n",
            "Hello World 3\n",
            "\n",
            "Hello World 4-- Python a powerful language\tHello World 5\n"
          ]
        }
      ]
    }
  ]
}