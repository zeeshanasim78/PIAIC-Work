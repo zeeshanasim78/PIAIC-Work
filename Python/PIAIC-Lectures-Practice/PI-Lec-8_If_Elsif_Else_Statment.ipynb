{
  "nbformat": 4,
  "nbformat_minor": 0,
  "metadata": {
    "colab": {
      "provenance": [],
      "collapsed_sections": []
    },
    "kernelspec": {
      "name": "python3",
      "display_name": "Python 3"
    },
    "language_info": {
      "name": "python"
    }
  },
  "cells": [
    {
      "cell_type": "code",
      "execution_count": null,
      "metadata": {
        "colab": {
          "base_uri": "https://localhost:8080/"
        },
        "id": "gKc0xNza71x3",
        "outputId": "01c623fe-27a3-4ed9-a262-52ec2143c4f7"
      },
      "outputs": [
        {
          "output_type": "stream",
          "name": "stdout",
          "text": [
            "Value of A is between 100 and 200\n",
            "1st elif statement...\n",
            "This print is not included in else and will always execute\n",
            "B\n",
            "B\n"
          ]
        }
      ],
      "source": [
        "## Python If ... Else Conditions \n",
        "## Python supports following methamatical operators\n",
        "##   Equals: a == b\n",
        "##   Not Equals: a != b\n",
        "##   Less than: a < b\n",
        "##   Less than or equal to: a <= b\n",
        "##   Greater than: a > b\n",
        "##   Greater than or equal to: a >= b\n",
        "##   These conditions can be used in several ways, most commonly in \"if statements\" and loops.\n",
        "\n",
        "## Logical Operators\n",
        "## and or are two Logical Operators that can also be used in the condition\n",
        "\n",
        "## For Example\n",
        "##  if condition :\n",
        "##    statement(s) in indent\n",
        "##  elif condition :\n",
        "##    statement(s) in indent\n",
        "##  else:\n",
        "##    statement(s) in indent\n",
        "\n",
        "## Note:-  The  : at the end of if , elsif or else indicates that there is a indent block starts from here and related to that condition\n",
        "\n",
        "a=100\n",
        "b=200\n",
        "if a>50 and a<100:\n",
        "  print(\"Value of A between 50 and 100\")\n",
        "  print(\"Main if Statement ; Value of A = \", a)\n",
        "elif a>=100 and a<=200:\n",
        "  print(\"Value of A is between 100 and 200\")\n",
        "  print(\"1st elif statement...\")\n",
        "else:\n",
        "  print(\"The value of A is not between 50 and 200\")\n",
        "  print(\"Inside the else statement\")\n",
        "\n",
        "print(\"This print is not included in else and will always execute\")\n",
        "\n",
        "\n",
        "## Short Hand If\n",
        "## If you have only one statement to execute, you can put it on the same line as the if statement.\n",
        "if a > b: print(\"a is greater than b\")\n",
        "\n",
        "## Short Hand If ... Else\n",
        "## If you have only one statement to execute, one for if, and one for else, you can put it all on the same line:\n",
        "print(\"A\") if a > b else print(\"B\")\n",
        "\n",
        "## This technique is known as Ternary Operators, or Conditional Expressions.\n",
        "## You can also have multiple else statements on the same line\n",
        "## One line if else statement, with 3 conditions:\n",
        "print(\"A\") if a > b else print(\"=\") if a == b else print(\"B\")\n"
      ]
    }
  ]
}