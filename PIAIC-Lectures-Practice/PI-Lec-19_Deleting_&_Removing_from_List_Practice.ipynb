{
  "nbformat": 4,
  "nbformat_minor": 0,
  "metadata": {
    "colab": {
      "provenance": [],
      "collapsed_sections": []
    },
    "kernelspec": {
      "name": "python3",
      "display_name": "Python 3"
    },
    "language_info": {
      "name": "python"
    }
  },
  "cells": [
    {
      "cell_type": "code",
      "execution_count": null,
      "metadata": {
        "colab": {
          "base_uri": "https://localhost:8080/"
        },
        "id": "0f24Jfj32n8f",
        "outputId": "da279e03-8c66-4a9a-84bb-f372bfe4144d"
      },
      "outputs": [
        {
          "output_type": "stream",
          "name": "stdout",
          "text": [
            "[1, 2, 3, 4, 5, 6]\n",
            "[1, 2, 4, 5, 6]\n",
            "[1, 2, 4, 6]\n",
            " Deleting value from using using del keyword\n",
            "\n",
            " [1, 2, 3, 4, 5, 6]\n",
            "[1, 2, 5, 6]\n",
            "[1, 2, 3, 4, 5, 6]\n",
            "Removing value from List using using listname.remove() function\n",
            "[1, 2, 3, 5, 6]\n"
          ]
        }
      ],
      "source": [
        "# Deleting or Removing Elements from List\n",
        "# Note : Although both are synonyms but there is a difference in Python how they are used\n",
        "\n",
        "# Deleting a value using the del keyword\n",
        "# If we know the exactly which value we want to remove then we use del dunction\n",
        "# The value is prmenetly erased is will not be returned \n",
        "\n",
        "arr=[1,2,3,4,5,6]\n",
        "# id 0 1 2 3 4 5\n",
        "print(arr)\n",
        "del arr[2]  # This will delete value at index number 2 from list\n",
        "print(arr)\n",
        "del arr[3]  # This will delete the value at index number 3 from list\n",
        "print(arr)\n",
        "\n",
        "# We can also delete more than one item from list  as\n",
        "arr=[1,2,3,4,5,6]\n",
        "# id 0 1 2 3 4 5\n",
        "print(\" Deleting value from using using del keyword\")\n",
        "print(\"\\n\",arr)\n",
        "del arr[2:4]  # This will delete values from index number 2 to 3 , 4 will not be included\n",
        "print(arr) # so values at index 2 and 3 are 3,5 will be deleted from list\n",
        "\n",
        "\n",
        "# To remove an item from list we use remove function. In its parameter we pass list item value\n",
        "# which we want to remove not the item index number\n",
        "arr=[1,2,3,4,5,6]\n",
        "# id 0 1 2 3 4 5\n",
        "print(arr)\n",
        "print(\"Removing value from List using using listname.remove() function\")\n",
        "arr.remove(4) # this will remove value 4 present at index 3 of the list\n",
        "print(arr)"
      ]
    },
    {
      "cell_type": "code",
      "source": [
        "# Popping Elements from Lists\n",
        "# Pop elements from List work in two ways\n",
        "# 1. We know the index of the value to remove\n",
        "# 2. We want to remove the element at the end / tail of the List\n",
        "\n",
        "# We can also delete more than one item from list  as\n",
        "arr=[\"A\",\"B\",\"C\",\"D\",\"E\",\"F\",\"G\"]\n",
        "# id  0   1   2   3   4   5    6\n",
        "print(\"List arr before poping last value \", arr)\n",
        "print(\"Removing last value from list using pop function\")\n",
        "arr.pop()\n",
        "print(\"List arr after poping last value \", arr)\n",
        "\n",
        "# If we want to remove a specific index number value we use pop as\n",
        "arr.pop(2) # This will remove element at index # 2 from list\n",
        "print(\"List arr after poping value at index 2\", arr)\n",
        "\n",
        "# Difference between del and pop()\n",
        "# The difference between del and pop() is that del does not return the deleted value\n",
        "# where as the pop() returns the deleted value\n",
        "\n",
        "val1=arr.pop()\n",
        "print(\"The value poped from list and stored in the variable var1 is = \", val1)\n",
        "\n",
        "val1=arr.pop(2)\n",
        "print(\"The value poped from list present at index 2 & stored in the variable var1 is = \", val1)\n",
        "\n"
      ],
      "metadata": {
        "colab": {
          "base_uri": "https://localhost:8080/"
        },
        "id": "8B7Uwmzw7ZGR",
        "outputId": "5fbba1c7-fa8a-442d-8484-ebb62390dff9"
      },
      "execution_count": null,
      "outputs": [
        {
          "output_type": "stream",
          "name": "stdout",
          "text": [
            "List arr before poping last value  ['A', 'B', 'C', 'D', 'E', 'F', 'G']\n",
            "Removing last value from list using pop function\n",
            "List arr after poping last value  ['A', 'B', 'C', 'D', 'E', 'F']\n",
            "List arr after poping value at index 2 ['A', 'B', 'D', 'E', 'F']\n",
            "The value poped from list and stored in the variable var1 is =  F\n",
            "The value poped from list present at index 2 & stored in the variable var1 is =  D\n"
          ]
        }
      ]
    }
  ]
}