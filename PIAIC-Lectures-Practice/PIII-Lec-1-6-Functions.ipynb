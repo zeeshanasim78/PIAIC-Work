{
  "nbformat": 4,
  "nbformat_minor": 0,
  "metadata": {
    "colab": {
      "provenance": [],
      "collapsed_sections": []
    },
    "kernelspec": {
      "name": "python3",
      "display_name": "Python 3"
    },
    "language_info": {
      "name": "python"
    }
  },
  "cells": [
    {
      "cell_type": "code",
      "execution_count": null,
      "metadata": {
        "id": "BxyPsf_krpdd"
      },
      "outputs": [],
      "source": [
        "# Python-III Lecture-1 Functions \n",
        "# Functions are away to acheve the modularity abd reusability in code\n",
        "# Modularar programming is the process of subdividing a computer program into separate sub programs\n",
        "# Reusability is using already developed code according to our requirment with out writing from scratch\n",
        "# Syntax to define a function is as under:\n",
        "#   def   function_name():\n",
        "#       function_body\n",
        "# Here def is the keyword to define function followed by function_name with paranthesis and : and then Function Body statements"
      ]
    },
    {
      "cell_type": "code",
      "source": [
        "# Python-III Lecture-2 Functions : How to Define a Function\n",
        "# Let us declare / define a simple function add_numbers()\n",
        "def add_numbers():\n",
        "  no1=int(input(\"Enter a int number\"))\n",
        "  no2=int(input(\"Enter another int number\"))\n",
        "  print(no1+no2)"
      ],
      "metadata": {
        "id": "z3nv1vLyt6T3"
      },
      "execution_count": null,
      "outputs": []
    },
    {
      "cell_type": "code",
      "source": [
        "# Python-III Lecture-3 Functions : How to Call a Function\n",
        "# To call a funciton we write the function name and parameters in () if there are any\n",
        "add_numbers()\n"
      ],
      "metadata": {
        "colab": {
          "base_uri": "https://localhost:8080/"
        },
        "id": "tBCnhDeavQSo",
        "outputId": "b0302800-9fa7-452d-b930-58b11f602333"
      },
      "execution_count": null,
      "outputs": [
        {
          "output_type": "stream",
          "name": "stdout",
          "text": [
            "Enter a int number343\n",
            "Enter another int number4343\n",
            "4686\n"
          ]
        }
      ]
    },
    {
      "cell_type": "code",
      "source": [
        "# Python-III Lecture-4 Functions : Passing Information Positional Arguments\n",
        "# At the time of the call of function we need to apss arguments and they are matched according to their position inthe function call\n",
        "# If we define some variable in the function name during declaration then these are its parameters.\n",
        "# We does not define any data type . At the time of call the variables accept the data type according to the values passed\n",
        "def add_numbers(no1 , no2):\n",
        "   print(no1+no2)\n",
        "   print(type(no1),type(no2))\n",
        "\n",
        "# Now When we call it as \n",
        "add_numbers(10,23)\n",
        "# Here no1 is defined as integer type and assigned value 10  and no2 is also defined as int and 23 value is assigned to it\n",
        "\n",
        "add_numbers(23.4 , 343.3)\n",
        "# Here no1 is defined as float type and assigned value 23.4  and no2 is also defined as float and 366.7 value is assigned to it\n",
        "\n",
        "add_numbers(23.4 , 343)\n",
        "# Here no1 is defined as float type and assigned value 23.4  and no2 is also defined as float and 366.7 value is assigned to it"
      ],
      "metadata": {
        "colab": {
          "base_uri": "https://localhost:8080/"
        },
        "id": "1YhUVWbzyeah",
        "outputId": "63b9d340-722d-4a7c-a336-d631c07e8461"
      },
      "execution_count": null,
      "outputs": [
        {
          "output_type": "stream",
          "name": "stdout",
          "text": [
            "33\n",
            "<class 'int'> <class 'int'>\n",
            "366.7\n",
            "<class 'float'> <class 'float'>\n",
            "366.4\n",
            "<class 'float'> <class 'int'>\n"
          ]
        }
      ]
    },
    {
      "cell_type": "code",
      "source": [
        "# Python-III Lecture-5 Functions : Passing Information Keyword Argument\n",
        "# There is another way to call same function when we specify variable name and its valueduring the function calling\n",
        "# Here we specify which variable should get which value\n",
        "# add_numbers(no2=1292.3,no1=56)\n",
        "\n",
        "# This way position does not matter and value is assigned to matching variable function parameter\n",
        "# Note : If the variable name is not correct Python will generate error\n",
        "# add_numbers(no4=34,no1=434)    # Will generate Error as no4 does not exists\n",
        "\n",
        "# Consider an other Example\n",
        "def fullName (firstName,middleName, lastName):\n",
        "  return f\"{firstName} {middleName} {lastName}\"\n",
        "  \n",
        "# Parameter name should be same as mentioned during defination\n",
        "#print(fullName(firstName=\"Zeeshan\",middleName=\"Asim\",lastName=\"Khan\"))\n",
        "\n",
        "# As we assigned parmaters values to the variable name so their position does not matter\n",
        "#fullName(middleName=\"Asim\",lastName=\"Khan\",firstName=\"Zeeshan\")\n",
        "\n",
        "\n",
        "# Now we can also given values to some parameters but those parameter should be at the end\n",
        "fullName(\"Zeeshan\",lastName=\"Khan\",middleName=\"Asim\")\n",
        "\n",
        "# If we call the above function as given below it will generate error as all arguments with name & values  must come at the last. At start only positional argumetns are allowed\n",
        "#fullName(lastName=\"Khan\",middleName=\"Asim\",\"Zeeshan\")\n",
        "\n",
        "\n",
        "\n"
      ],
      "metadata": {
        "colab": {
          "base_uri": "https://localhost:8080/",
          "height": 35
        },
        "id": "lFJdzeer6YpU",
        "outputId": "eab59b96-ffe2-4779-a41c-82a9f3bb9e91"
      },
      "execution_count": null,
      "outputs": [
        {
          "output_type": "execute_result",
          "data": {
            "text/plain": [
              "'Zeeshan Asim Khan'"
            ],
            "application/vnd.google.colaboratory.intrinsic+json": {
              "type": "string"
            }
          },
          "metadata": {},
          "execution_count": 22
        }
      ]
    },
    {
      "cell_type": "code",
      "source": [
        "# Python-III Lecture-6 Functions : Default Value Parameters\n",
        "# There are times when some parameter values are optional but still you need a default valuue in case someone does not provide that value to avoid and deterministic behaviour\n",
        "# We define the default value at the time of the defination of the function . We can define default value for some or all parameters\n",
        "\n",
        "def add_nos(no1=0,no2=0,no3=0,no4=0):\n",
        "  print( no1+no2+no3+no3)\n",
        "\n",
        "add_nos(10,20)\n",
        "add_nos(10)\n",
        "add_nos(10,20,30)\n",
        "add_nos()\n",
        "add_nos(no1=100,no3=50)\n",
        "\n",
        "print(\"=======================================================\")\n",
        "\n",
        "# It is important to note that all variables with default value should be at the end inthe parameters list\n",
        "def add_nos(no1,no2,no3=0,no4=0):\n",
        "  print( no1+no2+no3+no3)\n",
        "\n",
        "add_nos(10,20)\n",
        "add_nos(10,20,30)\n",
        "\n",
        "\n",
        "# This will generate error as the non defualt arguement follows default argument ; so all default arguments must be at the end\n",
        "# This function defination will generate error\n",
        "\n",
        "#def add_nos(no1=0,no2,no3,no4=0):\n",
        "#   print( no1+no2+no3+no3)\n"
      ],
      "metadata": {
        "colab": {
          "base_uri": "https://localhost:8080/",
          "height": 130
        },
        "id": "H8RougYJcmeA",
        "outputId": "337514d6-80f6-453a-aeb8-f17d301a1359"
      },
      "execution_count": null,
      "outputs": [
        {
          "output_type": "error",
          "ename": "SyntaxError",
          "evalue": "ignored",
          "traceback": [
            "\u001b[0;36m  File \u001b[0;32m\"<ipython-input-30-7bd009c17200>\"\u001b[0;36m, line \u001b[0;32m25\u001b[0m\n\u001b[0;31m    def add_nos(no1=0,no2,no3,no4=0):\u001b[0m\n\u001b[0m               ^\u001b[0m\n\u001b[0;31mSyntaxError\u001b[0m\u001b[0;31m:\u001b[0m non-default argument follows default argument\n"
          ]
        }
      ]
    },
    {
      "cell_type": "code",
      "source": [
        "# Python-III Lecture-7 Functions : Dealing with Unknow Number of Arguments\n"
      ],
      "metadata": {
        "id": "SkywFxYKkMgL"
      },
      "execution_count": null,
      "outputs": []
    }
  ]
}