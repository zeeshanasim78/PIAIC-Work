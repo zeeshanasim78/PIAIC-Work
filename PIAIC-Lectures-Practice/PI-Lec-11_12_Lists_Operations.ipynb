{
  "nbformat": 4,
  "nbformat_minor": 0,
  "metadata": {
    "colab": {
      "provenance": [],
      "collapsed_sections": []
    },
    "kernelspec": {
      "name": "python3",
      "display_name": "Python 3"
    },
    "language_info": {
      "name": "python"
    }
  },
  "cells": [
    {
      "cell_type": "code",
      "execution_count": null,
      "metadata": {
        "colab": {
          "base_uri": "https://localhost:8080/"
        },
        "id": "bQehZ3QrlQHv",
        "outputId": "29c05773-72d0-4b71-ccca-ad5966d7db27"
      },
      "outputs": [
        {
          "output_type": "stream",
          "name": "stdout",
          "text": [
            "The values of fruits inside the List are :  ['apple', 'banana', 'cherry']\n",
            "The value at the zero index is  apple\n",
            "The value at the index 2 is  cherry\n"
          ]
        }
      ],
      "source": [
        "# Python Lists and its Functions\n",
        "'''  \n",
        "A List is a data structure in Python that is mutable (Cannot be changed) or changeable, ordered sequence of elements.\n",
        "Each element or value that is inside of a list is called an item. Lists are used to store multiple items in a single variable.\n",
        "Lists are one of 4 built-in data types; One is used in Python to store collections of data, the other 3 are Tuple, Set, and Dictionary, all with different qualities and usage.\n",
        "Lists are created using square brackets\n",
        "mylist = [\"apple\", \"banana\", \"cherry\"]\n",
        "index no    0         1         2\n",
        "'''\n",
        "\n",
        "fruits=[\"apple\", \"banana\", \"cherry\"]\n",
        "print(\"The values of fruits inside the List are : \", fruits)\n",
        "print(\"The value at the zero index is \", fruits[0])\n",
        "print(\"The value at the index 2 is \", fruits[2])\n",
        "\n",
        "# List can contain multiple types of date like where as in array all data should be of same data type\n",
        "# numbers=[23,54.3,76.88,90.37]\n",
        "# mix=[\"Ali\", \"M. Afzal\",342, 34,\"BCS\", \"Married\", 3.45]\n",
        "# Note :  List items are ordered, changeable, and allow duplicate values.\n",
        "\n"
      ]
    },
    {
      "cell_type": "code",
      "source": [
        "#Common List Operation\n",
        "'''\n",
        "* Access Value\n",
        "Add new value at the end/tail of list\n",
        "Find Index of a value in List\n",
        "Slicing the element from list\n",
        "deleting and removing the elements from List\n",
        "Popping elements from the list\n",
        "'''\n",
        "\n",
        "names=[\"Nasir\",\"Ali\",\"Zeeshan\",\"Faisal\",\"Nadeem\"]\n",
        "# Index  0       1       2        3       4\n",
        "print(names)\n",
        "\n",
        "## How to Access the Items in the List\n",
        "print(names[1]) # To get item value at Index no 1\n",
        "# We can get the length of the List using len()\n",
        "print(\"Length of the List names is = \", len(names))\n",
        "\n",
        "# We can also Add member in the lst as \n",
        "names.append(\"Imtiaz\") # Will add this item at the end of the list\n",
        "names.append(\"Imran\")\n",
        "print(names)\n",
        "\n",
        "#We can also add item in List using Insert(). \n",
        "# The difference between append & insert is that append add value at the end of lst whereas\n",
        "# In Case of Insert we add item at specific index number \n",
        "names.insert(2,\"Iftikhar\") # To add a item / value at the Index # 2\n",
        "print(names)\n",
        "\n",
        "# To add multiple items in a list we used extend function. we need to pass a list in this function\n",
        "names.extend([\"Tanveer\",\"Kamran\", \"Imran\"])\n",
        "print(names)\n",
        "\n",
        "#To count the number of apperances of a item in the list we use count()\n",
        "print(\"Imran name is present\", names.count(\"Imran\") , \" times in the list\")\n",
        "\n",
        "# To find Index of a Value  we use Index()\n",
        "print(\"The name Ali is present at Index no \", names.index(\"Ali\") , \" in the list\")\n",
        "\n",
        "# To clear all items of list we can use the clear()\n",
        "names.clear()\n",
        "print(names)\n",
        "\n",
        "names=[\"Nasir\",\"Ali\",\"Zeeshan\",\"Faisal\",\"Nadeem\"]\n",
        "# To create a copy of list we use copy()\n",
        "new_names = names.copy()  # This will be copy by value . Means values of names list will be copied in the new list new_names\n",
        "\n",
        "# We can also is assignment operator for this purpose \n",
        "new_names = names # This is Copy by reference means both variable point to same list memory location\n",
        "\n",
        "# Now if we change in one list that will also appear in the second list as both\n",
        "# Variables point to same memory location\n",
        "new_names.append(\"Gul\")\n",
        "print(\"New Names List = \", new_names)\n",
        "print(\"Names List = \", names)\n",
        "\n"
      ],
      "metadata": {
        "colab": {
          "base_uri": "https://localhost:8080/"
        },
        "id": "PgySAVquFP_Z",
        "outputId": "6d908082-7480-4f0f-f21c-7ab1bcf36ed6"
      },
      "execution_count": null,
      "outputs": [
        {
          "output_type": "stream",
          "name": "stdout",
          "text": [
            "['Nasir', 'Ali', 'Zeeshan', 'Faisal', 'Nadeem']\n",
            "Ali\n",
            "Length of the List names is =  5\n",
            "['Nasir', 'Ali', 'Zeeshan', 'Faisal', 'Nadeem', 'Imtiaz', 'Imran']\n",
            "['Nasir', 'Ali', 'Iftikhar', 'Zeeshan', 'Faisal', 'Nadeem', 'Imtiaz', 'Imran']\n",
            "['Nasir', 'Ali', 'Iftikhar', 'Zeeshan', 'Faisal', 'Nadeem', 'Imtiaz', 'Imran', 'Tanveer', 'Kamran', 'Imran']\n",
            "Imran name is present 2  times in the list\n",
            "The name Ali is present at Index no  1  in the list\n",
            "[]\n",
            "New Names List =  ['Nasir', 'Ali', 'Zeeshan', 'Faisal', 'Nadeem', 'Gul']\n",
            "Names List =  ['Nasir', 'Ali', 'Zeeshan', 'Faisal', 'Nadeem', 'Gul']\n"
          ]
        }
      ]
    },
    {
      "cell_type": "code",
      "source": [
        "## Some More Function\n",
        "names=[\"Nasir\",\"Ali\",\"Zeeshan\",\"Faisal\",\"Nadeem\"]\n",
        "# Index # 0       1        2        3        4 \n",
        "# To remove a item from list we can use the del keyword \n",
        "print(\" List of names before del command\" , names)\n",
        "del names[1]  \n",
        "print(\" List of names after use of del command\",names)\n",
        "\n",
        "\n",
        "# We can also use the remove() of list to remove a item. We have to pass the item value to remove it\n",
        "names=[\"Nasir\",\"Ali\",\"Zeeshan\",\"Faisal\",\"Nadeem\"]\n",
        "# Index # 0       1        2        3        4 \n",
        "# To remove a item from list we can also use the remove() \n",
        "print(\"\\n List of names before using the List remove() function\" , names)\n",
        "names.remove(\"Ali\") \n",
        "print(\" List of names after using the List remove() function\",names)\n",
        "\n",
        "# We can also reove an item from a list using pop function but it alos return the removed value\n",
        "print(\"  \\n List of names before using the pop function \",names)\n",
        "pop_name=names.pop()\n",
        "print(\" List of names after using the pop function \",names)\n",
        "# We can also speicies the specific item index to remove that \n",
        "pop_name = names.pop(1)\n",
        "print(\" List of names after using the pop function at index 2\",names)\n",
        "print(\"The named that is poped is = \", pop_name)\n"
      ],
      "metadata": {
        "colab": {
          "base_uri": "https://localhost:8080/"
        },
        "id": "a5RgSlvfkon7",
        "outputId": "764c969c-a86a-435b-a289-a479f2480782"
      },
      "execution_count": null,
      "outputs": [
        {
          "output_type": "stream",
          "name": "stdout",
          "text": [
            " List of names before del command ['Nasir', 'Ali', 'Zeeshan', 'Faisal', 'Nadeem']\n",
            " List of names after use of del command ['Nasir', 'Zeeshan', 'Faisal', 'Nadeem']\n",
            "\n",
            " List of names before using the List remove() function ['Nasir', 'Ali', 'Zeeshan', 'Faisal', 'Nadeem']\n",
            " List of names after using the List remove() function ['Nasir', 'Zeeshan', 'Faisal', 'Nadeem']\n",
            "  \n",
            " List of names before using the pop function  ['Nasir', 'Zeeshan', 'Faisal', 'Nadeem']\n",
            " List of names after using the pop function  ['Nasir', 'Zeeshan', 'Faisal']\n",
            " List of names after using the pop function at index 2 ['Nasir', 'Faisal']\n",
            "The named that is poped is =  Zeeshan\n"
          ]
        }
      ]
    },
    {
      "cell_type": "code",
      "source": [
        "# To sort values inside the list we use sort()\n",
        "names=[\"Nasir\",\"Ali\",\"Zeeshan\",\"Faisal\",\"Nadeem\"]\n",
        "# Index # 0       1        2        3        4 \n",
        "# To sort list we can also use the sort() \n",
        "print(\"\\n List of names before sorting\" , names)\n",
        "names.sort()  # This will alphabetically sort the list in asceding order\n",
        "print(\" List of names after sorting  in Ascending Order\",names)\n",
        "\n",
        "names.sort(reverse=True)  # This will alphabetically sort the list in Desceding order\n",
        "print(\" List of names after sorting in Descending Order\",names)\n",
        "\n",
        "names=[\"Nasir\",\"Ali\",\"Zeeshan\",\"Faisal\",\"Nadeem\"]\n",
        "print(\"\\n List of names before reverse functions \",names)\n",
        "names.reverse()\n",
        "print(\" List of names after reverse functions \",names)"
      ],
      "metadata": {
        "colab": {
          "base_uri": "https://localhost:8080/"
        },
        "id": "gON5gPsAokfy",
        "outputId": "38858430-6e03-40c6-bd85-c58693486b7b"
      },
      "execution_count": null,
      "outputs": [
        {
          "output_type": "stream",
          "name": "stdout",
          "text": [
            "\n",
            " List of names before sorting ['Nasir', 'Ali', 'Zeeshan', 'Faisal', 'Nadeem']\n",
            " List of names after sorting  in Ascending Order ['Ali', 'Faisal', 'Nadeem', 'Nasir', 'Zeeshan']\n",
            " List of names after sorting in Descending Order ['Zeeshan', 'Nasir', 'Nadeem', 'Faisal', 'Ali']\n",
            "\n",
            " List of names before reverse functions  ['Nasir', 'Ali', 'Zeeshan', 'Faisal', 'Nadeem']\n",
            " List of names after reverse functions  ['Nadeem', 'Faisal', 'Zeeshan', 'Ali', 'Nasir']\n"
          ]
        }
      ]
    }
  ]
}