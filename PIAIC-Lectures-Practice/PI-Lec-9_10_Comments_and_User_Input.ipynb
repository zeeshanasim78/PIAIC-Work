{
  "nbformat": 4,
  "nbformat_minor": 0,
  "metadata": {
    "colab": {
      "provenance": [],
      "collapsed_sections": []
    },
    "kernelspec": {
      "name": "python3",
      "display_name": "Python 3"
    },
    "language_info": {
      "name": "python"
    }
  },
  "cells": [
    {
      "cell_type": "code",
      "execution_count": null,
      "metadata": {
        "colab": {
          "base_uri": "https://localhost:8080/"
        },
        "id": "zH8tFRFQgYUp",
        "outputId": "47a2e435-d218-4fc3-f751-d483cb8fe155"
      },
      "outputs": [
        {
          "output_type": "stream",
          "name": "stdout",
          "text": [
            "This is print statement and after that a comment is mentioned\n",
            "This statement is after Multi Line Comment\n",
            "Enter your age12\n",
            "Entr your age12\n",
            "The age you entered + 1 is equal to :  13\n"
          ]
        }
      ],
      "source": [
        "# Python Comments and User Inputs\n",
        "\n",
        "# Python Comments\n",
        "# Comments can be used to explain Python code.\n",
        "# Comments are for the humans not the machine\n",
        "# Comments can be used to make the code more readable.\n",
        "# Comments can be used to prevent execution when testing code.\n",
        "# There are two types of comments\n",
        "# 1. Single Line Comment in Python starts with a #\n",
        "# The following print staement is the example of the Single line comment\n",
        "print(\"This is print statement and after that a comment is mentioned\")  # This is a comment\n",
        "\n",
        "# 2. Multi Line Comments\n",
        "# Multi Line Comment start with Triple Quote \"\"\" and also end with \"\"\"\n",
        "# Multi Line Comment can be used for multiple lines or paragraphs . e.g:\n",
        "\"\"\"\n",
        "This a an Example of \n",
        "  a Multi Line\n",
        "      Comment.. Please note\n",
        "  \"\"\"\n",
        "print(\"This statement is after Multi Line Comment\")\n",
        "\n",
        "\n",
        "# Python User Input\n",
        "x=input(\"Enter your age :\")  # Will store the age as string value\n",
        "# print(x+1)  # Thhis statement will return error as input value is of string type other in integer\n",
        "\n",
        "# To print this we need to Type Cast the input into integer while storing the value in variable as\n",
        "print(\"The age you entered + 1 is equal to : \", x+1) \n",
        "\n"
      ]
    }
  ]
}