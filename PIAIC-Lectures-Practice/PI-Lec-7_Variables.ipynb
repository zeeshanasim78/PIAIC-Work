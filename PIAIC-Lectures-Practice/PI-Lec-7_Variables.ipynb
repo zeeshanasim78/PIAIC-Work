{
  "nbformat": 4,
  "nbformat_minor": 0,
  "metadata": {
    "colab": {
      "provenance": [],
      "collapsed_sections": []
    },
    "kernelspec": {
      "name": "python3",
      "display_name": "Python 3"
    },
    "language_info": {
      "name": "python"
    }
  },
  "cells": [
    {
      "cell_type": "code",
      "execution_count": null,
      "metadata": {
        "colab": {
          "base_uri": "https://localhost:8080/"
        },
        "id": "rDv-Cy6Inxnz",
        "outputId": "1bf94fd7-576a-4400-bb5c-0517460388ba"
      },
      "outputs": [
        {
          "output_type": "stream",
          "name": "stdout",
          "text": [
            " The value of variable v is =  5\n",
            " The type of the variable v is  <class 'int'>\n",
            " The value of variable v is now  Ali\n",
            " The type of variable v now is  <class 'str'>\n"
          ]
        }
      ],
      "source": [
        "## Python Variables\n",
        "## Variables are containers for storing data values.\n",
        "## Please Note Python has no command for declaring a variable.\n",
        "## A variable is created the moment you first assign a value to it.\n",
        "## Variables do not need to be declared with any particular type, and can even change type after they have been set.\n",
        "\n",
        "v=5 ## x is a variable and a integer type value 5 is assigned to it\n",
        "print(\" The value of variable v is = \", v )\n",
        "print(\" The type of the variable v is \", type(v))\n",
        "\n",
        "v = \"Ali\"\n",
        "print(\" The value of variable v is now \" , v)\n",
        "print(\" The type of variable v now is \", type(v))"
      ]
    },
    {
      "cell_type": "code",
      "source": [],
      "metadata": {
        "id": "6vpnps3D13dv"
      },
      "execution_count": null,
      "outputs": []
    }
  ]
}